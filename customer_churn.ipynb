{
  "cells": [
    {
      "cell_type": "code",
      "source": [
        "import pandas as pd\n",
        "import numpy as np\n",
        "import matplotlib.pyplot as plt\n",
        "import mltable\n",
        "from azure.ai.ml import MLClient\n",
        "from azure.identity import DefaultAzureCredential\n",
        "\n",
        "from sklearn.model_selection import train_test_split\n",
        "from sklearn.preprocessing import StandardScaler, OneHotEncoder\n",
        "from sklearn.impute import SimpleImputer\n",
        "from sklearn.compose import ColumnTransformer\n",
        "from sklearn.pipeline import Pipeline\n",
        "from sklearn.metrics import roc_curve\n",
        "#from imblearn.over_sampling import SMOTE\n",
        "#from imblearn.under_sampling import RandomUnderSampler\n",
        "#from imblearn.pipeline import Pipeline as ImbPipeline\n",
        "#from azureml.train.automl import AutoMLConfig\n",
        "import joblib\n",
        "from sklearn.metrics import classification_report, confusion_matrix, roc_auc_score"
      ],
      "outputs": [],
      "execution_count": 1,
      "metadata": {
        "gather": {
          "logged": 1728378372080
        }
      }
    },
    {
      "cell_type": "code",
      "source": [
        "ml_client = MLClient.from_config(credential=DefaultAzureCredential())\n",
        "data_asset = ml_client.data.get(\"tele_customer_data\", version=\"1\")\n",
        "\n",
        "tbl = mltable.load(f'azureml:/{data_asset.id}')\n",
        "\n",
        "df = tbl.to_pandas_dataframe()\n",
        "df.head()"
      ],
      "outputs": [
        {
          "output_type": "stream",
          "name": "stderr",
          "text": "Found the config file in: /config.json\n"
        },
        {
          "output_type": "execute_result",
          "execution_count": 2,
          "data": {
            "text/plain": "   customerID  gender  SeniorCitizen  Partner  Dependents  tenure  \\\n0  7590-VHVEG  Female              0     True       False       1   \n1  5575-GNVDE    Male              0    False       False      34   \n2  3668-QPYBK    Male              0    False       False       2   \n3  7795-CFOCW    Male              0    False       False      45   \n4  9237-HQITU  Female              0    False       False       2   \n\n   PhoneService     MultipleLines InternetService OnlineSecurity  ...  \\\n0         False  No phone service             DSL             No  ...   \n1          True                No             DSL            Yes  ...   \n2          True                No             DSL            Yes  ...   \n3         False  No phone service             DSL            Yes  ...   \n4          True                No     Fiber optic             No  ...   \n\n  DeviceProtection TechSupport StreamingTV StreamingMovies        Contract  \\\n0               No          No          No              No  Month-to-month   \n1              Yes          No          No              No        One year   \n2               No          No          No              No  Month-to-month   \n3              Yes         Yes          No              No        One year   \n4               No          No          No              No  Month-to-month   \n\n  PaperlessBilling              PaymentMethod MonthlyCharges  TotalCharges  \\\n0             True           Electronic check          29.85         29.85   \n1            False               Mailed check          56.95       1889.50   \n2             True               Mailed check          53.85        108.15   \n3            False  Bank transfer (automatic)          42.30       1840.75   \n4             True           Electronic check          70.70        151.65   \n\n   Churn  \n0  False  \n1  False  \n2   True  \n3  False  \n4   True  \n\n[5 rows x 21 columns]",
            "text/html": "<div>\n<style scoped>\n    .dataframe tbody tr th:only-of-type {\n        vertical-align: middle;\n    }\n\n    .dataframe tbody tr th {\n        vertical-align: top;\n    }\n\n    .dataframe thead th {\n        text-align: right;\n    }\n</style>\n<table border=\"1\" class=\"dataframe\">\n  <thead>\n    <tr style=\"text-align: right;\">\n      <th></th>\n      <th>customerID</th>\n      <th>gender</th>\n      <th>SeniorCitizen</th>\n      <th>Partner</th>\n      <th>Dependents</th>\n      <th>tenure</th>\n      <th>PhoneService</th>\n      <th>MultipleLines</th>\n      <th>InternetService</th>\n      <th>OnlineSecurity</th>\n      <th>...</th>\n      <th>DeviceProtection</th>\n      <th>TechSupport</th>\n      <th>StreamingTV</th>\n      <th>StreamingMovies</th>\n      <th>Contract</th>\n      <th>PaperlessBilling</th>\n      <th>PaymentMethod</th>\n      <th>MonthlyCharges</th>\n      <th>TotalCharges</th>\n      <th>Churn</th>\n    </tr>\n  </thead>\n  <tbody>\n    <tr>\n      <th>0</th>\n      <td>7590-VHVEG</td>\n      <td>Female</td>\n      <td>0</td>\n      <td>True</td>\n      <td>False</td>\n      <td>1</td>\n      <td>False</td>\n      <td>No phone service</td>\n      <td>DSL</td>\n      <td>No</td>\n      <td>...</td>\n      <td>No</td>\n      <td>No</td>\n      <td>No</td>\n      <td>No</td>\n      <td>Month-to-month</td>\n      <td>True</td>\n      <td>Electronic check</td>\n      <td>29.85</td>\n      <td>29.85</td>\n      <td>False</td>\n    </tr>\n    <tr>\n      <th>1</th>\n      <td>5575-GNVDE</td>\n      <td>Male</td>\n      <td>0</td>\n      <td>False</td>\n      <td>False</td>\n      <td>34</td>\n      <td>True</td>\n      <td>No</td>\n      <td>DSL</td>\n      <td>Yes</td>\n      <td>...</td>\n      <td>Yes</td>\n      <td>No</td>\n      <td>No</td>\n      <td>No</td>\n      <td>One year</td>\n      <td>False</td>\n      <td>Mailed check</td>\n      <td>56.95</td>\n      <td>1889.50</td>\n      <td>False</td>\n    </tr>\n    <tr>\n      <th>2</th>\n      <td>3668-QPYBK</td>\n      <td>Male</td>\n      <td>0</td>\n      <td>False</td>\n      <td>False</td>\n      <td>2</td>\n      <td>True</td>\n      <td>No</td>\n      <td>DSL</td>\n      <td>Yes</td>\n      <td>...</td>\n      <td>No</td>\n      <td>No</td>\n      <td>No</td>\n      <td>No</td>\n      <td>Month-to-month</td>\n      <td>True</td>\n      <td>Mailed check</td>\n      <td>53.85</td>\n      <td>108.15</td>\n      <td>True</td>\n    </tr>\n    <tr>\n      <th>3</th>\n      <td>7795-CFOCW</td>\n      <td>Male</td>\n      <td>0</td>\n      <td>False</td>\n      <td>False</td>\n      <td>45</td>\n      <td>False</td>\n      <td>No phone service</td>\n      <td>DSL</td>\n      <td>Yes</td>\n      <td>...</td>\n      <td>Yes</td>\n      <td>Yes</td>\n      <td>No</td>\n      <td>No</td>\n      <td>One year</td>\n      <td>False</td>\n      <td>Bank transfer (automatic)</td>\n      <td>42.30</td>\n      <td>1840.75</td>\n      <td>False</td>\n    </tr>\n    <tr>\n      <th>4</th>\n      <td>9237-HQITU</td>\n      <td>Female</td>\n      <td>0</td>\n      <td>False</td>\n      <td>False</td>\n      <td>2</td>\n      <td>True</td>\n      <td>No</td>\n      <td>Fiber optic</td>\n      <td>No</td>\n      <td>...</td>\n      <td>No</td>\n      <td>No</td>\n      <td>No</td>\n      <td>No</td>\n      <td>Month-to-month</td>\n      <td>True</td>\n      <td>Electronic check</td>\n      <td>70.70</td>\n      <td>151.65</td>\n      <td>True</td>\n    </tr>\n  </tbody>\n</table>\n<p>5 rows × 21 columns</p>\n</div>"
          },
          "metadata": {}
        }
      ],
      "execution_count": 2,
      "metadata": {
        "jupyter": {
          "source_hidden": false,
          "outputs_hidden": false
        },
        "nteract": {
          "transient": {
            "deleting": false
          }
        },
        "gather": {
          "logged": 1728378377507
        }
      }
    },
    {
      "cell_type": "code",
      "source": [
        "df.shape"
      ],
      "outputs": [
        {
          "output_type": "execute_result",
          "execution_count": 3,
          "data": {
            "text/plain": "(7043, 21)"
          },
          "metadata": {}
        }
      ],
      "execution_count": 3,
      "metadata": {
        "jupyter": {
          "source_hidden": false,
          "outputs_hidden": false
        },
        "nteract": {
          "transient": {
            "deleting": false
          }
        },
        "gather": {
          "logged": 1728378377705
        }
      }
    },
    {
      "cell_type": "code",
      "source": [
        "df.describe()"
      ],
      "outputs": [
        {
          "output_type": "execute_result",
          "execution_count": 4,
          "data": {
            "text/plain": "       SeniorCitizen       tenure  MonthlyCharges  TotalCharges\ncount    7043.000000  7043.000000     7043.000000   7032.000000\nmean        0.162147    32.371149       64.761692   2283.300441\nstd         0.368612    24.559481       30.090047   2266.771362\nmin         0.000000     0.000000       18.250000     18.800000\n25%         0.000000     9.000000       35.500000    401.450000\n50%         0.000000    29.000000       70.350000   1397.475000\n75%         0.000000    55.000000       89.850000   3794.737500\nmax         1.000000    72.000000      118.750000   8684.800000",
            "text/html": "<div>\n<style scoped>\n    .dataframe tbody tr th:only-of-type {\n        vertical-align: middle;\n    }\n\n    .dataframe tbody tr th {\n        vertical-align: top;\n    }\n\n    .dataframe thead th {\n        text-align: right;\n    }\n</style>\n<table border=\"1\" class=\"dataframe\">\n  <thead>\n    <tr style=\"text-align: right;\">\n      <th></th>\n      <th>SeniorCitizen</th>\n      <th>tenure</th>\n      <th>MonthlyCharges</th>\n      <th>TotalCharges</th>\n    </tr>\n  </thead>\n  <tbody>\n    <tr>\n      <th>count</th>\n      <td>7043.000000</td>\n      <td>7043.000000</td>\n      <td>7043.000000</td>\n      <td>7032.000000</td>\n    </tr>\n    <tr>\n      <th>mean</th>\n      <td>0.162147</td>\n      <td>32.371149</td>\n      <td>64.761692</td>\n      <td>2283.300441</td>\n    </tr>\n    <tr>\n      <th>std</th>\n      <td>0.368612</td>\n      <td>24.559481</td>\n      <td>30.090047</td>\n      <td>2266.771362</td>\n    </tr>\n    <tr>\n      <th>min</th>\n      <td>0.000000</td>\n      <td>0.000000</td>\n      <td>18.250000</td>\n      <td>18.800000</td>\n    </tr>\n    <tr>\n      <th>25%</th>\n      <td>0.000000</td>\n      <td>9.000000</td>\n      <td>35.500000</td>\n      <td>401.450000</td>\n    </tr>\n    <tr>\n      <th>50%</th>\n      <td>0.000000</td>\n      <td>29.000000</td>\n      <td>70.350000</td>\n      <td>1397.475000</td>\n    </tr>\n    <tr>\n      <th>75%</th>\n      <td>0.000000</td>\n      <td>55.000000</td>\n      <td>89.850000</td>\n      <td>3794.737500</td>\n    </tr>\n    <tr>\n      <th>max</th>\n      <td>1.000000</td>\n      <td>72.000000</td>\n      <td>118.750000</td>\n      <td>8684.800000</td>\n    </tr>\n  </tbody>\n</table>\n</div>"
          },
          "metadata": {}
        }
      ],
      "execution_count": 4,
      "metadata": {
        "jupyter": {
          "source_hidden": false,
          "outputs_hidden": false
        },
        "nteract": {
          "transient": {
            "deleting": false
          }
        },
        "gather": {
          "logged": 1728378377868
        }
      }
    },
    {
      "cell_type": "code",
      "source": [
        "df.info()"
      ],
      "outputs": [
        {
          "output_type": "stream",
          "name": "stdout",
          "text": "<class 'pandas.core.frame.DataFrame'>\nRangeIndex: 7043 entries, 0 to 7042\nData columns (total 21 columns):\n #   Column            Non-Null Count  Dtype  \n---  ------            --------------  -----  \n 0   customerID        7043 non-null   object \n 1   gender            7043 non-null   object \n 2   SeniorCitizen     7043 non-null   int64  \n 3   Partner           7043 non-null   bool   \n 4   Dependents        7043 non-null   bool   \n 5   tenure            7043 non-null   int64  \n 6   PhoneService      7043 non-null   bool   \n 7   MultipleLines     7043 non-null   object \n 8   InternetService   7043 non-null   object \n 9   OnlineSecurity    7043 non-null   object \n 10  OnlineBackup      7043 non-null   object \n 11  DeviceProtection  7043 non-null   object \n 12  TechSupport       7043 non-null   object \n 13  StreamingTV       7043 non-null   object \n 14  StreamingMovies   7043 non-null   object \n 15  Contract          7043 non-null   object \n 16  PaperlessBilling  7043 non-null   bool   \n 17  PaymentMethod     7043 non-null   object \n 18  MonthlyCharges    7043 non-null   float64\n 19  TotalCharges      7032 non-null   float64\n 20  Churn             7043 non-null   bool   \ndtypes: bool(5), float64(2), int64(2), object(12)\nmemory usage: 914.9+ KB\n"
        }
      ],
      "execution_count": 5,
      "metadata": {
        "jupyter": {
          "source_hidden": false,
          "outputs_hidden": false
        },
        "nteract": {
          "transient": {
            "deleting": false
          }
        },
        "gather": {
          "logged": 1728378378022
        }
      }
    },
    {
      "cell_type": "code",
      "source": [
        "df.isnull().sum()"
      ],
      "outputs": [
        {
          "output_type": "execute_result",
          "execution_count": 6,
          "data": {
            "text/plain": "customerID           0\ngender               0\nSeniorCitizen        0\nPartner              0\nDependents           0\ntenure               0\nPhoneService         0\nMultipleLines        0\nInternetService      0\nOnlineSecurity       0\nOnlineBackup         0\nDeviceProtection     0\nTechSupport          0\nStreamingTV          0\nStreamingMovies      0\nContract             0\nPaperlessBilling     0\nPaymentMethod        0\nMonthlyCharges       0\nTotalCharges        11\nChurn                0\ndtype: int64"
          },
          "metadata": {}
        }
      ],
      "execution_count": 6,
      "metadata": {
        "jupyter": {
          "source_hidden": false,
          "outputs_hidden": false
        },
        "nteract": {
          "transient": {
            "deleting": false
          }
        },
        "gather": {
          "logged": 1728378378273
        }
      }
    },
    {
      "cell_type": "code",
      "source": [
        "df['TotalCharges'].fillna(df['TotalCharges'].mean(), inplace=True)\n"
      ],
      "outputs": [],
      "execution_count": 7,
      "metadata": {
        "jupyter": {
          "source_hidden": false,
          "outputs_hidden": false
        },
        "nteract": {
          "transient": {
            "deleting": false
          }
        },
        "gather": {
          "logged": 1728378378439
        }
      }
    },
    {
      "cell_type": "code",
      "source": [
        "import pip\n",
        "pip.main(['install','seaborn'])"
      ],
      "outputs": [
        {
          "output_type": "stream",
          "name": "stderr",
          "text": "/anaconda/envs/azureml_py310_sdkv2/lib/python3.10/site-packages/_distutils_hack/__init__.py:31: UserWarning: Setuptools is replacing distutils. Support for replacing an already imported distutils is deprecated. In the future, this condition will fail. Register concerns at https://github.com/pypa/setuptools/issues/new?template=distutils-deprecation.yml\n  warnings.warn(\nWARNING: pip is being invoked by an old script wrapper. This will fail in a future version of pip.\nPlease see https://github.com/pypa/pip/issues/5599 for advice on fixing the underlying issue.\nTo avoid this problem you can invoke Python with '-m pip' instead of running pip directly.\n"
        },
        {
          "output_type": "display_data",
          "data": {
            "text/plain": "Requirement already satisfied: seaborn in /anaconda/envs/azureml_py310_sdkv2/lib/python3.10/site-packages (0.13.2)\n",
            "text/html": "<pre style=\"white-space:pre;overflow-x:auto;line-height:normal;font-family:Menlo,'DejaVu Sans Mono',consolas,'Courier New',monospace\">Requirement already satisfied: seaborn in /anaconda/envs/azureml_py310_sdkv2/lib/python3.10/site-packages (0.13.2)\n</pre>\n"
          },
          "metadata": {}
        },
        {
          "output_type": "display_data",
          "data": {
            "text/plain": "Requirement already satisfied: numpy!=1.24.0,>=1.20 in /anaconda/envs/azureml_py310_sdkv2/lib/python3.10/site-packages (from seaborn) (1.23.5)\n",
            "text/html": "<pre style=\"white-space:pre;overflow-x:auto;line-height:normal;font-family:Menlo,'DejaVu Sans Mono',consolas,'Courier New',monospace\">Requirement already satisfied: numpy!=1.24.0,&gt;=1.20 in /anaconda/envs/azureml_py310_sdkv2/lib/python3.10/site-packages (from seaborn) (1.23.5)\n</pre>\n"
          },
          "metadata": {}
        },
        {
          "output_type": "display_data",
          "data": {
            "text/plain": "Requirement already satisfied: pandas>=1.2 in /anaconda/envs/azureml_py310_sdkv2/lib/python3.10/site-packages (from seaborn) (1.3.5)\n",
            "text/html": "<pre style=\"white-space:pre;overflow-x:auto;line-height:normal;font-family:Menlo,'DejaVu Sans Mono',consolas,'Courier New',monospace\">Requirement already satisfied: pandas&gt;=1.2 in /anaconda/envs/azureml_py310_sdkv2/lib/python3.10/site-packages (from seaborn) (1.3.5)\n</pre>\n"
          },
          "metadata": {}
        },
        {
          "output_type": "display_data",
          "data": {
            "text/plain": "Requirement already satisfied: matplotlib!=3.6.1,>=3.4 in /anaconda/envs/azureml_py310_sdkv2/lib/python3.10/site-packages (from seaborn) (3.9.2)\n",
            "text/html": "<pre style=\"white-space:pre;overflow-x:auto;line-height:normal;font-family:Menlo,'DejaVu Sans Mono',consolas,'Courier New',monospace\">Requirement already satisfied: matplotlib!=3.6.1,&gt;=3.4 in /anaconda/envs/azureml_py310_sdkv2/lib/python3.10/site-packages (from seaborn) (3.9.2)\n</pre>\n"
          },
          "metadata": {}
        },
        {
          "output_type": "display_data",
          "data": {
            "text/plain": "Requirement already satisfied: contourpy>=1.0.1 in /anaconda/envs/azureml_py310_sdkv2/lib/python3.10/site-packages (from matplotlib!=3.6.1,>=3.4->seaborn) (1.3.0)\n",
            "text/html": "<pre style=\"white-space:pre;overflow-x:auto;line-height:normal;font-family:Menlo,'DejaVu Sans Mono',consolas,'Courier New',monospace\">Requirement already satisfied: contourpy&gt;=1.0.1 in /anaconda/envs/azureml_py310_sdkv2/lib/python3.10/site-packages (from matplotlib!=3.6.1,&gt;=3.4-&gt;seaborn) (1.3.0)\n</pre>\n"
          },
          "metadata": {}
        },
        {
          "output_type": "display_data",
          "data": {
            "text/plain": "Requirement already satisfied: cycler>=0.10 in /anaconda/envs/azureml_py310_sdkv2/lib/python3.10/site-packages (from matplotlib!=3.6.1,>=3.4->seaborn) (0.12.1)\n",
            "text/html": "<pre style=\"white-space:pre;overflow-x:auto;line-height:normal;font-family:Menlo,'DejaVu Sans Mono',consolas,'Courier New',monospace\">Requirement already satisfied: cycler&gt;=0.10 in /anaconda/envs/azureml_py310_sdkv2/lib/python3.10/site-packages (from matplotlib!=3.6.1,&gt;=3.4-&gt;seaborn) (0.12.1)\n</pre>\n"
          },
          "metadata": {}
        },
        {
          "output_type": "display_data",
          "data": {
            "text/plain": "Requirement already satisfied: fonttools>=4.22.0 in /anaconda/envs/azureml_py310_sdkv2/lib/python3.10/site-packages (from matplotlib!=3.6.1,>=3.4->seaborn) (4.53.1)\n",
            "text/html": "<pre style=\"white-space:pre;overflow-x:auto;line-height:normal;font-family:Menlo,'DejaVu Sans Mono',consolas,'Courier New',monospace\">Requirement already satisfied: fonttools&gt;=4.22.0 in /anaconda/envs/azureml_py310_sdkv2/lib/python3.10/site-packages (from matplotlib!=3.6.1,&gt;=3.4-&gt;seaborn) (4.53.1)\n</pre>\n"
          },
          "metadata": {}
        },
        {
          "output_type": "display_data",
          "data": {
            "text/plain": "Requirement already satisfied: kiwisolver>=1.3.1 in /anaconda/envs/azureml_py310_sdkv2/lib/python3.10/site-packages (from matplotlib!=3.6.1,>=3.4->seaborn) (1.4.7)\n",
            "text/html": "<pre style=\"white-space:pre;overflow-x:auto;line-height:normal;font-family:Menlo,'DejaVu Sans Mono',consolas,'Courier New',monospace\">Requirement already satisfied: kiwisolver&gt;=1.3.1 in /anaconda/envs/azureml_py310_sdkv2/lib/python3.10/site-packages (from matplotlib!=3.6.1,&gt;=3.4-&gt;seaborn) (1.4.7)\n</pre>\n"
          },
          "metadata": {}
        },
        {
          "output_type": "display_data",
          "data": {
            "text/plain": "Requirement already satisfied: packaging>=20.0 in /anaconda/envs/azureml_py310_sdkv2/lib/python3.10/site-packages (from matplotlib!=3.6.1,>=3.4->seaborn) (24.1)\n",
            "text/html": "<pre style=\"white-space:pre;overflow-x:auto;line-height:normal;font-family:Menlo,'DejaVu Sans Mono',consolas,'Courier New',monospace\">Requirement already satisfied: packaging&gt;=20.0 in /anaconda/envs/azureml_py310_sdkv2/lib/python3.10/site-packages (from matplotlib!=3.6.1,&gt;=3.4-&gt;seaborn) (24.1)\n</pre>\n"
          },
          "metadata": {}
        },
        {
          "output_type": "display_data",
          "data": {
            "text/plain": "Requirement already satisfied: pillow>=8 in /anaconda/envs/azureml_py310_sdkv2/lib/python3.10/site-packages (from matplotlib!=3.6.1,>=3.4->seaborn) (10.4.0)\n",
            "text/html": "<pre style=\"white-space:pre;overflow-x:auto;line-height:normal;font-family:Menlo,'DejaVu Sans Mono',consolas,'Courier New',monospace\">Requirement already satisfied: pillow&gt;=8 in /anaconda/envs/azureml_py310_sdkv2/lib/python3.10/site-packages (from matplotlib!=3.6.1,&gt;=3.4-&gt;seaborn) (10.4.0)\n</pre>\n"
          },
          "metadata": {}
        },
        {
          "output_type": "display_data",
          "data": {
            "text/plain": "Requirement already satisfied: pyparsing>=2.3.1 in /anaconda/envs/azureml_py310_sdkv2/lib/python3.10/site-packages (from matplotlib!=3.6.1,>=3.4->seaborn) (3.1.4)\n",
            "text/html": "<pre style=\"white-space:pre;overflow-x:auto;line-height:normal;font-family:Menlo,'DejaVu Sans Mono',consolas,'Courier New',monospace\">Requirement already satisfied: pyparsing&gt;=2.3.1 in /anaconda/envs/azureml_py310_sdkv2/lib/python3.10/site-packages (from matplotlib!=3.6.1,&gt;=3.4-&gt;seaborn) (3.1.4)\n</pre>\n"
          },
          "metadata": {}
        },
        {
          "output_type": "display_data",
          "data": {
            "text/plain": "Requirement already satisfied: python-dateutil>=2.7 in /anaconda/envs/azureml_py310_sdkv2/lib/python3.10/site-packages (from matplotlib!=3.6.1,>=3.4->seaborn) (2.9.0)\n",
            "text/html": "<pre style=\"white-space:pre;overflow-x:auto;line-height:normal;font-family:Menlo,'DejaVu Sans Mono',consolas,'Courier New',monospace\">Requirement already satisfied: python-dateutil&gt;=2.7 in /anaconda/envs/azureml_py310_sdkv2/lib/python3.10/site-packages (from matplotlib!=3.6.1,&gt;=3.4-&gt;seaborn) (2.9.0)\n</pre>\n"
          },
          "metadata": {}
        },
        {
          "output_type": "display_data",
          "data": {
            "text/plain": "Requirement already satisfied: pytz>=2017.3 in /anaconda/envs/azureml_py310_sdkv2/lib/python3.10/site-packages (from pandas>=1.2->seaborn) (2024.2)\n",
            "text/html": "<pre style=\"white-space:pre;overflow-x:auto;line-height:normal;font-family:Menlo,'DejaVu Sans Mono',consolas,'Courier New',monospace\">Requirement already satisfied: pytz&gt;=2017.3 in /anaconda/envs/azureml_py310_sdkv2/lib/python3.10/site-packages (from pandas&gt;=1.2-&gt;seaborn) (2024.2)\n</pre>\n"
          },
          "metadata": {}
        },
        {
          "output_type": "display_data",
          "data": {
            "text/plain": "Requirement already satisfied: six>=1.5 in /anaconda/envs/azureml_py310_sdkv2/lib/python3.10/site-packages (from python-dateutil>=2.7->matplotlib!=3.6.1,>=3.4->seaborn) (1.16.0)\n",
            "text/html": "<pre style=\"white-space:pre;overflow-x:auto;line-height:normal;font-family:Menlo,'DejaVu Sans Mono',consolas,'Courier New',monospace\">Requirement already satisfied: six&gt;=1.5 in /anaconda/envs/azureml_py310_sdkv2/lib/python3.10/site-packages (from python-dateutil&gt;=2.7-&gt;matplotlib!=3.6.1,&gt;=3.4-&gt;seaborn) (1.16.0)\n</pre>\n"
          },
          "metadata": {}
        },
        {
          "output_type": "execute_result",
          "execution_count": 8,
          "data": {
            "text/plain": "0"
          },
          "metadata": {}
        }
      ],
      "execution_count": 8,
      "metadata": {
        "jupyter": {
          "source_hidden": false,
          "outputs_hidden": false
        },
        "nteract": {
          "transient": {
            "deleting": false
          }
        },
        "gather": {
          "logged": 1728378379863
        }
      }
    },
    {
      "cell_type": "code",
      "source": [
        "\n",
        "import seaborn as sns\n",
        "plt.figure(figsize=(8, 6))\n",
        "sns.countplot(x='Churn', data=df)\n",
        "plt.title('Distribution of Churn')\n",
        "plt.show()"
      ],
      "outputs": [
        {
          "output_type": "display_data",
          "data": {
            "text/plain": "<Figure size 800x600 with 1 Axes>",
            "image/png": "[encoded data removed]"
          },
          "metadata": {}
        }
      ],
      "execution_count": 9,
      "metadata": {
        "jupyter": {
          "source_hidden": false,
          "outputs_hidden": false
        },
        "nteract": {
          "transient": {
            "deleting": false
          }
        },
        "gather": {
          "logged": 1728378380047
        }
      }
    },
    {
      "cell_type": "code",
      "source": [
        "numeric_columns = df.select_dtypes(include=['int64', 'float64']).columns\n",
        "correlation_matrix = df[numeric_columns].corr()\n",
        "plt.figure(figsize=(8, 6))\n",
        "sns.heatmap(correlation_matrix, annot=True, cmap='coolwarm')\n",
        "plt.title('Correlation Matrix of Numeric Features')\n",
        "plt.show()"
      ],
      "outputs": [
        {
          "output_type": "display_data",
          "data": {
            "text/plain": "<Figure size 800x600 with 2 Axes>",
            "image/png": "[encoded data removed]"
          },
          "metadata": {}
        }
      ],
      "execution_count": 10,
      "metadata": {
        "jupyter": {
          "source_hidden": false,
          "outputs_hidden": false
        },
        "nteract": {
          "transient": {
            "deleting": false
          }
        },
        "gather": {
          "logged": 1728378380475
        }
      }
    },
    {
      "cell_type": "code",
      "source": [
        "df.columns"
      ],
      "outputs": [
        {
          "output_type": "execute_result",
          "execution_count": 11,
          "data": {
            "text/plain": "Index(['customerID', 'gender', 'SeniorCitizen', 'Partner', 'Dependents',\n       'tenure', 'PhoneService', 'MultipleLines', 'InternetService',\n       'OnlineSecurity', 'OnlineBackup', 'DeviceProtection', 'TechSupport',\n       'StreamingTV', 'StreamingMovies', 'Contract', 'PaperlessBilling',\n       'PaymentMethod', 'MonthlyCharges', 'TotalCharges', 'Churn'],\n      dtype='object')"
          },
          "metadata": {}
        }
      ],
      "execution_count": 11,
      "metadata": {
        "jupyter": {
          "source_hidden": false,
          "outputs_hidden": false
        },
        "nteract": {
          "transient": {
            "deleting": false
          }
        },
        "gather": {
          "logged": 1728378380625
        }
      }
    },
    {
      "cell_type": "code",
      "source": [
        "plt.figure(figsize=(8, 6))\n",
        "sns.histplot(x='tenure', data=df)\n",
        "plt.show()"
      ],
      "outputs": [
        {
          "output_type": "display_data",
          "data": {
            "text/plain": "<Figure size 800x600 with 1 Axes>",
            "image/png": "[encoded data removed]"
          },
          "metadata": {}
        }
      ],
      "execution_count": 12,
      "metadata": {
        "jupyter": {
          "source_hidden": false,
          "outputs_hidden": false
        },
        "nteract": {
          "transient": {
            "deleting": false
          }
        },
        "gather": {
          "logged": 1728378380786
        }
      }
    },
    {
      "cell_type": "code",
      "source": [
        "X = df\n",
        "y = df['Churn']"
      ],
      "outputs": [],
      "execution_count": 13,
      "metadata": {
        "jupyter": {
          "source_hidden": false,
          "outputs_hidden": false
        },
        "nteract": {
          "transient": {
            "deleting": false
          }
        },
        "gather": {
          "logged": 1728378380923
        }
      }
    },
    {
      "cell_type": "code",
      "source": [
        "X_train, X_test, y_train, y_test = train_test_split(X, y, test_size=0.2, random_state=42, stratify=y)\n"
      ],
      "outputs": [],
      "execution_count": 14,
      "metadata": {
        "jupyter": {
          "source_hidden": false,
          "outputs_hidden": false
        },
        "nteract": {
          "transient": {
            "deleting": false
          }
        },
        "gather": {
          "logged": 1728378381052
        }
      }
    },
    {
      "cell_type": "code",
      "source": [
        "cate = df.columns[df.dtypes == 'object']"
      ],
      "outputs": [],
      "execution_count": 15,
      "metadata": {
        "jupyter": {
          "source_hidden": false,
          "outputs_hidden": false
        },
        "nteract": {
          "transient": {
            "deleting": false
          }
        },
        "gather": {
          "logged": 1728378381174
        }
      }
    },
    {
      "cell_type": "code",
      "source": [
        "nums = df.columns[df.dtypes != 'object']"
      ],
      "outputs": [],
      "execution_count": 16,
      "metadata": {
        "jupyter": {
          "source_hidden": false,
          "outputs_hidden": false
        },
        "nteract": {
          "transient": {
            "deleting": false
          }
        },
        "gather": {
          "logged": 1728378381297
        }
      }
    },
    {
      "cell_type": "code",
      "source": [
        "numeric_transformer = Pipeline(steps=[\n",
        "    ('imputer', SimpleImputer(strategy='median')),\n",
        "    ('scaler', StandardScaler())\n",
        "])\n",
        "\n",
        "categorical_transformer = Pipeline(steps=[\n",
        "    ('imputer', SimpleImputer(strategy='constant', fill_value='missing')),\n",
        "    ('onehot', OneHotEncoder(handle_unknown='ignore'))\n",
        "])\n",
        "\n",
        "preprocessor = ColumnTransformer(\n",
        "    transformers=[\n",
        "        ('num', numeric_transformer, nums),\n",
        "        ('cat', categorical_transformer, cate)\n",
        "    ])"
      ],
      "outputs": [],
      "execution_count": 17,
      "metadata": {
        "jupyter": {
          "source_hidden": false,
          "outputs_hidden": false
        },
        "nteract": {
          "transient": {
            "deleting": false
          }
        },
        "gather": {
          "logged": 1728378381420
        }
      }
    },
    {
      "cell_type": "code",
      "source": [
        "\n",
        "pip.main(['install','imblearn'])\n",
        "from imblearn.over_sampling import SMOTE\n",
        "from imblearn.under_sampling import RandomUnderSampler\n",
        "from imblearn.pipeline import Pipeline as ImbPipeline\n"
      ],
      "outputs": [
        {
          "output_type": "stream",
          "name": "stderr",
          "text": "WARNING: pip is being invoked by an old script wrapper. This will fail in a future version of pip.\nPlease see https://github.com/pypa/pip/issues/5599 for advice on fixing the underlying issue.\nTo avoid this problem you can invoke Python with '-m pip' instead of running pip directly.\n"
        },
        {
          "output_type": "display_data",
          "data": {
            "text/plain": "Requirement already satisfied: imblearn in /anaconda/envs/azureml_py310_sdkv2/lib/python3.10/site-packages (0.0)\n",
            "text/html": "<pre style=\"white-space:pre;overflow-x:auto;line-height:normal;font-family:Menlo,'DejaVu Sans Mono',consolas,'Courier New',monospace\">Requirement already satisfied: imblearn in /anaconda/envs/azureml_py310_sdkv2/lib/python3.10/site-packages (0.0)\n</pre>\n"
          },
          "metadata": {}
        },
        {
          "output_type": "display_data",
          "data": {
            "text/plain": "Requirement already satisfied: imbalanced-learn in /anaconda/envs/azureml_py310_sdkv2/lib/python3.10/site-packages (from imblearn) (0.12.4)\n",
            "text/html": "<pre style=\"white-space:pre;overflow-x:auto;line-height:normal;font-family:Menlo,'DejaVu Sans Mono',consolas,'Courier New',monospace\">Requirement already satisfied: imbalanced-learn in /anaconda/envs/azureml_py310_sdkv2/lib/python3.10/site-packages (from imblearn) (0.12.4)\n</pre>\n"
          },
          "metadata": {}
        },
        {
          "output_type": "display_data",
          "data": {
            "text/plain": "Requirement already satisfied: numpy>=1.17.3 in /anaconda/envs/azureml_py310_sdkv2/lib/python3.10/site-packages (from imbalanced-learn->imblearn) (1.23.5)\n",
            "text/html": "<pre style=\"white-space:pre;overflow-x:auto;line-height:normal;font-family:Menlo,'DejaVu Sans Mono',consolas,'Courier New',monospace\">Requirement already satisfied: numpy&gt;=1.17.3 in /anaconda/envs/azureml_py310_sdkv2/lib/python3.10/site-packages (from imbalanced-learn-&gt;imblearn) (1.23.5)\n</pre>\n"
          },
          "metadata": {}
        },
        {
          "output_type": "display_data",
          "data": {
            "text/plain": "Requirement already satisfied: scipy>=1.5.0 in /anaconda/envs/azureml_py310_sdkv2/lib/python3.10/site-packages (from imbalanced-learn->imblearn) (1.10.1)\n",
            "text/html": "<pre style=\"white-space:pre;overflow-x:auto;line-height:normal;font-family:Menlo,'DejaVu Sans Mono',consolas,'Courier New',monospace\">Requirement already satisfied: scipy&gt;=1.5.0 in /anaconda/envs/azureml_py310_sdkv2/lib/python3.10/site-packages (from imbalanced-learn-&gt;imblearn) (1.10.1)\n</pre>\n"
          },
          "metadata": {}
        },
        {
          "output_type": "display_data",
          "data": {
            "text/plain": "Requirement already satisfied: scikit-learn>=1.0.2 in /anaconda/envs/azureml_py310_sdkv2/lib/python3.10/site-packages (from imbalanced-learn->imblearn) (1.5.1)\n",
            "text/html": "<pre style=\"white-space:pre;overflow-x:auto;line-height:normal;font-family:Menlo,'DejaVu Sans Mono',consolas,'Courier New',monospace\">Requirement already satisfied: scikit-learn&gt;=1.0.2 in /anaconda/envs/azureml_py310_sdkv2/lib/python3.10/site-packages (from imbalanced-learn-&gt;imblearn) (1.5.1)\n</pre>\n"
          },
          "metadata": {}
        },
        {
          "output_type": "display_data",
          "data": {
            "text/plain": "Requirement already satisfied: joblib>=1.1.1 in /anaconda/envs/azureml_py310_sdkv2/lib/python3.10/site-packages (from imbalanced-learn->imblearn) (1.2.0)\n",
            "text/html": "<pre style=\"white-space:pre;overflow-x:auto;line-height:normal;font-family:Menlo,'DejaVu Sans Mono',consolas,'Courier New',monospace\">Requirement already satisfied: joblib&gt;=1.1.1 in /anaconda/envs/azureml_py310_sdkv2/lib/python3.10/site-packages (from imbalanced-learn-&gt;imblearn) (1.2.0)\n</pre>\n"
          },
          "metadata": {}
        },
        {
          "output_type": "display_data",
          "data": {
            "text/plain": "Requirement already satisfied: threadpoolctl>=2.0.0 in /anaconda/envs/azureml_py310_sdkv2/lib/python3.10/site-packages (from imbalanced-learn->imblearn) (3.5.0)\n",
            "text/html": "<pre style=\"white-space:pre;overflow-x:auto;line-height:normal;font-family:Menlo,'DejaVu Sans Mono',consolas,'Courier New',monospace\">Requirement already satisfied: threadpoolctl&gt;=2.0.0 in /anaconda/envs/azureml_py310_sdkv2/lib/python3.10/site-packages (from imbalanced-learn-&gt;imblearn) (3.5.0)\n</pre>\n"
          },
          "metadata": {}
        }
      ],
      "execution_count": 18,
      "metadata": {
        "jupyter": {
          "source_hidden": false,
          "outputs_hidden": false
        },
        "nteract": {
          "transient": {
            "deleting": false
          }
        },
        "gather": {
          "logged": 1728378381666
        }
      }
    },
    {
      "cell_type": "code",
      "source": [
        "pip.main(['install','azureml.train.automl'])\n",
        "from azureml.train.automl import AutoMLConfig"
      ],
      "outputs": [
        {
          "output_type": "stream",
          "name": "stderr",
          "text": "WARNING: pip is being invoked by an old script wrapper. This will fail in a future version of pip.\nPlease see https://github.com/pypa/pip/issues/5599 for advice on fixing the underlying issue.\nTo avoid this problem you can invoke Python with '-m pip' instead of running pip directly.\n"
        },
        {
          "output_type": "display_data",
          "data": {
            "text/plain": "Requirement already satisfied: azureml.train.automl in /anaconda/envs/azureml_py310_sdkv2/lib/python3.10/site-packages (1.57.0)\n",
            "text/html": "<pre style=\"white-space:pre;overflow-x:auto;line-height:normal;font-family:Menlo,'DejaVu Sans Mono',consolas,'Courier New',monospace\">Requirement already satisfied: azureml.train.automl in /anaconda/envs/azureml_py310_sdkv2/lib/python3.10/site-packages (1.57.0)\n</pre>\n"
          },
          "metadata": {}
        },
        {
          "output_type": "display_data",
          "data": {
            "text/plain": "Requirement already satisfied: azureml-automl-core~=1.57.0 in /anaconda/envs/azureml_py310_sdkv2/lib/python3.10/site-packages (from azureml.train.automl) (1.57.0)\n",
            "text/html": "<pre style=\"white-space:pre;overflow-x:auto;line-height:normal;font-family:Menlo,'DejaVu Sans Mono',consolas,'Courier New',monospace\">Requirement already satisfied: azureml-automl-core~=1.57.0 in /anaconda/envs/azureml_py310_sdkv2/lib/python3.10/site-packages (from azureml.train.automl) (1.57.0)\n</pre>\n"
          },
          "metadata": {}
        },
        {
          "output_type": "display_data",
          "data": {
            "text/plain": "Requirement already satisfied: azureml-automl-runtime~=1.57.0 in /anaconda/envs/azureml_py310_sdkv2/lib/python3.10/site-packages (from azureml.train.automl) (1.57.0)\n",
            "text/html": "<pre style=\"white-space:pre;overflow-x:auto;line-height:normal;font-family:Menlo,'DejaVu Sans Mono',consolas,'Courier New',monospace\">Requirement already satisfied: azureml-automl-runtime~=1.57.0 in /anaconda/envs/azureml_py310_sdkv2/lib/python3.10/site-packages (from azureml.train.automl) (1.57.0)\n</pre>\n"
          },
          "metadata": {}
        },
        {
          "output_type": "display_data",
          "data": {
            "text/plain": "Requirement already satisfied: azureml-dataset-runtime~=1.57.0 in /anaconda/envs/azureml_py310_sdkv2/lib/python3.10/site-packages (from azureml-dataset-runtime[fuse,pandas]~=1.57.0->azureml.train.automl) (1.57.0)\n",
            "text/html": "<pre style=\"white-space:pre;overflow-x:auto;line-height:normal;font-family:Menlo,'DejaVu Sans Mono',consolas,'Courier New',monospace\">Requirement already satisfied: azureml-dataset-runtime~=1.57.0 in /anaconda/envs/azureml_py310_sdkv2/lib/python3.10/site-packages (from azureml-dataset-runtime[fuse,pandas]~=1.57.0-&gt;azureml.train.automl) (1.57.0)\n</pre>\n"
          },
          "metadata": {}
        },
        {
          "output_type": "display_data",
          "data": {
            "text/plain": "Requirement already satisfied: azureml-train-automl-client~=1.57.0 in /anaconda/envs/azureml_py310_sdkv2/lib/python3.10/site-packages (from azureml.train.automl) (1.57.0)\n",
            "text/html": "<pre style=\"white-space:pre;overflow-x:auto;line-height:normal;font-family:Menlo,'DejaVu Sans Mono',consolas,'Courier New',monospace\">Requirement already satisfied: azureml-train-automl-client~=1.57.0 in /anaconda/envs/azureml_py310_sdkv2/lib/python3.10/site-packages (from azureml.train.automl) (1.57.0)\n</pre>\n"
          },
          "metadata": {}
        },
        {
          "output_type": "display_data",
          "data": {
            "text/plain": "Requirement already satisfied: azureml-train-automl-runtime~=1.57.0 in /anaconda/envs/azureml_py310_sdkv2/lib/python3.10/site-packages (from azureml.train.automl) (1.57.0)\n",
            "text/html": "<pre style=\"white-space:pre;overflow-x:auto;line-height:normal;font-family:Menlo,'DejaVu Sans Mono',consolas,'Courier New',monospace\">Requirement already satisfied: azureml-train-automl-runtime~=1.57.0 in /anaconda/envs/azureml_py310_sdkv2/lib/python3.10/site-packages (from azureml.train.automl) (1.57.0)\n</pre>\n"
          },
          "metadata": {}
        },
        {
          "output_type": "display_data",
          "data": {
            "text/plain": "Requirement already satisfied: azureml-responsibleai~=1.57.0 in /anaconda/envs/azureml_py310_sdkv2/lib/python3.10/site-packages (from azureml.train.automl) (1.57.0)\n",
            "text/html": "<pre style=\"white-space:pre;overflow-x:auto;line-height:normal;font-family:Menlo,'DejaVu Sans Mono',consolas,'Courier New',monospace\">Requirement already satisfied: azureml-responsibleai~=1.57.0 in /anaconda/envs/azureml_py310_sdkv2/lib/python3.10/site-packages (from azureml.train.automl) (1.57.0)\n</pre>\n"
          },
          "metadata": {}
        },
        {
          "output_type": "display_data",
          "data": {
            "text/plain": "Requirement already satisfied: azureml-telemetry~=1.57.0 in /anaconda/envs/azureml_py310_sdkv2/lib/python3.10/site-packages (from azureml-automl-core~=1.57.0->azureml.train.automl) (1.57.0)\n",
            "text/html": "<pre style=\"white-space:pre;overflow-x:auto;line-height:normal;font-family:Menlo,'DejaVu Sans Mono',consolas,'Courier New',monospace\">Requirement already satisfied: azureml-telemetry~=1.57.0 in /anaconda/envs/azureml_py310_sdkv2/lib/python3.10/site-packages (from azureml-automl-core~=1.57.0-&gt;azureml.train.automl) (1.57.0)\n</pre>\n"
          },
          "metadata": {}
        },
        {
          "output_type": "display_data",
          "data": {
            "text/plain": "Requirement already satisfied: importlib-metadata<=8.2.0 in /anaconda/envs/azureml_py310_sdkv2/lib/python3.10/site-packages (from azureml-automl-core~=1.57.0->azureml.train.automl) (8.2.0)\n",
            "text/html": "<pre style=\"white-space:pre;overflow-x:auto;line-height:normal;font-family:Menlo,'DejaVu Sans Mono',consolas,'Courier New',monospace\">Requirement already satisfied: importlib-metadata&lt;=8.2.0 in /anaconda/envs/azureml_py310_sdkv2/lib/python3.10/site-packages (from azureml-automl-core~=1.57.0-&gt;azureml.train.automl) (8.2.0)\n</pre>\n"
          },
          "metadata": {}
        },
        {
          "output_type": "display_data",
          "data": {
            "text/plain": "Requirement already satisfied: importlib-resources<=6.4.0 in /anaconda/envs/azureml_py310_sdkv2/lib/python3.10/site-packages/setuptools/_vendor (from azureml-automl-core~=1.57.0->azureml.train.automl) (6.4.0)\n",
            "text/html": "<pre style=\"white-space:pre;overflow-x:auto;line-height:normal;font-family:Menlo,'DejaVu Sans Mono',consolas,'Courier New',monospace\">Requirement already satisfied: importlib-resources&lt;=6.4.0 in /anaconda/envs/azureml_py310_sdkv2/lib/python3.10/site-packages/setuptools/_vendor (from azureml-automl-core~=1.57.0-&gt;azureml.train.automl) (6.4.0)\n</pre>\n"
          },
          "metadata": {}
        },
        {
          "output_type": "display_data",
          "data": {
            "text/plain": "Requirement already satisfied: azureml-training-tabular~=1.57.0 in /anaconda/envs/azureml_py310_sdkv2/lib/python3.10/site-packages (from azureml-automl-runtime~=1.57.0->azureml.train.automl) (1.57.0.post1)\n",
            "text/html": "<pre style=\"white-space:pre;overflow-x:auto;line-height:normal;font-family:Menlo,'DejaVu Sans Mono',consolas,'Courier New',monospace\">Requirement already satisfied: azureml-training-tabular~=1.57.0 in /anaconda/envs/azureml_py310_sdkv2/lib/python3.10/site-packages (from azureml-automl-runtime~=1.57.0-&gt;azureml.train.automl) (1.57.0.post1)\n</pre>\n"
          },
          "metadata": {}
        },
        {
          "output_type": "display_data",
          "data": {
            "text/plain": "Requirement already satisfied: dill<0.4.0,>=0.2.8 in /anaconda/envs/azureml_py310_sdkv2/lib/python3.10/site-packages (from azureml-automl-runtime~=1.57.0->azureml.train.automl) (0.3.9)\n",
            "text/html": "<pre style=\"white-space:pre;overflow-x:auto;line-height:normal;font-family:Menlo,'DejaVu Sans Mono',consolas,'Courier New',monospace\">Requirement already satisfied: dill&lt;0.4.0,&gt;=0.2.8 in /anaconda/envs/azureml_py310_sdkv2/lib/python3.10/site-packages (from azureml-automl-runtime~=1.57.0-&gt;azureml.train.automl) (0.3.9)\n</pre>\n"
          },
          "metadata": {}
        },
        {
          "output_type": "display_data",
          "data": {
            "text/plain": "Requirement already satisfied: lightgbm<=3.2.1,>=3.0.0 in /anaconda/envs/azureml_py310_sdkv2/lib/python3.10/site-packages (from azureml-automl-runtime~=1.57.0->azureml.train.automl) (3.2.1)\n",
            "text/html": "<pre style=\"white-space:pre;overflow-x:auto;line-height:normal;font-family:Menlo,'DejaVu Sans Mono',consolas,'Courier New',monospace\">Requirement already satisfied: lightgbm&lt;=3.2.1,&gt;=3.0.0 in /anaconda/envs/azureml_py310_sdkv2/lib/python3.10/site-packages (from azureml-automl-runtime~=1.57.0-&gt;azureml.train.automl) (3.2.1)\n</pre>\n"
          },
          "metadata": {}
        },
        {
          "output_type": "display_data",
          "data": {
            "text/plain": "Requirement already satisfied: pandas==1.3.5 in /anaconda/envs/azureml_py310_sdkv2/lib/python3.10/site-packages (from azureml-automl-runtime~=1.57.0->azureml.train.automl) (1.3.5)\n",
            "text/html": "<pre style=\"white-space:pre;overflow-x:auto;line-height:normal;font-family:Menlo,'DejaVu Sans Mono',consolas,'Courier New',monospace\">Requirement already satisfied: pandas==1.3.5 in /anaconda/envs/azureml_py310_sdkv2/lib/python3.10/site-packages (from azureml-automl-runtime~=1.57.0-&gt;azureml.train.automl) (1.3.5)\n</pre>\n"
          },
          "metadata": {}
        },
        {
          "output_type": "display_data",
          "data": {
            "text/plain": "Requirement already satisfied: protobuf<=3.20.3 in /anaconda/envs/azureml_py310_sdkv2/lib/python3.10/site-packages (from azureml-automl-runtime~=1.57.0->azureml.train.automl) (3.20.3)\n",
            "text/html": "<pre style=\"white-space:pre;overflow-x:auto;line-height:normal;font-family:Menlo,'DejaVu Sans Mono',consolas,'Courier New',monospace\">Requirement already satisfied: protobuf&lt;=3.20.3 in /anaconda/envs/azureml_py310_sdkv2/lib/python3.10/site-packages (from azureml-automl-runtime~=1.57.0-&gt;azureml.train.automl) (3.20.3)\n</pre>\n"
          },
          "metadata": {}
        },
        {
          "output_type": "display_data",
          "data": {
            "text/plain": "Requirement already satisfied: psutil<5.9.4,>=5.2.2 in /anaconda/envs/azureml_py310_sdkv2/lib/python3.10/site-packages (from azureml-automl-runtime~=1.57.0->azureml.train.automl) (5.9.3)\n",
            "text/html": "<pre style=\"white-space:pre;overflow-x:auto;line-height:normal;font-family:Menlo,'DejaVu Sans Mono',consolas,'Courier New',monospace\">Requirement already satisfied: psutil&lt;5.9.4,&gt;=5.2.2 in /anaconda/envs/azureml_py310_sdkv2/lib/python3.10/site-packages (from azureml-automl-runtime~=1.57.0-&gt;azureml.train.automl) (5.9.3)\n</pre>\n"
          },
          "metadata": {}
        },
        {
          "output_type": "display_data",
          "data": {
            "text/plain": "Requirement already satisfied: scipy<=1.11.0,>=1.0.0 in /anaconda/envs/azureml_py310_sdkv2/lib/python3.10/site-packages (from azureml-automl-runtime~=1.57.0->azureml.train.automl) (1.10.1)\n",
            "text/html": "<pre style=\"white-space:pre;overflow-x:auto;line-height:normal;font-family:Menlo,'DejaVu Sans Mono',consolas,'Courier New',monospace\">Requirement already satisfied: scipy&lt;=1.11.0,&gt;=1.0.0 in /anaconda/envs/azureml_py310_sdkv2/lib/python3.10/site-packages (from azureml-automl-runtime~=1.57.0-&gt;azureml.train.automl) (1.10.1)\n</pre>\n"
          },
          "metadata": {}
        },
        {
          "output_type": "display_data",
          "data": {
            "text/plain": "Requirement already satisfied: scikit-learn~=1.5.1 in /anaconda/envs/azureml_py310_sdkv2/lib/python3.10/site-packages (from azureml-automl-runtime~=1.57.0->azureml.train.automl) (1.5.1)\n",
            "text/html": "<pre style=\"white-space:pre;overflow-x:auto;line-height:normal;font-family:Menlo,'DejaVu Sans Mono',consolas,'Courier New',monospace\">Requirement already satisfied: scikit-learn~=1.5.1 in /anaconda/envs/azureml_py310_sdkv2/lib/python3.10/site-packages (from azureml-automl-runtime~=1.57.0-&gt;azureml.train.automl) (1.5.1)\n</pre>\n"
          },
          "metadata": {}
        },
        {
          "output_type": "display_data",
          "data": {
            "text/plain": "Requirement already satisfied: sklearn-pandas<=1.7.0,>=1.4.0 in /anaconda/envs/azureml_py310_sdkv2/lib/python3.10/site-packages (from azureml-automl-runtime~=1.57.0->azureml.train.automl) (1.7.0)\n",
            "text/html": "<pre style=\"white-space:pre;overflow-x:auto;line-height:normal;font-family:Menlo,'DejaVu Sans Mono',consolas,'Courier New',monospace\">Requirement already satisfied: sklearn-pandas&lt;=1.7.0,&gt;=1.4.0 in /anaconda/envs/azureml_py310_sdkv2/lib/python3.10/site-packages (from azureml-automl-runtime~=1.57.0-&gt;azureml.train.automl) (1.7.0)\n</pre>\n"
          },
          "metadata": {}
        },
        {
          "output_type": "display_data",
          "data": {
            "text/plain": "Requirement already satisfied: statsmodels<0.14,>=0.13.0 in /anaconda/envs/azureml_py310_sdkv2/lib/python3.10/site-packages (from azureml-automl-runtime~=1.57.0->azureml.train.automl) (0.13.5)\n",
            "text/html": "<pre style=\"white-space:pre;overflow-x:auto;line-height:normal;font-family:Menlo,'DejaVu Sans Mono',consolas,'Courier New',monospace\">Requirement already satisfied: statsmodels&lt;0.14,&gt;=0.13.0 in /anaconda/envs/azureml_py310_sdkv2/lib/python3.10/site-packages (from azureml-automl-runtime~=1.57.0-&gt;azureml.train.automl) (0.13.5)\n</pre>\n"
          },
          "metadata": {}
        },
        {
          "output_type": "display_data",
          "data": {
            "text/plain": "Requirement already satisfied: skl2onnx==1.15.0 in /anaconda/envs/azureml_py310_sdkv2/lib/python3.10/site-packages (from azureml-automl-runtime~=1.57.0->azureml.train.automl) (1.15.0)\n",
            "text/html": "<pre style=\"white-space:pre;overflow-x:auto;line-height:normal;font-family:Menlo,'DejaVu Sans Mono',consolas,'Courier New',monospace\">Requirement already satisfied: skl2onnx==1.15.0 in /anaconda/envs/azureml_py310_sdkv2/lib/python3.10/site-packages (from azureml-automl-runtime~=1.57.0-&gt;azureml.train.automl) (1.15.0)\n</pre>\n"
          },
          "metadata": {}
        },
        {
          "output_type": "display_data",
          "data": {
            "text/plain": "Requirement already satisfied: onnxmltools==1.11.2 in /anaconda/envs/azureml_py310_sdkv2/lib/python3.10/site-packages (from azureml-automl-runtime~=1.57.0->azureml.train.automl) (1.11.2)\n",
            "text/html": "<pre style=\"white-space:pre;overflow-x:auto;line-height:normal;font-family:Menlo,'DejaVu Sans Mono',consolas,'Courier New',monospace\">Requirement already satisfied: onnxmltools==1.11.2 in /anaconda/envs/azureml_py310_sdkv2/lib/python3.10/site-packages (from azureml-automl-runtime~=1.57.0-&gt;azureml.train.automl) (1.11.2)\n</pre>\n"
          },
          "metadata": {}
        },
        {
          "output_type": "display_data",
          "data": {
            "text/plain": "Requirement already satisfied: keras2onnx<=1.6.0,>=1.4.0 in /anaconda/envs/azureml_py310_sdkv2/lib/python3.10/site-packages (from azureml-automl-runtime~=1.57.0->azureml.train.automl) (1.6.0)\n",
            "text/html": "<pre style=\"white-space:pre;overflow-x:auto;line-height:normal;font-family:Menlo,'DejaVu Sans Mono',consolas,'Courier New',monospace\">Requirement already satisfied: keras2onnx&lt;=1.6.0,&gt;=1.4.0 in /anaconda/envs/azureml_py310_sdkv2/lib/python3.10/site-packages (from azureml-automl-runtime~=1.57.0-&gt;azureml.train.automl) (1.6.0)\n</pre>\n"
          },
          "metadata": {}
        },
        {
          "output_type": "display_data",
          "data": {
            "text/plain": "Requirement already satisfied: onnxconverter-common==1.13.0 in /anaconda/envs/azureml_py310_sdkv2/lib/python3.10/site-packages (from azureml-automl-runtime~=1.57.0->azureml.train.automl) (1.13.0)\n",
            "text/html": "<pre style=\"white-space:pre;overflow-x:auto;line-height:normal;font-family:Menlo,'DejaVu Sans Mono',consolas,'Courier New',monospace\">Requirement already satisfied: onnxconverter-common==1.13.0 in /anaconda/envs/azureml_py310_sdkv2/lib/python3.10/site-packages (from azureml-automl-runtime~=1.57.0-&gt;azureml.train.automl) (1.13.0)\n</pre>\n"
          },
          "metadata": {}
        },
        {
          "output_type": "display_data",
          "data": {
            "text/plain": "Requirement already satisfied: onnx==1.16.1 in /anaconda/envs/azureml_py310_sdkv2/lib/python3.10/site-packages (from azureml-automl-runtime~=1.57.0->azureml.train.automl) (1.16.1)\n",
            "text/html": "<pre style=\"white-space:pre;overflow-x:auto;line-height:normal;font-family:Menlo,'DejaVu Sans Mono',consolas,'Courier New',monospace\">Requirement already satisfied: onnx==1.16.1 in /anaconda/envs/azureml_py310_sdkv2/lib/python3.10/site-packages (from azureml-automl-runtime~=1.57.0-&gt;azureml.train.automl) (1.16.1)\n</pre>\n"
          },
          "metadata": {}
        },
        {
          "output_type": "display_data",
          "data": {
            "text/plain": "Requirement already satisfied: onnxruntime~=1.17.3 in /anaconda/envs/azureml_py310_sdkv2/lib/python3.10/site-packages (from azureml-automl-runtime~=1.57.0->azureml.train.automl) (1.17.3)\n",
            "text/html": "<pre style=\"white-space:pre;overflow-x:auto;line-height:normal;font-family:Menlo,'DejaVu Sans Mono',consolas,'Courier New',monospace\">Requirement already satisfied: onnxruntime~=1.17.3 in /anaconda/envs/azureml_py310_sdkv2/lib/python3.10/site-packages (from azureml-automl-runtime~=1.57.0-&gt;azureml.train.automl) (1.17.3)\n</pre>\n"
          },
          "metadata": {}
        },
        {
          "output_type": "display_data",
          "data": {
            "text/plain": "Requirement already satisfied: pmdarima==1.8.5 in /anaconda/envs/azureml_py310_sdkv2/lib/python3.10/site-packages (from azureml-automl-runtime~=1.57.0->azureml.train.automl) (1.8.5)\n",
            "text/html": "<pre style=\"white-space:pre;overflow-x:auto;line-height:normal;font-family:Menlo,'DejaVu Sans Mono',consolas,'Courier New',monospace\">Requirement already satisfied: pmdarima==1.8.5 in /anaconda/envs/azureml_py310_sdkv2/lib/python3.10/site-packages (from azureml-automl-runtime~=1.57.0-&gt;azureml.train.automl) (1.8.5)\n</pre>\n"
          },
          "metadata": {}
        },
        {
          "output_type": "display_data",
          "data": {
            "text/plain": "Requirement already satisfied: joblib==1.2.0 in /anaconda/envs/azureml_py310_sdkv2/lib/python3.10/site-packages (from azureml-automl-runtime~=1.57.0->azureml.train.automl) (1.2.0)\n",
            "text/html": "<pre style=\"white-space:pre;overflow-x:auto;line-height:normal;font-family:Menlo,'DejaVu Sans Mono',consolas,'Courier New',monospace\">Requirement already satisfied: joblib==1.2.0 in /anaconda/envs/azureml_py310_sdkv2/lib/python3.10/site-packages (from azureml-automl-runtime~=1.57.0-&gt;azureml.train.automl) (1.2.0)\n</pre>\n"
          },
          "metadata": {}
        },
        {
          "output_type": "display_data",
          "data": {
            "text/plain": "Requirement already satisfied: boto3<=1.20.19 in /anaconda/envs/azureml_py310_sdkv2/lib/python3.10/site-packages (from azureml-automl-runtime~=1.57.0->azureml.train.automl) (1.20.19)\n",
            "text/html": "<pre style=\"white-space:pre;overflow-x:auto;line-height:normal;font-family:Menlo,'DejaVu Sans Mono',consolas,'Courier New',monospace\">Requirement already satisfied: boto3&lt;=1.20.19 in /anaconda/envs/azureml_py310_sdkv2/lib/python3.10/site-packages (from azureml-automl-runtime~=1.57.0-&gt;azureml.train.automl) (1.20.19)\n</pre>\n"
          },
          "metadata": {}
        },
        {
          "output_type": "display_data",
          "data": {
            "text/plain": "Requirement already satisfied: botocore<=1.23.19 in /anaconda/envs/azureml_py310_sdkv2/lib/python3.10/site-packages (from azureml-automl-runtime~=1.57.0->azureml.train.automl) (1.23.19)\n",
            "text/html": "<pre style=\"white-space:pre;overflow-x:auto;line-height:normal;font-family:Menlo,'DejaVu Sans Mono',consolas,'Courier New',monospace\">Requirement already satisfied: botocore&lt;=1.23.19 in /anaconda/envs/azureml_py310_sdkv2/lib/python3.10/site-packages (from azureml-automl-runtime~=1.57.0-&gt;azureml.train.automl) (1.23.19)\n</pre>\n"
          },
          "metadata": {}
        },
        {
          "output_type": "display_data",
          "data": {
            "text/plain": "Requirement already satisfied: urllib3<2.0.0 in /anaconda/envs/azureml_py310_sdkv2/lib/python3.10/site-packages (from azureml-automl-runtime~=1.57.0->azureml.train.automl) (1.26.20)\n",
            "text/html": "<pre style=\"white-space:pre;overflow-x:auto;line-height:normal;font-family:Menlo,'DejaVu Sans Mono',consolas,'Courier New',monospace\">Requirement already satisfied: urllib3&lt;2.0.0 in /anaconda/envs/azureml_py310_sdkv2/lib/python3.10/site-packages (from azureml-automl-runtime~=1.57.0-&gt;azureml.train.automl) (1.26.20)\n</pre>\n"
          },
          "metadata": {}
        },
        {
          "output_type": "display_data",
          "data": {
            "text/plain": "Requirement already satisfied: dataclasses<=0.8,>=0.6 in /anaconda/envs/azureml_py310_sdkv2/lib/python3.10/site-packages (from azureml-automl-runtime~=1.57.0->azureml.train.automl) (0.6)\n",
            "text/html": "<pre style=\"white-space:pre;overflow-x:auto;line-height:normal;font-family:Menlo,'DejaVu Sans Mono',consolas,'Courier New',monospace\">Requirement already satisfied: dataclasses&lt;=0.8,&gt;=0.6 in /anaconda/envs/azureml_py310_sdkv2/lib/python3.10/site-packages (from azureml-automl-runtime~=1.57.0-&gt;azureml.train.automl) (0.6)\n</pre>\n"
          },
          "metadata": {}
        },
        {
          "output_type": "display_data",
          "data": {
            "text/plain": "Requirement already satisfied: arch<=5.6.0 in /anaconda/envs/azureml_py310_sdkv2/lib/python3.10/site-packages (from azureml-automl-runtime~=1.57.0->azureml.train.automl) (5.6.0)\n",
            "text/html": "<pre style=\"white-space:pre;overflow-x:auto;line-height:normal;font-family:Menlo,'DejaVu Sans Mono',consolas,'Courier New',monospace\">Requirement already satisfied: arch&lt;=5.6.0 in /anaconda/envs/azureml_py310_sdkv2/lib/python3.10/site-packages (from azureml-automl-runtime~=1.57.0-&gt;azureml.train.automl) (5.6.0)\n</pre>\n"
          },
          "metadata": {}
        },
        {
          "output_type": "display_data",
          "data": {
            "text/plain": "Requirement already satisfied: dotnetcore2<4.0.0,>=3.0.0 in /anaconda/envs/azureml_py310_sdkv2/lib/python3.10/site-packages (from azureml-automl-runtime~=1.57.0->azureml.train.automl) (3.1.23)\n",
            "text/html": "<pre style=\"white-space:pre;overflow-x:auto;line-height:normal;font-family:Menlo,'DejaVu Sans Mono',consolas,'Courier New',monospace\">Requirement already satisfied: dotnetcore2&lt;4.0.0,&gt;=3.0.0 in /anaconda/envs/azureml_py310_sdkv2/lib/python3.10/site-packages (from azureml-automl-runtime~=1.57.0-&gt;azureml.train.automl) (3.1.23)\n</pre>\n"
          },
          "metadata": {}
        },
        {
          "output_type": "display_data",
          "data": {
            "text/plain": "Requirement already satisfied: numpy<=1.23.5,>=1.16.0 in /anaconda/envs/azureml_py310_sdkv2/lib/python3.10/site-packages (from azureml-automl-runtime~=1.57.0->azureml.train.automl) (1.23.5)\n",
            "text/html": "<pre style=\"white-space:pre;overflow-x:auto;line-height:normal;font-family:Menlo,'DejaVu Sans Mono',consolas,'Courier New',monospace\">Requirement already satisfied: numpy&lt;=1.23.5,&gt;=1.16.0 in /anaconda/envs/azureml_py310_sdkv2/lib/python3.10/site-packages (from azureml-automl-runtime~=1.57.0-&gt;azureml.train.automl) (1.23.5)\n</pre>\n"
          },
          "metadata": {}
        },
        {
          "output_type": "display_data",
          "data": {
            "text/plain": "Requirement already satisfied: gensim==4.3.2 in /anaconda/envs/azureml_py310_sdkv2/lib/python3.10/site-packages (from azureml-automl-runtime~=1.57.0->azureml.train.automl) (4.3.2)\n",
            "text/html": "<pre style=\"white-space:pre;overflow-x:auto;line-height:normal;font-family:Menlo,'DejaVu Sans Mono',consolas,'Courier New',monospace\">Requirement already satisfied: gensim==4.3.2 in /anaconda/envs/azureml_py310_sdkv2/lib/python3.10/site-packages (from azureml-automl-runtime~=1.57.0-&gt;azureml.train.automl) (4.3.2)\n</pre>\n"
          },
          "metadata": {}
        },
        {
          "output_type": "display_data",
          "data": {
            "text/plain": "Requirement already satisfied: smart-open==6.4.0 in /anaconda/envs/azureml_py310_sdkv2/lib/python3.10/site-packages (from azureml-automl-runtime~=1.57.0->azureml.train.automl) (6.4.0)\n",
            "text/html": "<pre style=\"white-space:pre;overflow-x:auto;line-height:normal;font-family:Menlo,'DejaVu Sans Mono',consolas,'Courier New',monospace\">Requirement already satisfied: smart-open==6.4.0 in /anaconda/envs/azureml_py310_sdkv2/lib/python3.10/site-packages (from azureml-automl-runtime~=1.57.0-&gt;azureml.train.automl) (6.4.0)\n</pre>\n"
          },
          "metadata": {}
        },
        {
          "output_type": "display_data",
          "data": {
            "text/plain": "Requirement already satisfied: packaging in /anaconda/envs/azureml_py310_sdkv2/lib/python3.10/site-packages (from onnxconverter-common==1.13.0->azureml-automl-runtime~=1.57.0->azureml.train.automl) (24.1)\n",
            "text/html": "<pre style=\"white-space:pre;overflow-x:auto;line-height:normal;font-family:Menlo,'DejaVu Sans Mono',consolas,'Courier New',monospace\">Requirement already satisfied: packaging in /anaconda/envs/azureml_py310_sdkv2/lib/python3.10/site-packages (from onnxconverter-common==1.13.0-&gt;azureml-automl-runtime~=1.57.0-&gt;azureml.train.automl) (24.1)\n</pre>\n"
          },
          "metadata": {}
        },
        {
          "output_type": "display_data",
          "data": {
            "text/plain": "Requirement already satisfied: python-dateutil>=2.7.3 in /anaconda/envs/azureml_py310_sdkv2/lib/python3.10/site-packages (from pandas==1.3.5->azureml-automl-runtime~=1.57.0->azureml.train.automl) (2.9.0)\n",
            "text/html": "<pre style=\"white-space:pre;overflow-x:auto;line-height:normal;font-family:Menlo,'DejaVu Sans Mono',consolas,'Courier New',monospace\">Requirement already satisfied: python-dateutil&gt;=2.7.3 in /anaconda/envs/azureml_py310_sdkv2/lib/python3.10/site-packages (from pandas==1.3.5-&gt;azureml-automl-runtime~=1.57.0-&gt;azureml.train.automl) (2.9.0)\n</pre>\n"
          },
          "metadata": {}
        },
        {
          "output_type": "display_data",
          "data": {
            "text/plain": "Requirement already satisfied: pytz>=2017.3 in /anaconda/envs/azureml_py310_sdkv2/lib/python3.10/site-packages (from pandas==1.3.5->azureml-automl-runtime~=1.57.0->azureml.train.automl) (2024.2)\n",
            "text/html": "<pre style=\"white-space:pre;overflow-x:auto;line-height:normal;font-family:Menlo,'DejaVu Sans Mono',consolas,'Courier New',monospace\">Requirement already satisfied: pytz&gt;=2017.3 in /anaconda/envs/azureml_py310_sdkv2/lib/python3.10/site-packages (from pandas==1.3.5-&gt;azureml-automl-runtime~=1.57.0-&gt;azureml.train.automl) (2024.2)\n</pre>\n"
          },
          "metadata": {}
        },
        {
          "output_type": "display_data",
          "data": {
            "text/plain": "Requirement already satisfied: Cython!=0.29.18,>=0.29 in /anaconda/envs/azureml_py310_sdkv2/lib/python3.10/site-packages (from pmdarima==1.8.5->azureml-automl-runtime~=1.57.0->azureml.train.automl) (3.0.11)\n",
            "text/html": "<pre style=\"white-space:pre;overflow-x:auto;line-height:normal;font-family:Menlo,'DejaVu Sans Mono',consolas,'Courier New',monospace\">Requirement already satisfied: Cython!=0.29.18,&gt;=0.29 in /anaconda/envs/azureml_py310_sdkv2/lib/python3.10/site-packages (from pmdarima==1.8.5-&gt;azureml-automl-runtime~=1.57.0-&gt;azureml.train.automl) (3.0.11)\n</pre>\n"
          },
          "metadata": {}
        },
        {
          "output_type": "display_data",
          "data": {
            "text/plain": "Requirement already satisfied: setuptools!=50.0.0,>=38.6.0 in /anaconda/envs/azureml_py310_sdkv2/lib/python3.10/site-packages (from pmdarima==1.8.5->azureml-automl-runtime~=1.57.0->azureml.train.automl) (75.1.0)\n",
            "text/html": "<pre style=\"white-space:pre;overflow-x:auto;line-height:normal;font-family:Menlo,'DejaVu Sans Mono',consolas,'Courier New',monospace\">Requirement already satisfied: setuptools!=50.0.0,&gt;=38.6.0 in /anaconda/envs/azureml_py310_sdkv2/lib/python3.10/site-packages (from pmdarima==1.8.5-&gt;azureml-automl-runtime~=1.57.0-&gt;azureml.train.automl) (75.1.0)\n</pre>\n"
          },
          "metadata": {}
        },
        {
          "output_type": "display_data",
          "data": {
            "text/plain": "Requirement already satisfied: azureml-dataprep<5.2.0a,>=5.1.0a in /anaconda/envs/azureml_py310_sdkv2/lib/python3.10/site-packages (from azureml-dataset-runtime~=1.57.0->azureml-dataset-runtime[fuse,pandas]~=1.57.0->azureml.train.automl) (5.1.6)\n",
            "text/html": "<pre style=\"white-space:pre;overflow-x:auto;line-height:normal;font-family:Menlo,'DejaVu Sans Mono',consolas,'Courier New',monospace\">Requirement already satisfied: azureml-dataprep&lt;5.2.0a,&gt;=5.1.0a in /anaconda/envs/azureml_py310_sdkv2/lib/python3.10/site-packages (from azureml-dataset-runtime~=1.57.0-&gt;azureml-dataset-runtime[fuse,pandas]~=1.57.0-&gt;azureml.train.automl) (5.1.6)\n</pre>\n"
          },
          "metadata": {}
        },
        {
          "output_type": "display_data",
          "data": {
            "text/plain": "Requirement already satisfied: pyarrow>=0.17.0 in /anaconda/envs/azureml_py310_sdkv2/lib/python3.10/site-packages (from azureml-dataset-runtime~=1.57.0->azureml-dataset-runtime[fuse,pandas]~=1.57.0->azureml.train.automl) (14.0.2)\n",
            "text/html": "<pre style=\"white-space:pre;overflow-x:auto;line-height:normal;font-family:Menlo,'DejaVu Sans Mono',consolas,'Courier New',monospace\">Requirement already satisfied: pyarrow&gt;=0.17.0 in /anaconda/envs/azureml_py310_sdkv2/lib/python3.10/site-packages (from azureml-dataset-runtime~=1.57.0-&gt;azureml-dataset-runtime[fuse,pandas]~=1.57.0-&gt;azureml.train.automl) (14.0.2)\n</pre>\n"
          },
          "metadata": {}
        },
        {
          "output_type": "display_data",
          "data": {
            "text/plain": "Requirement already satisfied: fusepy<4.0.0,>=3.0.1 in /anaconda/envs/azureml_py310_sdkv2/lib/python3.10/site-packages (from azureml-dataset-runtime[fuse,pandas]~=1.57.0->azureml.train.automl) (3.0.1)\n",
            "text/html": "<pre style=\"white-space:pre;overflow-x:auto;line-height:normal;font-family:Menlo,'DejaVu Sans Mono',consolas,'Courier New',monospace\">Requirement already satisfied: fusepy&lt;4.0.0,&gt;=3.0.1 in /anaconda/envs/azureml_py310_sdkv2/lib/python3.10/site-packages (from azureml-dataset-runtime[fuse,pandas]~=1.57.0-&gt;azureml.train.automl) (3.0.1)\n</pre>\n"
          },
          "metadata": {}
        },
        {
          "output_type": "display_data",
          "data": {
            "text/plain": "Requirement already satisfied: azureml-core~=1.57.0 in /anaconda/envs/azureml_py310_sdkv2/lib/python3.10/site-packages (from azureml-responsibleai~=1.57.0->azureml.train.automl) (1.57.0.post1)\n",
            "text/html": "<pre style=\"white-space:pre;overflow-x:auto;line-height:normal;font-family:Menlo,'DejaVu Sans Mono',consolas,'Courier New',monospace\">Requirement already satisfied: azureml-core~=1.57.0 in /anaconda/envs/azureml_py310_sdkv2/lib/python3.10/site-packages (from azureml-responsibleai~=1.57.0-&gt;azureml.train.automl) (1.57.0.post1)\n</pre>\n"
          },
          "metadata": {}
        },
        {
          "output_type": "display_data",
          "data": {
            "text/plain": "Requirement already satisfied: azureml-interpret~=1.57.0 in /anaconda/envs/azureml_py310_sdkv2/lib/python3.10/site-packages (from azureml-responsibleai~=1.57.0->azureml.train.automl) (1.57.0)\n",
            "text/html": "<pre style=\"white-space:pre;overflow-x:auto;line-height:normal;font-family:Menlo,'DejaVu Sans Mono',consolas,'Courier New',monospace\">Requirement already satisfied: azureml-interpret~=1.57.0 in /anaconda/envs/azureml_py310_sdkv2/lib/python3.10/site-packages (from azureml-responsibleai~=1.57.0-&gt;azureml.train.automl) (1.57.0)\n</pre>\n"
          },
          "metadata": {}
        },
        {
          "output_type": "display_data",
          "data": {
            "text/plain": "Requirement already satisfied: fairlearn==0.7.0 in /anaconda/envs/azureml_py310_sdkv2/lib/python3.10/site-packages (from azureml-responsibleai~=1.57.0->azureml.train.automl) (0.7.0)\n",
            "text/html": "<pre style=\"white-space:pre;overflow-x:auto;line-height:normal;font-family:Menlo,'DejaVu Sans Mono',consolas,'Courier New',monospace\">Requirement already satisfied: fairlearn==0.7.0 in /anaconda/envs/azureml_py310_sdkv2/lib/python3.10/site-packages (from azureml-responsibleai~=1.57.0-&gt;azureml.train.automl) (0.7.0)\n</pre>\n"
          },
          "metadata": {}
        },
        {
          "output_type": "display_data",
          "data": {
            "text/plain": "Requirement already satisfied: jsonschema in /anaconda/envs/azureml_py310_sdkv2/lib/python3.10/site-packages (from azureml-responsibleai~=1.57.0->azureml.train.automl) (4.23.0)\n",
            "text/html": "<pre style=\"white-space:pre;overflow-x:auto;line-height:normal;font-family:Menlo,'DejaVu Sans Mono',consolas,'Courier New',monospace\">Requirement already satisfied: jsonschema in /anaconda/envs/azureml_py310_sdkv2/lib/python3.10/site-packages (from azureml-responsibleai~=1.57.0-&gt;azureml.train.automl) (4.23.0)\n</pre>\n"
          },
          "metadata": {}
        },
        {
          "output_type": "display_data",
          "data": {
            "text/plain": "Requirement already satisfied: responsibleai==0.36.0 in /anaconda/envs/azureml_py310_sdkv2/lib/python3.10/site-packages (from azureml-responsibleai~=1.57.0->azureml.train.automl) (0.36.0)\n",
            "text/html": "<pre style=\"white-space:pre;overflow-x:auto;line-height:normal;font-family:Menlo,'DejaVu Sans Mono',consolas,'Courier New',monospace\">Requirement already satisfied: responsibleai==0.36.0 in /anaconda/envs/azureml_py310_sdkv2/lib/python3.10/site-packages (from azureml-responsibleai~=1.57.0-&gt;azureml.train.automl) (0.36.0)\n</pre>\n"
          },
          "metadata": {}
        },
        {
          "output_type": "display_data",
          "data": {
            "text/plain": "Requirement already satisfied: dice-ml<0.12,>=0.11 in /anaconda/envs/azureml_py310_sdkv2/lib/python3.10/site-packages (from responsibleai==0.36.0->azureml-responsibleai~=1.57.0->azureml.train.automl) (0.11)\n",
            "text/html": "<pre style=\"white-space:pre;overflow-x:auto;line-height:normal;font-family:Menlo,'DejaVu Sans Mono',consolas,'Courier New',monospace\">Requirement already satisfied: dice-ml&lt;0.12,&gt;=0.11 in /anaconda/envs/azureml_py310_sdkv2/lib/python3.10/site-packages (from responsibleai==0.36.0-&gt;azureml-responsibleai~=1.57.0-&gt;azureml.train.automl) (0.11)\n</pre>\n"
          },
          "metadata": {}
        },
        {
          "output_type": "display_data",
          "data": {
            "text/plain": "Requirement already satisfied: econml>=0.14.1 in /anaconda/envs/azureml_py310_sdkv2/lib/python3.10/site-packages (from responsibleai==0.36.0->azureml-responsibleai~=1.57.0->azureml.train.automl) (0.15.1)\n",
            "text/html": "<pre style=\"white-space:pre;overflow-x:auto;line-height:normal;font-family:Menlo,'DejaVu Sans Mono',consolas,'Courier New',monospace\">Requirement already satisfied: econml&gt;=0.14.1 in /anaconda/envs/azureml_py310_sdkv2/lib/python3.10/site-packages (from responsibleai==0.36.0-&gt;azureml-responsibleai~=1.57.0-&gt;azureml.train.automl) (0.15.1)\n</pre>\n"
          },
          "metadata": {}
        },
        {
          "output_type": "display_data",
          "data": {
            "text/plain": "Requirement already satisfied: erroranalysis>=0.5.4 in /anaconda/envs/azureml_py310_sdkv2/lib/python3.10/site-packages (from responsibleai==0.36.0->azureml-responsibleai~=1.57.0->azureml.train.automl) (0.5.4)\n",
            "text/html": "<pre style=\"white-space:pre;overflow-x:auto;line-height:normal;font-family:Menlo,'DejaVu Sans Mono',consolas,'Courier New',monospace\">Requirement already satisfied: erroranalysis&gt;=0.5.4 in /anaconda/envs/azureml_py310_sdkv2/lib/python3.10/site-packages (from responsibleai==0.36.0-&gt;azureml-responsibleai~=1.57.0-&gt;azureml.train.automl) (0.5.4)\n</pre>\n"
          },
          "metadata": {}
        },
        {
          "output_type": "display_data",
          "data": {
            "text/plain": "Requirement already satisfied: interpret-community>=0.31.0 in /anaconda/envs/azureml_py310_sdkv2/lib/python3.10/site-packages (from responsibleai==0.36.0->azureml-responsibleai~=1.57.0->azureml.train.automl) (0.31.0)\n",
            "text/html": "<pre style=\"white-space:pre;overflow-x:auto;line-height:normal;font-family:Menlo,'DejaVu Sans Mono',consolas,'Courier New',monospace\">Requirement already satisfied: interpret-community&gt;=0.31.0 in /anaconda/envs/azureml_py310_sdkv2/lib/python3.10/site-packages (from responsibleai==0.36.0-&gt;azureml-responsibleai~=1.57.0-&gt;azureml.train.automl) (0.31.0)\n</pre>\n"
          },
          "metadata": {}
        },
        {
          "output_type": "display_data",
          "data": {
            "text/plain": "Requirement already satisfied: numba<=0.58.1 in /anaconda/envs/azureml_py310_sdkv2/lib/python3.10/site-packages (from responsibleai==0.36.0->azureml-responsibleai~=1.57.0->azureml.train.automl) (0.56.4)\n",
            "text/html": "<pre style=\"white-space:pre;overflow-x:auto;line-height:normal;font-family:Menlo,'DejaVu Sans Mono',consolas,'Courier New',monospace\">Requirement already satisfied: numba&lt;=0.58.1 in /anaconda/envs/azureml_py310_sdkv2/lib/python3.10/site-packages (from responsibleai==0.36.0-&gt;azureml-responsibleai~=1.57.0-&gt;azureml.train.automl) (0.56.4)\n</pre>\n"
          },
          "metadata": {}
        },
        {
          "output_type": "display_data",
          "data": {
            "text/plain": "Requirement already satisfied: semver~=2.13.0 in /anaconda/envs/azureml_py310_sdkv2/lib/python3.10/site-packages (from responsibleai==0.36.0->azureml-responsibleai~=1.57.0->azureml.train.automl) (2.13.0)\n",
            "text/html": "<pre style=\"white-space:pre;overflow-x:auto;line-height:normal;font-family:Menlo,'DejaVu Sans Mono',consolas,'Courier New',monospace\">Requirement already satisfied: semver~=2.13.0 in /anaconda/envs/azureml_py310_sdkv2/lib/python3.10/site-packages (from responsibleai==0.36.0-&gt;azureml-responsibleai~=1.57.0-&gt;azureml.train.automl) (2.13.0)\n</pre>\n"
          },
          "metadata": {}
        },
        {
          "output_type": "display_data",
          "data": {
            "text/plain": "Requirement already satisfied: ml-wrappers in /anaconda/envs/azureml_py310_sdkv2/lib/python3.10/site-packages (from responsibleai==0.36.0->azureml-responsibleai~=1.57.0->azureml.train.automl) (0.5.6)\n",
            "text/html": "<pre style=\"white-space:pre;overflow-x:auto;line-height:normal;font-family:Menlo,'DejaVu Sans Mono',consolas,'Courier New',monospace\">Requirement already satisfied: ml-wrappers in /anaconda/envs/azureml_py310_sdkv2/lib/python3.10/site-packages (from responsibleai==0.36.0-&gt;azureml-responsibleai~=1.57.0-&gt;azureml.train.automl) (0.5.6)\n</pre>\n"
          },
          "metadata": {}
        },
        {
          "output_type": "display_data",
          "data": {
            "text/plain": "Requirement already satisfied: networkx<=2.5 in /anaconda/envs/azureml_py310_sdkv2/lib/python3.10/site-packages (from responsibleai==0.36.0->azureml-responsibleai~=1.57.0->azureml.train.automl) (2.5)\n",
            "text/html": "<pre style=\"white-space:pre;overflow-x:auto;line-height:normal;font-family:Menlo,'DejaVu Sans Mono',consolas,'Courier New',monospace\">Requirement already satisfied: networkx&lt;=2.5 in /anaconda/envs/azureml_py310_sdkv2/lib/python3.10/site-packages (from responsibleai==0.36.0-&gt;azureml-responsibleai~=1.57.0-&gt;azureml.train.automl) (2.5)\n</pre>\n"
          },
          "metadata": {}
        },
        {
          "output_type": "display_data",
          "data": {
            "text/plain": "Requirement already satisfied: raiutils>=0.4.2 in /anaconda/envs/azureml_py310_sdkv2/lib/python3.10/site-packages (from responsibleai==0.36.0->azureml-responsibleai~=1.57.0->azureml.train.automl) (0.4.2)\n",
            "text/html": "<pre style=\"white-space:pre;overflow-x:auto;line-height:normal;font-family:Menlo,'DejaVu Sans Mono',consolas,'Courier New',monospace\">Requirement already satisfied: raiutils&gt;=0.4.2 in /anaconda/envs/azureml_py310_sdkv2/lib/python3.10/site-packages (from responsibleai==0.36.0-&gt;azureml-responsibleai~=1.57.0-&gt;azureml.train.automl) (0.4.2)\n</pre>\n"
          },
          "metadata": {}
        },
        {
          "output_type": "display_data",
          "data": {
            "text/plain": "Requirement already satisfied: ipykernel>=6.22.0 in /anaconda/envs/azureml_py310_sdkv2/lib/python3.10/site-packages (from responsibleai==0.36.0->azureml-responsibleai~=1.57.0->azureml.train.automl) (6.29.5)\n",
            "text/html": "<pre style=\"white-space:pre;overflow-x:auto;line-height:normal;font-family:Menlo,'DejaVu Sans Mono',consolas,'Courier New',monospace\">Requirement already satisfied: ipykernel&gt;=6.22.0 in /anaconda/envs/azureml_py310_sdkv2/lib/python3.10/site-packages (from responsibleai==0.36.0-&gt;azureml-responsibleai~=1.57.0-&gt;azureml.train.automl) (6.29.5)\n</pre>\n"
          },
          "metadata": {}
        },
        {
          "output_type": "display_data",
          "data": {
            "text/plain": "Requirement already satisfied: azureml-train-core~=1.57.0 in /anaconda/envs/azureml_py310_sdkv2/lib/python3.10/site-packages (from azureml-train-automl-client~=1.57.0->azureml.train.automl) (1.57.0)\n",
            "text/html": "<pre style=\"white-space:pre;overflow-x:auto;line-height:normal;font-family:Menlo,'DejaVu Sans Mono',consolas,'Courier New',monospace\">Requirement already satisfied: azureml-train-core~=1.57.0 in /anaconda/envs/azureml_py310_sdkv2/lib/python3.10/site-packages (from azureml-train-automl-client~=1.57.0-&gt;azureml.train.automl) (1.57.0)\n</pre>\n"
          },
          "metadata": {}
        },
        {
          "output_type": "display_data",
          "data": {
            "text/plain": "Requirement already satisfied: azure-storage-queue~=12.1 in /anaconda/envs/azureml_py310_sdkv2/lib/python3.10/site-packages (from azureml-train-automl-runtime~=1.57.0->azureml.train.automl) (12.12.0)\n",
            "text/html": "<pre style=\"white-space:pre;overflow-x:auto;line-height:normal;font-family:Menlo,'DejaVu Sans Mono',consolas,'Courier New',monospace\">Requirement already satisfied: azure-storage-queue~=12.1 in /anaconda/envs/azureml_py310_sdkv2/lib/python3.10/site-packages (from azureml-train-automl-runtime~=1.57.0-&gt;azureml.train.automl) (12.12.0)\n</pre>\n"
          },
          "metadata": {}
        },
        {
          "output_type": "display_data",
          "data": {
            "text/plain": "Requirement already satisfied: jinja2<4 in /anaconda/envs/azureml_py310_sdkv2/lib/python3.10/site-packages (from azureml-train-automl-runtime~=1.57.0->azureml.train.automl) (3.1.4)\n",
            "text/html": "<pre style=\"white-space:pre;overflow-x:auto;line-height:normal;font-family:Menlo,'DejaVu Sans Mono',consolas,'Courier New',monospace\">Requirement already satisfied: jinja2&lt;4 in /anaconda/envs/azureml_py310_sdkv2/lib/python3.10/site-packages (from azureml-train-automl-runtime~=1.57.0-&gt;azureml.train.automl) (3.1.4)\n</pre>\n"
          },
          "metadata": {}
        },
        {
          "output_type": "display_data",
          "data": {
            "text/plain": "Requirement already satisfied: dask<=2023.2.0 in /anaconda/envs/azureml_py310_sdkv2/lib/python3.10/site-packages (from dask[complete]<=2023.2.0->azureml-train-automl-runtime~=1.57.0->azureml.train.automl) (2023.2.0)\n",
            "text/html": "<pre style=\"white-space:pre;overflow-x:auto;line-height:normal;font-family:Menlo,'DejaVu Sans Mono',consolas,'Courier New',monospace\">Requirement already satisfied: dask&lt;=2023.2.0 in /anaconda/envs/azureml_py310_sdkv2/lib/python3.10/site-packages (from dask[complete]&lt;=2023.2.0-&gt;azureml-train-automl-runtime~=1.57.0-&gt;azureml.train.automl) (2023.2.0)\n</pre>\n"
          },
          "metadata": {}
        },
        {
          "output_type": "display_data",
          "data": {
            "text/plain": "Requirement already satisfied: bokeh<3.0.0 in /anaconda/envs/azureml_py310_sdkv2/lib/python3.10/site-packages (from azureml-train-automl-runtime~=1.57.0->azureml.train.automl) (2.4.3)\n",
            "text/html": "<pre style=\"white-space:pre;overflow-x:auto;line-height:normal;font-family:Menlo,'DejaVu Sans Mono',consolas,'Courier New',monospace\">Requirement already satisfied: bokeh&lt;3.0.0 in /anaconda/envs/azureml_py310_sdkv2/lib/python3.10/site-packages (from azureml-train-automl-runtime~=1.57.0-&gt;azureml.train.automl) (2.4.3)\n</pre>\n"
          },
          "metadata": {}
        },
        {
          "output_type": "display_data",
          "data": {
            "text/plain": "Requirement already satisfied: pyyaml<7.0.0 in /anaconda/envs/azureml_py310_sdkv2/lib/python3.10/site-packages (from azureml-train-automl-runtime~=1.57.0->azureml.train.automl) (6.0.2)\n",
            "text/html": "<pre style=\"white-space:pre;overflow-x:auto;line-height:normal;font-family:Menlo,'DejaVu Sans Mono',consolas,'Courier New',monospace\">Requirement already satisfied: pyyaml&lt;7.0.0 in /anaconda/envs/azureml_py310_sdkv2/lib/python3.10/site-packages (from azureml-train-automl-runtime~=1.57.0-&gt;azureml.train.automl) (6.0.2)\n</pre>\n"
          },
          "metadata": {}
        },
        {
          "output_type": "display_data",
          "data": {
            "text/plain": "Requirement already satisfied: azureml-mlflow~=1.57.0 in /anaconda/envs/azureml_py310_sdkv2/lib/python3.10/site-packages (from azureml-train-automl-runtime~=1.57.0->azureml.train.automl) (1.57.0.post1)\n",
            "text/html": "<pre style=\"white-space:pre;overflow-x:auto;line-height:normal;font-family:Menlo,'DejaVu Sans Mono',consolas,'Courier New',monospace\">Requirement already satisfied: azureml-mlflow~=1.57.0 in /anaconda/envs/azureml_py310_sdkv2/lib/python3.10/site-packages (from azureml-train-automl-runtime~=1.57.0-&gt;azureml.train.automl) (1.57.0.post1)\n</pre>\n"
          },
          "metadata": {}
        },
        {
          "output_type": "display_data",
          "data": {
            "text/plain": "Requirement already satisfied: property-cached>=1.6.4 in /anaconda/envs/azureml_py310_sdkv2/lib/python3.10/site-packages (from arch<=5.6.0->azureml-automl-runtime~=1.57.0->azureml.train.automl) (1.6.4)\n",
            "text/html": "<pre style=\"white-space:pre;overflow-x:auto;line-height:normal;font-family:Menlo,'DejaVu Sans Mono',consolas,'Courier New',monospace\">Requirement already satisfied: property-cached&gt;=1.6.4 in /anaconda/envs/azureml_py310_sdkv2/lib/python3.10/site-packages (from arch&lt;=5.6.0-&gt;azureml-automl-runtime~=1.57.0-&gt;azureml.train.automl) (1.6.4)\n</pre>\n"
          },
          "metadata": {}
        },
        {
          "output_type": "display_data",
          "data": {
            "text/plain": "Requirement already satisfied: azure-core>=1.30.0 in /anaconda/envs/azureml_py310_sdkv2/lib/python3.10/site-packages (from azure-storage-queue~=12.1->azureml-train-automl-runtime~=1.57.0->azureml.train.automl) (1.31.0)\n",
            "text/html": "<pre style=\"white-space:pre;overflow-x:auto;line-height:normal;font-family:Menlo,'DejaVu Sans Mono',consolas,'Courier New',monospace\">Requirement already satisfied: azure-core&gt;=1.30.0 in /anaconda/envs/azureml_py310_sdkv2/lib/python3.10/site-packages (from azure-storage-queue~=12.1-&gt;azureml-train-automl-runtime~=1.57.0-&gt;azureml.train.automl) (1.31.0)\n</pre>\n"
          },
          "metadata": {}
        },
        {
          "output_type": "display_data",
          "data": {
            "text/plain": "Requirement already satisfied: cryptography>=2.1.4 in /anaconda/envs/azureml_py310_sdkv2/lib/python3.10/site-packages (from azure-storage-queue~=12.1->azureml-train-automl-runtime~=1.57.0->azureml.train.automl) (43.0.1)\n",
            "text/html": "<pre style=\"white-space:pre;overflow-x:auto;line-height:normal;font-family:Menlo,'DejaVu Sans Mono',consolas,'Courier New',monospace\">Requirement already satisfied: cryptography&gt;=2.1.4 in /anaconda/envs/azureml_py310_sdkv2/lib/python3.10/site-packages (from azure-storage-queue~=12.1-&gt;azureml-train-automl-runtime~=1.57.0-&gt;azureml.train.automl) (43.0.1)\n</pre>\n"
          },
          "metadata": {}
        },
        {
          "output_type": "display_data",
          "data": {
            "text/plain": "Requirement already satisfied: typing-extensions>=4.6.0 in /anaconda/envs/azureml_py310_sdkv2/lib/python3.10/site-packages (from azure-storage-queue~=12.1->azureml-train-automl-runtime~=1.57.0->azureml.train.automl) (4.12.2)\n",
            "text/html": "<pre style=\"white-space:pre;overflow-x:auto;line-height:normal;font-family:Menlo,'DejaVu Sans Mono',consolas,'Courier New',monospace\">Requirement already satisfied: typing-extensions&gt;=4.6.0 in /anaconda/envs/azureml_py310_sdkv2/lib/python3.10/site-packages (from azure-storage-queue~=12.1-&gt;azureml-train-automl-runtime~=1.57.0-&gt;azureml.train.automl) (4.12.2)\n</pre>\n"
          },
          "metadata": {}
        },
        {
          "output_type": "display_data",
          "data": {
            "text/plain": "Requirement already satisfied: isodate>=0.6.1 in /anaconda/envs/azureml_py310_sdkv2/lib/python3.10/site-packages (from azure-storage-queue~=12.1->azureml-train-automl-runtime~=1.57.0->azureml.train.automl) (0.6.1)\n",
            "text/html": "<pre style=\"white-space:pre;overflow-x:auto;line-height:normal;font-family:Menlo,'DejaVu Sans Mono',consolas,'Courier New',monospace\">Requirement already satisfied: isodate&gt;=0.6.1 in /anaconda/envs/azureml_py310_sdkv2/lib/python3.10/site-packages (from azure-storage-queue~=12.1-&gt;azureml-train-automl-runtime~=1.57.0-&gt;azureml.train.automl) (0.6.1)\n</pre>\n"
          },
          "metadata": {}
        },
        {
          "output_type": "display_data",
          "data": {
            "text/plain": "Requirement already satisfied: backports.tempfile in /anaconda/envs/azureml_py310_sdkv2/lib/python3.10/site-packages (from azureml-core~=1.57.0->azureml-responsibleai~=1.57.0->azureml.train.automl) (1.0)\n",
            "text/html": "<pre style=\"white-space:pre;overflow-x:auto;line-height:normal;font-family:Menlo,'DejaVu Sans Mono',consolas,'Courier New',monospace\">Requirement already satisfied: backports.tempfile in /anaconda/envs/azureml_py310_sdkv2/lib/python3.10/site-packages (from azureml-core~=1.57.0-&gt;azureml-responsibleai~=1.57.0-&gt;azureml.train.automl) (1.0)\n</pre>\n"
          },
          "metadata": {}
        },
        {
          "output_type": "display_data",
          "data": {
            "text/plain": "Requirement already satisfied: pathspec<1.0.0 in /anaconda/envs/azureml_py310_sdkv2/lib/python3.10/site-packages (from azureml-core~=1.57.0->azureml-responsibleai~=1.57.0->azureml.train.automl) (0.12.1)\n",
            "text/html": "<pre style=\"white-space:pre;overflow-x:auto;line-height:normal;font-family:Menlo,'DejaVu Sans Mono',consolas,'Courier New',monospace\">Requirement already satisfied: pathspec&lt;1.0.0 in /anaconda/envs/azureml_py310_sdkv2/lib/python3.10/site-packages (from azureml-core~=1.57.0-&gt;azureml-responsibleai~=1.57.0-&gt;azureml.train.automl) (0.12.1)\n</pre>\n"
          },
          "metadata": {}
        },
        {
          "output_type": "display_data",
          "data": {
            "text/plain": "Requirement already satisfied: requests<3.0.0,>=2.19.1 in /anaconda/envs/azureml_py310_sdkv2/lib/python3.10/site-packages (from requests[socks]<3.0.0,>=2.19.1->azureml-core~=1.57.0->azureml-responsibleai~=1.57.0->azureml.train.automl) (2.32.3)\n",
            "text/html": "<pre style=\"white-space:pre;overflow-x:auto;line-height:normal;font-family:Menlo,'DejaVu Sans Mono',consolas,'Courier New',monospace\">Requirement already satisfied: requests&lt;3.0.0,&gt;=2.19.1 in /anaconda/envs/azureml_py310_sdkv2/lib/python3.10/site-packages (from requests[socks]&lt;3.0.0,&gt;=2.19.1-&gt;azureml-core~=1.57.0-&gt;azureml-responsibleai~=1.57.0-&gt;azureml.train.automl) (2.32.3)\n</pre>\n"
          },
          "metadata": {}
        },
        {
          "output_type": "display_data",
          "data": {
            "text/plain": "Requirement already satisfied: msal<2.0.0,>=1.15.0 in /anaconda/envs/azureml_py310_sdkv2/lib/python3.10/site-packages (from azureml-core~=1.57.0->azureml-responsibleai~=1.57.0->azureml.train.automl) (1.31.0)\n",
            "text/html": "<pre style=\"white-space:pre;overflow-x:auto;line-height:normal;font-family:Menlo,'DejaVu Sans Mono',consolas,'Courier New',monospace\">Requirement already satisfied: msal&lt;2.0.0,&gt;=1.15.0 in /anaconda/envs/azureml_py310_sdkv2/lib/python3.10/site-packages (from azureml-core~=1.57.0-&gt;azureml-responsibleai~=1.57.0-&gt;azureml.train.automl) (1.31.0)\n</pre>\n"
          },
          "metadata": {}
        },
        {
          "output_type": "display_data",
          "data": {
            "text/plain": "Requirement already satisfied: msal-extensions<=2.0.0,>=0.3.0 in /anaconda/envs/azureml_py310_sdkv2/lib/python3.10/site-packages (from azureml-core~=1.57.0->azureml-responsibleai~=1.57.0->azureml.train.automl) (1.2.0)\n",
            "text/html": "<pre style=\"white-space:pre;overflow-x:auto;line-height:normal;font-family:Menlo,'DejaVu Sans Mono',consolas,'Courier New',monospace\">Requirement already satisfied: msal-extensions&lt;=2.0.0,&gt;=0.3.0 in /anaconda/envs/azureml_py310_sdkv2/lib/python3.10/site-packages (from azureml-core~=1.57.0-&gt;azureml-responsibleai~=1.57.0-&gt;azureml.train.automl) (1.2.0)\n</pre>\n"
          },
          "metadata": {}
        },
        {
          "output_type": "display_data",
          "data": {
            "text/plain": "Requirement already satisfied: knack<0.12.0 in /anaconda/envs/azureml_py310_sdkv2/lib/python3.10/site-packages (from azureml-core~=1.57.0->azureml-responsibleai~=1.57.0->azureml.train.automl) (0.11.0)\n",
            "text/html": "<pre style=\"white-space:pre;overflow-x:auto;line-height:normal;font-family:Menlo,'DejaVu Sans Mono',consolas,'Courier New',monospace\">Requirement already satisfied: knack&lt;0.12.0 in /anaconda/envs/azureml_py310_sdkv2/lib/python3.10/site-packages (from azureml-core~=1.57.0-&gt;azureml-responsibleai~=1.57.0-&gt;azureml.train.automl) (0.11.0)\n</pre>\n"
          },
          "metadata": {}
        },
        {
          "output_type": "display_data",
          "data": {
            "text/plain": "Requirement already satisfied: pkginfo in /anaconda/envs/azureml_py310_sdkv2/lib/python3.10/site-packages (from azureml-core~=1.57.0->azureml-responsibleai~=1.57.0->azureml.train.automl) (1.11.1)\n",
            "text/html": "<pre style=\"white-space:pre;overflow-x:auto;line-height:normal;font-family:Menlo,'DejaVu Sans Mono',consolas,'Courier New',monospace\">Requirement already satisfied: pkginfo in /anaconda/envs/azureml_py310_sdkv2/lib/python3.10/site-packages (from azureml-core~=1.57.0-&gt;azureml-responsibleai~=1.57.0-&gt;azureml.train.automl) (1.11.1)\n</pre>\n"
          },
          "metadata": {}
        },
        {
          "output_type": "display_data",
          "data": {
            "text/plain": "Requirement already satisfied: argcomplete<4 in /anaconda/envs/azureml_py310_sdkv2/lib/python3.10/site-packages (from azureml-core~=1.57.0->azureml-responsibleai~=1.57.0->azureml.train.automl) (3.5.0)\n",
            "text/html": "<pre style=\"white-space:pre;overflow-x:auto;line-height:normal;font-family:Menlo,'DejaVu Sans Mono',consolas,'Courier New',monospace\">Requirement already satisfied: argcomplete&lt;4 in /anaconda/envs/azureml_py310_sdkv2/lib/python3.10/site-packages (from azureml-core~=1.57.0-&gt;azureml-responsibleai~=1.57.0-&gt;azureml.train.automl) (3.5.0)\n</pre>\n"
          },
          "metadata": {}
        },
        {
          "output_type": "display_data",
          "data": {
            "text/plain": "Requirement already satisfied: humanfriendly<11.0,>=4.7 in /anaconda/envs/azureml_py310_sdkv2/lib/python3.10/site-packages (from azureml-core~=1.57.0->azureml-responsibleai~=1.57.0->azureml.train.automl) (10.0)\n",
            "text/html": "<pre style=\"white-space:pre;overflow-x:auto;line-height:normal;font-family:Menlo,'DejaVu Sans Mono',consolas,'Courier New',monospace\">Requirement already satisfied: humanfriendly&lt;11.0,&gt;=4.7 in /anaconda/envs/azureml_py310_sdkv2/lib/python3.10/site-packages (from azureml-core~=1.57.0-&gt;azureml-responsibleai~=1.57.0-&gt;azureml.train.automl) (10.0)\n</pre>\n"
          },
          "metadata": {}
        },
        {
          "output_type": "display_data",
          "data": {
            "text/plain": "Requirement already satisfied: paramiko<4.0.0,>=2.0.8 in /anaconda/envs/azureml_py310_sdkv2/lib/python3.10/site-packages (from azureml-core~=1.57.0->azureml-responsibleai~=1.57.0->azureml.train.automl) (3.5.0)\n",
            "text/html": "<pre style=\"white-space:pre;overflow-x:auto;line-height:normal;font-family:Menlo,'DejaVu Sans Mono',consolas,'Courier New',monospace\">Requirement already satisfied: paramiko&lt;4.0.0,&gt;=2.0.8 in /anaconda/envs/azureml_py310_sdkv2/lib/python3.10/site-packages (from azureml-core~=1.57.0-&gt;azureml-responsibleai~=1.57.0-&gt;azureml.train.automl) (3.5.0)\n</pre>\n"
          },
          "metadata": {}
        },
        {
          "output_type": "display_data",
          "data": {
            "text/plain": "Requirement already satisfied: azure-mgmt-resource<=24.0.0,>=15.0.0 in /anaconda/envs/azureml_py310_sdkv2/lib/python3.10/site-packages (from azureml-core~=1.57.0->azureml-responsibleai~=1.57.0->azureml.train.automl) (23.1.1)\n",
            "text/html": "<pre style=\"white-space:pre;overflow-x:auto;line-height:normal;font-family:Menlo,'DejaVu Sans Mono',consolas,'Courier New',monospace\">Requirement already satisfied: azure-mgmt-resource&lt;=24.0.0,&gt;=15.0.0 in /anaconda/envs/azureml_py310_sdkv2/lib/python3.10/site-packages (from azureml-core~=1.57.0-&gt;azureml-responsibleai~=1.57.0-&gt;azureml.train.automl) (23.1.1)\n</pre>\n"
          },
          "metadata": {}
        },
        {
          "output_type": "display_data",
          "data": {
            "text/plain": "Requirement already satisfied: azure-mgmt-containerregistry<11,>=8.2.0 in /anaconda/envs/azureml_py310_sdkv2/lib/python3.10/site-packages (from azureml-core~=1.57.0->azureml-responsibleai~=1.57.0->azureml.train.automl) (10.3.0)\n",
            "text/html": "<pre style=\"white-space:pre;overflow-x:auto;line-height:normal;font-family:Menlo,'DejaVu Sans Mono',consolas,'Courier New',monospace\">Requirement already satisfied: azure-mgmt-containerregistry&lt;11,&gt;=8.2.0 in /anaconda/envs/azureml_py310_sdkv2/lib/python3.10/site-packages (from azureml-core~=1.57.0-&gt;azureml-responsibleai~=1.57.0-&gt;azureml.train.automl) (10.3.0)\n</pre>\n"
          },
          "metadata": {}
        },
        {
          "output_type": "display_data",
          "data": {
            "text/plain": "Requirement already satisfied: azure-mgmt-storage<=22.0.0,>=16.0.0 in /anaconda/envs/azureml_py310_sdkv2/lib/python3.10/site-packages (from azureml-core~=1.57.0->azureml-responsibleai~=1.57.0->azureml.train.automl) (21.2.1)\n",
            "text/html": "<pre style=\"white-space:pre;overflow-x:auto;line-height:normal;font-family:Menlo,'DejaVu Sans Mono',consolas,'Courier New',monospace\">Requirement already satisfied: azure-mgmt-storage&lt;=22.0.0,&gt;=16.0.0 in /anaconda/envs/azureml_py310_sdkv2/lib/python3.10/site-packages (from azureml-core~=1.57.0-&gt;azureml-responsibleai~=1.57.0-&gt;azureml.train.automl) (21.2.1)\n</pre>\n"
          },
          "metadata": {}
        },
        {
          "output_type": "display_data",
          "data": {
            "text/plain": "Requirement already satisfied: azure-mgmt-keyvault<11.0.0,>=0.40.0 in /anaconda/envs/azureml_py310_sdkv2/lib/python3.10/site-packages (from azureml-core~=1.57.0->azureml-responsibleai~=1.57.0->azureml.train.automl) (10.3.1)\n",
            "text/html": "<pre style=\"white-space:pre;overflow-x:auto;line-height:normal;font-family:Menlo,'DejaVu Sans Mono',consolas,'Courier New',monospace\">Requirement already satisfied: azure-mgmt-keyvault&lt;11.0.0,&gt;=0.40.0 in /anaconda/envs/azureml_py310_sdkv2/lib/python3.10/site-packages (from azureml-core~=1.57.0-&gt;azureml-responsibleai~=1.57.0-&gt;azureml.train.automl) (10.3.1)\n</pre>\n"
          },
          "metadata": {}
        },
        {
          "output_type": "display_data",
          "data": {
            "text/plain": "Requirement already satisfied: azure-mgmt-authorization<5,>=0.40.0 in /anaconda/envs/azureml_py310_sdkv2/lib/python3.10/site-packages (from azureml-core~=1.57.0->azureml-responsibleai~=1.57.0->azureml.train.automl) (4.0.0)\n",
            "text/html": "<pre style=\"white-space:pre;overflow-x:auto;line-height:normal;font-family:Menlo,'DejaVu Sans Mono',consolas,'Courier New',monospace\">Requirement already satisfied: azure-mgmt-authorization&lt;5,&gt;=0.40.0 in /anaconda/envs/azureml_py310_sdkv2/lib/python3.10/site-packages (from azureml-core~=1.57.0-&gt;azureml-responsibleai~=1.57.0-&gt;azureml.train.automl) (4.0.0)\n</pre>\n"
          },
          "metadata": {}
        },
        {
          "output_type": "display_data",
          "data": {
            "text/plain": "Requirement already satisfied: azure-mgmt-network<=26.0.0 in /anaconda/envs/azureml_py310_sdkv2/lib/python3.10/site-packages (from azureml-core~=1.57.0->azureml-responsibleai~=1.57.0->azureml.train.automl) (26.0.0)\n",
            "text/html": "<pre style=\"white-space:pre;overflow-x:auto;line-height:normal;font-family:Menlo,'DejaVu Sans Mono',consolas,'Courier New',monospace\">Requirement already satisfied: azure-mgmt-network&lt;=26.0.0 in /anaconda/envs/azureml_py310_sdkv2/lib/python3.10/site-packages (from azureml-core~=1.57.0-&gt;azureml-responsibleai~=1.57.0-&gt;azureml.train.automl) (26.0.0)\n</pre>\n"
          },
          "metadata": {}
        },
        {
          "output_type": "display_data",
          "data": {
            "text/plain": "Requirement already satisfied: azure-graphrbac<1.0.0,>=0.40.0 in /anaconda/envs/azureml_py310_sdkv2/lib/python3.10/site-packages (from azureml-core~=1.57.0->azureml-responsibleai~=1.57.0->azureml.train.automl) (0.61.1)\n",
            "text/html": "<pre style=\"white-space:pre;overflow-x:auto;line-height:normal;font-family:Menlo,'DejaVu Sans Mono',consolas,'Courier New',monospace\">Requirement already satisfied: azure-graphrbac&lt;1.0.0,&gt;=0.40.0 in /anaconda/envs/azureml_py310_sdkv2/lib/python3.10/site-packages (from azureml-core~=1.57.0-&gt;azureml-responsibleai~=1.57.0-&gt;azureml.train.automl) (0.61.1)\n</pre>\n"
          },
          "metadata": {}
        },
        {
          "output_type": "display_data",
          "data": {
            "text/plain": "Requirement already satisfied: azure-common<2.0.0,>=1.1.12 in /anaconda/envs/azureml_py310_sdkv2/lib/python3.10/site-packages (from azureml-core~=1.57.0->azureml-responsibleai~=1.57.0->azureml.train.automl) (1.1.28)\n",
            "text/html": "<pre style=\"white-space:pre;overflow-x:auto;line-height:normal;font-family:Menlo,'DejaVu Sans Mono',consolas,'Courier New',monospace\">Requirement already satisfied: azure-common&lt;2.0.0,&gt;=1.1.12 in /anaconda/envs/azureml_py310_sdkv2/lib/python3.10/site-packages (from azureml-core~=1.57.0-&gt;azureml-responsibleai~=1.57.0-&gt;azureml.train.automl) (1.1.28)\n</pre>\n"
          },
          "metadata": {}
        },
        {
          "output_type": "display_data",
          "data": {
            "text/plain": "Requirement already satisfied: msrest<=0.7.1,>=0.5.1 in /anaconda/envs/azureml_py310_sdkv2/lib/python3.10/site-packages (from azureml-core~=1.57.0->azureml-responsibleai~=1.57.0->azureml.train.automl) (0.7.1)\n",
            "text/html": "<pre style=\"white-space:pre;overflow-x:auto;line-height:normal;font-family:Menlo,'DejaVu Sans Mono',consolas,'Courier New',monospace\">Requirement already satisfied: msrest&lt;=0.7.1,&gt;=0.5.1 in /anaconda/envs/azureml_py310_sdkv2/lib/python3.10/site-packages (from azureml-core~=1.57.0-&gt;azureml-responsibleai~=1.57.0-&gt;azureml.train.automl) (0.7.1)\n</pre>\n"
          },
          "metadata": {}
        },
        {
          "output_type": "display_data",
          "data": {
            "text/plain": "Requirement already satisfied: msrestazure<=0.7,>=0.4.33 in /anaconda/envs/azureml_py310_sdkv2/lib/python3.10/site-packages (from azureml-core~=1.57.0->azureml-responsibleai~=1.57.0->azureml.train.automl) (0.6.4.post1)\n",
            "text/html": "<pre style=\"white-space:pre;overflow-x:auto;line-height:normal;font-family:Menlo,'DejaVu Sans Mono',consolas,'Courier New',monospace\">Requirement already satisfied: msrestazure&lt;=0.7,&gt;=0.4.33 in /anaconda/envs/azureml_py310_sdkv2/lib/python3.10/site-packages (from azureml-core~=1.57.0-&gt;azureml-responsibleai~=1.57.0-&gt;azureml.train.automl) (0.6.4.post1)\n</pre>\n"
          },
          "metadata": {}
        },
        {
          "output_type": "display_data",
          "data": {
            "text/plain": "Requirement already satisfied: ndg-httpsclient<=0.5.1 in /anaconda/envs/azureml_py310_sdkv2/lib/python3.10/site-packages (from azureml-core~=1.57.0->azureml-responsibleai~=1.57.0->azureml.train.automl) (0.5.1)\n",
            "text/html": "<pre style=\"white-space:pre;overflow-x:auto;line-height:normal;font-family:Menlo,'DejaVu Sans Mono',consolas,'Courier New',monospace\">Requirement already satisfied: ndg-httpsclient&lt;=0.5.1 in /anaconda/envs/azureml_py310_sdkv2/lib/python3.10/site-packages (from azureml-core~=1.57.0-&gt;azureml-responsibleai~=1.57.0-&gt;azureml.train.automl) (0.5.1)\n</pre>\n"
          },
          "metadata": {}
        },
        {
          "output_type": "display_data",
          "data": {
            "text/plain": "Requirement already satisfied: SecretStorage<4.0.0 in /anaconda/envs/azureml_py310_sdkv2/lib/python3.10/site-packages (from azureml-core~=1.57.0->azureml-responsibleai~=1.57.0->azureml.train.automl) (3.3.3)\n",
            "text/html": "<pre style=\"white-space:pre;overflow-x:auto;line-height:normal;font-family:Menlo,'DejaVu Sans Mono',consolas,'Courier New',monospace\">Requirement already satisfied: SecretStorage&lt;4.0.0 in /anaconda/envs/azureml_py310_sdkv2/lib/python3.10/site-packages (from azureml-core~=1.57.0-&gt;azureml-responsibleai~=1.57.0-&gt;azureml.train.automl) (3.3.3)\n</pre>\n"
          },
          "metadata": {}
        },
        {
          "output_type": "display_data",
          "data": {
            "text/plain": "Requirement already satisfied: jsonpickle<4.0.0 in /anaconda/envs/azureml_py310_sdkv2/lib/python3.10/site-packages (from azureml-core~=1.57.0->azureml-responsibleai~=1.57.0->azureml.train.automl) (3.3.0)\n",
            "text/html": "<pre style=\"white-space:pre;overflow-x:auto;line-height:normal;font-family:Menlo,'DejaVu Sans Mono',consolas,'Courier New',monospace\">Requirement already satisfied: jsonpickle&lt;4.0.0 in /anaconda/envs/azureml_py310_sdkv2/lib/python3.10/site-packages (from azureml-core~=1.57.0-&gt;azureml-responsibleai~=1.57.0-&gt;azureml.train.automl) (3.3.0)\n</pre>\n"
          },
          "metadata": {}
        },
        {
          "output_type": "display_data",
          "data": {
            "text/plain": "Requirement already satisfied: contextlib2<22.0.0 in /anaconda/envs/azureml_py310_sdkv2/lib/python3.10/site-packages (from azureml-core~=1.57.0->azureml-responsibleai~=1.57.0->azureml.train.automl) (21.6.0)\n",
            "text/html": "<pre style=\"white-space:pre;overflow-x:auto;line-height:normal;font-family:Menlo,'DejaVu Sans Mono',consolas,'Courier New',monospace\">Requirement already satisfied: contextlib2&lt;22.0.0 in /anaconda/envs/azureml_py310_sdkv2/lib/python3.10/site-packages (from azureml-core~=1.57.0-&gt;azureml-responsibleai~=1.57.0-&gt;azureml.train.automl) (21.6.0)\n</pre>\n"
          },
          "metadata": {}
        },
        {
          "output_type": "display_data",
          "data": {
            "text/plain": "Requirement already satisfied: docker<8.0.0 in /anaconda/envs/azureml_py310_sdkv2/lib/python3.10/site-packages (from azureml-core~=1.57.0->azureml-responsibleai~=1.57.0->azureml.train.automl) (7.1.0)\n",
            "text/html": "<pre style=\"white-space:pre;overflow-x:auto;line-height:normal;font-family:Menlo,'DejaVu Sans Mono',consolas,'Courier New',monospace\">Requirement already satisfied: docker&lt;8.0.0 in /anaconda/envs/azureml_py310_sdkv2/lib/python3.10/site-packages (from azureml-core~=1.57.0-&gt;azureml-responsibleai~=1.57.0-&gt;azureml.train.automl) (7.1.0)\n</pre>\n"
          },
          "metadata": {}
        },
        {
          "output_type": "display_data",
          "data": {
            "text/plain": "Requirement already satisfied: PyJWT<3.0.0 in /anaconda/envs/azureml_py310_sdkv2/lib/python3.10/site-packages (from azureml-core~=1.57.0->azureml-responsibleai~=1.57.0->azureml.train.automl) (2.9.0)\n",
            "text/html": "<pre style=\"white-space:pre;overflow-x:auto;line-height:normal;font-family:Menlo,'DejaVu Sans Mono',consolas,'Courier New',monospace\">Requirement already satisfied: PyJWT&lt;3.0.0 in /anaconda/envs/azureml_py310_sdkv2/lib/python3.10/site-packages (from azureml-core~=1.57.0-&gt;azureml-responsibleai~=1.57.0-&gt;azureml.train.automl) (2.9.0)\n</pre>\n"
          },
          "metadata": {}
        },
        {
          "output_type": "display_data",
          "data": {
            "text/plain": "Requirement already satisfied: adal<=1.2.7,>=1.2.0 in /anaconda/envs/azureml_py310_sdkv2/lib/python3.10/site-packages (from azureml-core~=1.57.0->azureml-responsibleai~=1.57.0->azureml.train.automl) (1.2.7)\n",
            "text/html": "<pre style=\"white-space:pre;overflow-x:auto;line-height:normal;font-family:Menlo,'DejaVu Sans Mono',consolas,'Courier New',monospace\">Requirement already satisfied: adal&lt;=1.2.7,&gt;=1.2.0 in /anaconda/envs/azureml_py310_sdkv2/lib/python3.10/site-packages (from azureml-core~=1.57.0-&gt;azureml-responsibleai~=1.57.0-&gt;azureml.train.automl) (1.2.7)\n</pre>\n"
          },
          "metadata": {}
        },
        {
          "output_type": "display_data",
          "data": {
            "text/plain": "Requirement already satisfied: pyopenssl<25.0.0 in /anaconda/envs/azureml_py310_sdkv2/lib/python3.10/site-packages (from azureml-core~=1.57.0->azureml-responsibleai~=1.57.0->azureml.train.automl) (24.2.1)\n",
            "text/html": "<pre style=\"white-space:pre;overflow-x:auto;line-height:normal;font-family:Menlo,'DejaVu Sans Mono',consolas,'Courier New',monospace\">Requirement already satisfied: pyopenssl&lt;25.0.0 in /anaconda/envs/azureml_py310_sdkv2/lib/python3.10/site-packages (from azureml-core~=1.57.0-&gt;azureml-responsibleai~=1.57.0-&gt;azureml.train.automl) (24.2.1)\n</pre>\n"
          },
          "metadata": {}
        },
        {
          "output_type": "display_data",
          "data": {
            "text/plain": "Requirement already satisfied: jmespath<2.0.0 in /anaconda/envs/azureml_py310_sdkv2/lib/python3.10/site-packages (from azureml-core~=1.57.0->azureml-responsibleai~=1.57.0->azureml.train.automl) (0.10.0)\n",
            "text/html": "<pre style=\"white-space:pre;overflow-x:auto;line-height:normal;font-family:Menlo,'DejaVu Sans Mono',consolas,'Courier New',monospace\">Requirement already satisfied: jmespath&lt;2.0.0 in /anaconda/envs/azureml_py310_sdkv2/lib/python3.10/site-packages (from azureml-core~=1.57.0-&gt;azureml-responsibleai~=1.57.0-&gt;azureml.train.automl) (0.10.0)\n</pre>\n"
          },
          "metadata": {}
        },
        {
          "output_type": "display_data",
          "data": {
            "text/plain": "Requirement already satisfied: azureml-dataprep-native<42.0.0,>=41.0.0 in /anaconda/envs/azureml_py310_sdkv2/lib/python3.10/site-packages (from azureml-dataprep<5.2.0a,>=5.1.0a->azureml-dataset-runtime~=1.57.0->azureml-dataset-runtime[fuse,pandas]~=1.57.0->azureml.train.automl) (41.0.0)\n",
            "text/html": "<pre style=\"white-space:pre;overflow-x:auto;line-height:normal;font-family:Menlo,'DejaVu Sans Mono',consolas,'Courier New',monospace\">Requirement already satisfied: azureml-dataprep-native&lt;42.0.0,&gt;=41.0.0 in /anaconda/envs/azureml_py310_sdkv2/lib/python3.10/site-packages (from azureml-dataprep&lt;5.2.0a,&gt;=5.1.0a-&gt;azureml-dataset-runtime~=1.57.0-&gt;azureml-dataset-runtime[fuse,pandas]~=1.57.0-&gt;azureml.train.automl) (41.0.0)\n</pre>\n"
          },
          "metadata": {}
        },
        {
          "output_type": "display_data",
          "data": {
            "text/plain": "Requirement already satisfied: azureml-dataprep-rslex~=2.22.2dev0 in /anaconda/envs/azureml_py310_sdkv2/lib/python3.10/site-packages (from azureml-dataprep<5.2.0a,>=5.1.0a->azureml-dataset-runtime~=1.57.0->azureml-dataset-runtime[fuse,pandas]~=1.57.0->azureml.train.automl) (2.22.4)\n",
            "text/html": "<pre style=\"white-space:pre;overflow-x:auto;line-height:normal;font-family:Menlo,'DejaVu Sans Mono',consolas,'Courier New',monospace\">Requirement already satisfied: azureml-dataprep-rslex~=2.22.2dev0 in /anaconda/envs/azureml_py310_sdkv2/lib/python3.10/site-packages (from azureml-dataprep&lt;5.2.0a,&gt;=5.1.0a-&gt;azureml-dataset-runtime~=1.57.0-&gt;azureml-dataset-runtime[fuse,pandas]~=1.57.0-&gt;azureml.train.automl) (2.22.4)\n</pre>\n"
          },
          "metadata": {}
        },
        {
          "output_type": "display_data",
          "data": {
            "text/plain": "Requirement already satisfied: cloudpickle<3.0.0,>=1.1.0 in /anaconda/envs/azureml_py310_sdkv2/lib/python3.10/site-packages (from azureml-dataprep<5.2.0a,>=5.1.0a->azureml-dataset-runtime~=1.57.0->azureml-dataset-runtime[fuse,pandas]~=1.57.0->azureml.train.automl) (2.2.1)\n",
            "text/html": "<pre style=\"white-space:pre;overflow-x:auto;line-height:normal;font-family:Menlo,'DejaVu Sans Mono',consolas,'Courier New',monospace\">Requirement already satisfied: cloudpickle&lt;3.0.0,&gt;=1.1.0 in /anaconda/envs/azureml_py310_sdkv2/lib/python3.10/site-packages (from azureml-dataprep&lt;5.2.0a,&gt;=5.1.0a-&gt;azureml-dataset-runtime~=1.57.0-&gt;azureml-dataset-runtime[fuse,pandas]~=1.57.0-&gt;azureml.train.automl) (2.2.1)\n</pre>\n"
          },
          "metadata": {}
        },
        {
          "output_type": "display_data",
          "data": {
            "text/plain": "Requirement already satisfied: azure-identity>=1.7.0 in /anaconda/envs/azureml_py310_sdkv2/lib/python3.10/site-packages (from azureml-dataprep<5.2.0a,>=5.1.0a->azureml-dataset-runtime~=1.57.0->azureml-dataset-runtime[fuse,pandas]~=1.57.0->azureml.train.automl) (1.18.0)\n",
            "text/html": "<pre style=\"white-space:pre;overflow-x:auto;line-height:normal;font-family:Menlo,'DejaVu Sans Mono',consolas,'Courier New',monospace\">Requirement already satisfied: azure-identity&gt;=1.7.0 in /anaconda/envs/azureml_py310_sdkv2/lib/python3.10/site-packages (from azureml-dataprep&lt;5.2.0a,&gt;=5.1.0a-&gt;azureml-dataset-runtime~=1.57.0-&gt;azureml-dataset-runtime[fuse,pandas]~=1.57.0-&gt;azureml.train.automl) (1.18.0)\n</pre>\n"
          },
          "metadata": {}
        },
        {
          "output_type": "display_data",
          "data": {
            "text/plain": "Requirement already satisfied: shap<=0.44.0,>=0.20.0 in /anaconda/envs/azureml_py310_sdkv2/lib/python3.10/site-packages (from interpret-community>=0.31.0->responsibleai==0.36.0->azureml-responsibleai~=1.57.0->azureml.train.automl) (0.43.0)\n",
            "text/html": "<pre style=\"white-space:pre;overflow-x:auto;line-height:normal;font-family:Menlo,'DejaVu Sans Mono',consolas,'Courier New',monospace\">Requirement already satisfied: shap&lt;=0.44.0,&gt;=0.20.0 in /anaconda/envs/azureml_py310_sdkv2/lib/python3.10/site-packages (from interpret-community&gt;=0.31.0-&gt;responsibleai==0.36.0-&gt;azureml-responsibleai~=1.57.0-&gt;azureml.train.automl) (0.43.0)\n</pre>\n"
          },
          "metadata": {}
        },
        {
          "output_type": "display_data",
          "data": {
            "text/plain": "Requirement already satisfied: interpret-core<=0.5.0,>=0.1.20 in /anaconda/envs/azureml_py310_sdkv2/lib/python3.10/site-packages (from interpret-community>=0.31.0->responsibleai==0.36.0->azureml-responsibleai~=1.57.0->azureml.train.automl) (0.5.0)\n",
            "text/html": "<pre style=\"white-space:pre;overflow-x:auto;line-height:normal;font-family:Menlo,'DejaVu Sans Mono',consolas,'Courier New',monospace\">Requirement already satisfied: interpret-core&lt;=0.5.0,&gt;=0.1.20 in /anaconda/envs/azureml_py310_sdkv2/lib/python3.10/site-packages (from interpret-community&gt;=0.31.0-&gt;responsibleai==0.36.0-&gt;azureml-responsibleai~=1.57.0-&gt;azureml.train.automl) (0.5.0)\n</pre>\n"
          },
          "metadata": {}
        },
        {
          "output_type": "display_data",
          "data": {
            "text/plain": "Requirement already satisfied: mlflow-skinny in /anaconda/envs/azureml_py310_sdkv2/lib/python3.10/site-packages (from azureml-mlflow~=1.57.0->azureml-train-automl-runtime~=1.57.0->azureml.train.automl) (2.16.2)\n",
            "text/html": "<pre style=\"white-space:pre;overflow-x:auto;line-height:normal;font-family:Menlo,'DejaVu Sans Mono',consolas,'Courier New',monospace\">Requirement already satisfied: mlflow-skinny in /anaconda/envs/azureml_py310_sdkv2/lib/python3.10/site-packages (from azureml-mlflow~=1.57.0-&gt;azureml-train-automl-runtime~=1.57.0-&gt;azureml.train.automl) (2.16.2)\n</pre>\n"
          },
          "metadata": {}
        },
        {
          "output_type": "display_data",
          "data": {
            "text/plain": "Requirement already satisfied: azure-mgmt-core<2.0.0,>=1.2.0 in /anaconda/envs/azureml_py310_sdkv2/lib/python3.10/site-packages (from azureml-mlflow~=1.57.0->azureml-train-automl-runtime~=1.57.0->azureml.train.automl) (1.4.0)\n",
            "text/html": "<pre style=\"white-space:pre;overflow-x:auto;line-height:normal;font-family:Menlo,'DejaVu Sans Mono',consolas,'Courier New',monospace\">Requirement already satisfied: azure-mgmt-core&lt;2.0.0,&gt;=1.2.0 in /anaconda/envs/azureml_py310_sdkv2/lib/python3.10/site-packages (from azureml-mlflow~=1.57.0-&gt;azureml-train-automl-runtime~=1.57.0-&gt;azureml.train.automl) (1.4.0)\n</pre>\n"
          },
          "metadata": {}
        },
        {
          "output_type": "display_data",
          "data": {
            "text/plain": "Requirement already satisfied: azure-storage-blob<=12.19.0,>=12.5.0 in /anaconda/envs/azureml_py310_sdkv2/lib/python3.10/site-packages (from azureml-mlflow~=1.57.0->azureml-train-automl-runtime~=1.57.0->azureml.train.automl) (12.19.0)\n",
            "text/html": "<pre style=\"white-space:pre;overflow-x:auto;line-height:normal;font-family:Menlo,'DejaVu Sans Mono',consolas,'Courier New',monospace\">Requirement already satisfied: azure-storage-blob&lt;=12.19.0,&gt;=12.5.0 in /anaconda/envs/azureml_py310_sdkv2/lib/python3.10/site-packages (from azureml-mlflow~=1.57.0-&gt;azureml-train-automl-runtime~=1.57.0-&gt;azureml.train.automl) (12.19.0)\n</pre>\n"
          },
          "metadata": {}
        },
        {
          "output_type": "display_data",
          "data": {
            "text/plain": "Requirement already satisfied: applicationinsights in /anaconda/envs/azureml_py310_sdkv2/lib/python3.10/site-packages (from azureml-telemetry~=1.57.0->azureml-automl-core~=1.57.0->azureml.train.automl) (0.11.10)\n",
            "text/html": "<pre style=\"white-space:pre;overflow-x:auto;line-height:normal;font-family:Menlo,'DejaVu Sans Mono',consolas,'Courier New',monospace\">Requirement already satisfied: applicationinsights in /anaconda/envs/azureml_py310_sdkv2/lib/python3.10/site-packages (from azureml-telemetry~=1.57.0-&gt;azureml-automl-core~=1.57.0-&gt;azureml.train.automl) (0.11.10)\n</pre>\n"
          },
          "metadata": {}
        },
        {
          "output_type": "display_data",
          "data": {
            "text/plain": "Requirement already satisfied: azureml-train-restclients-hyperdrive~=1.57.0 in /anaconda/envs/azureml_py310_sdkv2/lib/python3.10/site-packages (from azureml-train-core~=1.57.0->azureml-train-automl-client~=1.57.0->azureml.train.automl) (1.57.0)\n",
            "text/html": "<pre style=\"white-space:pre;overflow-x:auto;line-height:normal;font-family:Menlo,'DejaVu Sans Mono',consolas,'Courier New',monospace\">Requirement already satisfied: azureml-train-restclients-hyperdrive~=1.57.0 in /anaconda/envs/azureml_py310_sdkv2/lib/python3.10/site-packages (from azureml-train-core~=1.57.0-&gt;azureml-train-automl-client~=1.57.0-&gt;azureml.train.automl) (1.57.0)\n</pre>\n"
          },
          "metadata": {}
        },
        {
          "output_type": "display_data",
          "data": {
            "text/plain": "Requirement already satisfied: pillow>=7.1.0 in /anaconda/envs/azureml_py310_sdkv2/lib/python3.10/site-packages (from bokeh<3.0.0->azureml-train-automl-runtime~=1.57.0->azureml.train.automl) (10.4.0)\n",
            "text/html": "<pre style=\"white-space:pre;overflow-x:auto;line-height:normal;font-family:Menlo,'DejaVu Sans Mono',consolas,'Courier New',monospace\">Requirement already satisfied: pillow&gt;=7.1.0 in /anaconda/envs/azureml_py310_sdkv2/lib/python3.10/site-packages (from bokeh&lt;3.0.0-&gt;azureml-train-automl-runtime~=1.57.0-&gt;azureml.train.automl) (10.4.0)\n</pre>\n"
          },
          "metadata": {}
        },
        {
          "output_type": "display_data",
          "data": {
            "text/plain": "Requirement already satisfied: tornado>=5.1 in /anaconda/envs/azureml_py310_sdkv2/lib/python3.10/site-packages (from bokeh<3.0.0->azureml-train-automl-runtime~=1.57.0->azureml.train.automl) (6.4.1)\n",
            "text/html": "<pre style=\"white-space:pre;overflow-x:auto;line-height:normal;font-family:Menlo,'DejaVu Sans Mono',consolas,'Courier New',monospace\">Requirement already satisfied: tornado&gt;=5.1 in /anaconda/envs/azureml_py310_sdkv2/lib/python3.10/site-packages (from bokeh&lt;3.0.0-&gt;azureml-train-automl-runtime~=1.57.0-&gt;azureml.train.automl) (6.4.1)\n</pre>\n"
          },
          "metadata": {}
        },
        {
          "output_type": "display_data",
          "data": {
            "text/plain": "Requirement already satisfied: s3transfer<0.6.0,>=0.5.0 in /anaconda/envs/azureml_py310_sdkv2/lib/python3.10/site-packages (from boto3<=1.20.19->azureml-automl-runtime~=1.57.0->azureml.train.automl) (0.5.2)\n",
            "text/html": "<pre style=\"white-space:pre;overflow-x:auto;line-height:normal;font-family:Menlo,'DejaVu Sans Mono',consolas,'Courier New',monospace\">Requirement already satisfied: s3transfer&lt;0.6.0,&gt;=0.5.0 in /anaconda/envs/azureml_py310_sdkv2/lib/python3.10/site-packages (from boto3&lt;=1.20.19-&gt;azureml-automl-runtime~=1.57.0-&gt;azureml.train.automl) (0.5.2)\n</pre>\n"
          },
          "metadata": {}
        },
        {
          "output_type": "display_data",
          "data": {
            "text/plain": "Requirement already satisfied: click>=7.0 in /anaconda/envs/azureml_py310_sdkv2/lib/python3.10/site-packages (from dask<=2023.2.0->dask[complete]<=2023.2.0->azureml-train-automl-runtime~=1.57.0->azureml.train.automl) (8.1.7)\n",
            "text/html": "<pre style=\"white-space:pre;overflow-x:auto;line-height:normal;font-family:Menlo,'DejaVu Sans Mono',consolas,'Courier New',monospace\">Requirement already satisfied: click&gt;=7.0 in /anaconda/envs/azureml_py310_sdkv2/lib/python3.10/site-packages (from dask&lt;=2023.2.0-&gt;dask[complete]&lt;=2023.2.0-&gt;azureml-train-automl-runtime~=1.57.0-&gt;azureml.train.automl) (8.1.7)\n</pre>\n"
          },
          "metadata": {}
        },
        {
          "output_type": "display_data",
          "data": {
            "text/plain": "Requirement already satisfied: fsspec>=0.6.0 in /anaconda/envs/azureml_py310_sdkv2/lib/python3.10/site-packages (from dask<=2023.2.0->dask[complete]<=2023.2.0->azureml-train-automl-runtime~=1.57.0->azureml.train.automl) (2023.10.0)\n",
            "text/html": "<pre style=\"white-space:pre;overflow-x:auto;line-height:normal;font-family:Menlo,'DejaVu Sans Mono',consolas,'Courier New',monospace\">Requirement already satisfied: fsspec&gt;=0.6.0 in /anaconda/envs/azureml_py310_sdkv2/lib/python3.10/site-packages (from dask&lt;=2023.2.0-&gt;dask[complete]&lt;=2023.2.0-&gt;azureml-train-automl-runtime~=1.57.0-&gt;azureml.train.automl) (2023.10.0)\n</pre>\n"
          },
          "metadata": {}
        },
        {
          "output_type": "display_data",
          "data": {
            "text/plain": "Requirement already satisfied: partd>=0.3.10 in /anaconda/envs/azureml_py310_sdkv2/lib/python3.10/site-packages (from dask<=2023.2.0->dask[complete]<=2023.2.0->azureml-train-automl-runtime~=1.57.0->azureml.train.automl) (1.4.2)\n",
            "text/html": "<pre style=\"white-space:pre;overflow-x:auto;line-height:normal;font-family:Menlo,'DejaVu Sans Mono',consolas,'Courier New',monospace\">Requirement already satisfied: partd&gt;=0.3.10 in /anaconda/envs/azureml_py310_sdkv2/lib/python3.10/site-packages (from dask&lt;=2023.2.0-&gt;dask[complete]&lt;=2023.2.0-&gt;azureml-train-automl-runtime~=1.57.0-&gt;azureml.train.automl) (1.4.2)\n</pre>\n"
          },
          "metadata": {}
        },
        {
          "output_type": "display_data",
          "data": {
            "text/plain": "Requirement already satisfied: toolz>=0.8.2 in /anaconda/envs/azureml_py310_sdkv2/lib/python3.10/site-packages (from dask<=2023.2.0->dask[complete]<=2023.2.0->azureml-train-automl-runtime~=1.57.0->azureml.train.automl) (1.0.0)\n",
            "text/html": "<pre style=\"white-space:pre;overflow-x:auto;line-height:normal;font-family:Menlo,'DejaVu Sans Mono',consolas,'Courier New',monospace\">Requirement already satisfied: toolz&gt;=0.8.2 in /anaconda/envs/azureml_py310_sdkv2/lib/python3.10/site-packages (from dask&lt;=2023.2.0-&gt;dask[complete]&lt;=2023.2.0-&gt;azureml-train-automl-runtime~=1.57.0-&gt;azureml.train.automl) (1.0.0)\n</pre>\n"
          },
          "metadata": {}
        },
        {
          "output_type": "display_data",
          "data": {
            "text/plain": "Requirement already satisfied: distributed==2023.2.0 in /anaconda/envs/azureml_py310_sdkv2/lib/python3.10/site-packages (from dask[complete]<=2023.2.0->azureml-train-automl-runtime~=1.57.0->azureml.train.automl) (2023.2.0)\n",
            "text/html": "<pre style=\"white-space:pre;overflow-x:auto;line-height:normal;font-family:Menlo,'DejaVu Sans Mono',consolas,'Courier New',monospace\">Requirement already satisfied: distributed==2023.2.0 in /anaconda/envs/azureml_py310_sdkv2/lib/python3.10/site-packages (from dask[complete]&lt;=2023.2.0-&gt;azureml-train-automl-runtime~=1.57.0-&gt;azureml.train.automl) (2023.2.0)\n</pre>\n"
          },
          "metadata": {}
        },
        {
          "output_type": "display_data",
          "data": {
            "text/plain": "Requirement already satisfied: locket>=1.0.0 in /anaconda/envs/azureml_py310_sdkv2/lib/python3.10/site-packages (from distributed==2023.2.0->dask[complete]<=2023.2.0->azureml-train-automl-runtime~=1.57.0->azureml.train.automl) (1.0.0)\n",
            "text/html": "<pre style=\"white-space:pre;overflow-x:auto;line-height:normal;font-family:Menlo,'DejaVu Sans Mono',consolas,'Courier New',monospace\">Requirement already satisfied: locket&gt;=1.0.0 in /anaconda/envs/azureml_py310_sdkv2/lib/python3.10/site-packages (from distributed==2023.2.0-&gt;dask[complete]&lt;=2023.2.0-&gt;azureml-train-automl-runtime~=1.57.0-&gt;azureml.train.automl) (1.0.0)\n</pre>\n"
          },
          "metadata": {}
        },
        {
          "output_type": "display_data",
          "data": {
            "text/plain": "Requirement already satisfied: msgpack>=1.0.0 in /anaconda/envs/azureml_py310_sdkv2/lib/python3.10/site-packages (from distributed==2023.2.0->dask[complete]<=2023.2.0->azureml-train-automl-runtime~=1.57.0->azureml.train.automl) (1.1.0)\n",
            "text/html": "<pre style=\"white-space:pre;overflow-x:auto;line-height:normal;font-family:Menlo,'DejaVu Sans Mono',consolas,'Courier New',monospace\">Requirement already satisfied: msgpack&gt;=1.0.0 in /anaconda/envs/azureml_py310_sdkv2/lib/python3.10/site-packages (from distributed==2023.2.0-&gt;dask[complete]&lt;=2023.2.0-&gt;azureml-train-automl-runtime~=1.57.0-&gt;azureml.train.automl) (1.1.0)\n</pre>\n"
          },
          "metadata": {}
        },
        {
          "output_type": "display_data",
          "data": {
            "text/plain": "Requirement already satisfied: sortedcontainers>=2.0.5 in /anaconda/envs/azureml_py310_sdkv2/lib/python3.10/site-packages (from distributed==2023.2.0->dask[complete]<=2023.2.0->azureml-train-automl-runtime~=1.57.0->azureml.train.automl) (2.4.0)\n",
            "text/html": "<pre style=\"white-space:pre;overflow-x:auto;line-height:normal;font-family:Menlo,'DejaVu Sans Mono',consolas,'Courier New',monospace\">Requirement already satisfied: sortedcontainers&gt;=2.0.5 in /anaconda/envs/azureml_py310_sdkv2/lib/python3.10/site-packages (from distributed==2023.2.0-&gt;dask[complete]&lt;=2023.2.0-&gt;azureml-train-automl-runtime~=1.57.0-&gt;azureml.train.automl) (2.4.0)\n</pre>\n"
          },
          "metadata": {}
        },
        {
          "output_type": "display_data",
          "data": {
            "text/plain": "Requirement already satisfied: tblib>=1.6.0 in /anaconda/envs/azureml_py310_sdkv2/lib/python3.10/site-packages (from distributed==2023.2.0->dask[complete]<=2023.2.0->azureml-train-automl-runtime~=1.57.0->azureml.train.automl) (3.0.0)\n",
            "text/html": "<pre style=\"white-space:pre;overflow-x:auto;line-height:normal;font-family:Menlo,'DejaVu Sans Mono',consolas,'Courier New',monospace\">Requirement already satisfied: tblib&gt;=1.6.0 in /anaconda/envs/azureml_py310_sdkv2/lib/python3.10/site-packages (from distributed==2023.2.0-&gt;dask[complete]&lt;=2023.2.0-&gt;azureml-train-automl-runtime~=1.57.0-&gt;azureml.train.automl) (3.0.0)\n</pre>\n"
          },
          "metadata": {}
        },
        {
          "output_type": "display_data",
          "data": {
            "text/plain": "Requirement already satisfied: zict>=2.1.0 in /anaconda/envs/azureml_py310_sdkv2/lib/python3.10/site-packages (from distributed==2023.2.0->dask[complete]<=2023.2.0->azureml-train-automl-runtime~=1.57.0->azureml.train.automl) (3.0.0)\n",
            "text/html": "<pre style=\"white-space:pre;overflow-x:auto;line-height:normal;font-family:Menlo,'DejaVu Sans Mono',consolas,'Courier New',monospace\">Requirement already satisfied: zict&gt;=2.1.0 in /anaconda/envs/azureml_py310_sdkv2/lib/python3.10/site-packages (from distributed==2023.2.0-&gt;dask[complete]&lt;=2023.2.0-&gt;azureml-train-automl-runtime~=1.57.0-&gt;azureml.train.automl) (3.0.0)\n</pre>\n"
          },
          "metadata": {}
        },
        {
          "output_type": "display_data",
          "data": {
            "text/plain": "Requirement already satisfied: distro>=1.2.0 in /anaconda/envs/azureml_py310_sdkv2/lib/python3.10/site-packages (from dotnetcore2<4.0.0,>=3.0.0->azureml-automl-runtime~=1.57.0->azureml.train.automl) (1.9.0)\n",
            "text/html": "<pre style=\"white-space:pre;overflow-x:auto;line-height:normal;font-family:Menlo,'DejaVu Sans Mono',consolas,'Courier New',monospace\">Requirement already satisfied: distro&gt;=1.2.0 in /anaconda/envs/azureml_py310_sdkv2/lib/python3.10/site-packages (from dotnetcore2&lt;4.0.0,&gt;=3.0.0-&gt;azureml-automl-runtime~=1.57.0-&gt;azureml.train.automl) (1.9.0)\n</pre>\n"
          },
          "metadata": {}
        },
        {
          "output_type": "display_data",
          "data": {
            "text/plain": "Requirement already satisfied: zipp>=0.5 in /anaconda/envs/azureml_py310_sdkv2/lib/python3.10/site-packages (from importlib-metadata<=8.2.0->azureml-automl-core~=1.57.0->azureml.train.automl) (3.20.2)\n",
            "text/html": "<pre style=\"white-space:pre;overflow-x:auto;line-height:normal;font-family:Menlo,'DejaVu Sans Mono',consolas,'Courier New',monospace\">Requirement already satisfied: zipp&gt;=0.5 in /anaconda/envs/azureml_py310_sdkv2/lib/python3.10/site-packages (from importlib-metadata&lt;=8.2.0-&gt;azureml-automl-core~=1.57.0-&gt;azureml.train.automl) (3.20.2)\n</pre>\n"
          },
          "metadata": {}
        },
        {
          "output_type": "display_data",
          "data": {
            "text/plain": "Requirement already satisfied: MarkupSafe>=2.0 in /anaconda/envs/azureml_py310_sdkv2/lib/python3.10/site-packages (from jinja2<4->azureml-train-automl-runtime~=1.57.0->azureml.train.automl) (2.1.5)\n",
            "text/html": "<pre style=\"white-space:pre;overflow-x:auto;line-height:normal;font-family:Menlo,'DejaVu Sans Mono',consolas,'Courier New',monospace\">Requirement already satisfied: MarkupSafe&gt;=2.0 in /anaconda/envs/azureml_py310_sdkv2/lib/python3.10/site-packages (from jinja2&lt;4-&gt;azureml-train-automl-runtime~=1.57.0-&gt;azureml.train.automl) (2.1.5)\n</pre>\n"
          },
          "metadata": {}
        },
        {
          "output_type": "display_data",
          "data": {
            "text/plain": "Requirement already satisfied: fire in /anaconda/envs/azureml_py310_sdkv2/lib/python3.10/site-packages (from keras2onnx<=1.6.0,>=1.4.0->azureml-automl-runtime~=1.57.0->azureml.train.automl) (0.7.0)\n",
            "text/html": "<pre style=\"white-space:pre;overflow-x:auto;line-height:normal;font-family:Menlo,'DejaVu Sans Mono',consolas,'Courier New',monospace\">Requirement already satisfied: fire in /anaconda/envs/azureml_py310_sdkv2/lib/python3.10/site-packages (from keras2onnx&lt;=1.6.0,&gt;=1.4.0-&gt;azureml-automl-runtime~=1.57.0-&gt;azureml.train.automl) (0.7.0)\n</pre>\n"
          },
          "metadata": {}
        },
        {
          "output_type": "display_data",
          "data": {
            "text/plain": "Requirement already satisfied: wheel in /anaconda/envs/azureml_py310_sdkv2/lib/python3.10/site-packages (from lightgbm<=3.2.1,>=3.0.0->azureml-automl-runtime~=1.57.0->azureml.train.automl) (0.44.0)\n",
            "text/html": "<pre style=\"white-space:pre;overflow-x:auto;line-height:normal;font-family:Menlo,'DejaVu Sans Mono',consolas,'Courier New',monospace\">Requirement already satisfied: wheel in /anaconda/envs/azureml_py310_sdkv2/lib/python3.10/site-packages (from lightgbm&lt;=3.2.1,&gt;=3.0.0-&gt;azureml-automl-runtime~=1.57.0-&gt;azureml.train.automl) (0.44.0)\n</pre>\n"
          },
          "metadata": {}
        },
        {
          "output_type": "display_data",
          "data": {
            "text/plain": "Requirement already satisfied: coloredlogs in /anaconda/envs/azureml_py310_sdkv2/lib/python3.10/site-packages (from onnxruntime~=1.17.3->azureml-automl-runtime~=1.57.0->azureml.train.automl) (15.0.1)\n",
            "text/html": "<pre style=\"white-space:pre;overflow-x:auto;line-height:normal;font-family:Menlo,'DejaVu Sans Mono',consolas,'Courier New',monospace\">Requirement already satisfied: coloredlogs in /anaconda/envs/azureml_py310_sdkv2/lib/python3.10/site-packages (from onnxruntime~=1.17.3-&gt;azureml-automl-runtime~=1.57.0-&gt;azureml.train.automl) (15.0.1)\n</pre>\n"
          },
          "metadata": {}
        },
        {
          "output_type": "display_data",
          "data": {
            "text/plain": "Requirement already satisfied: flatbuffers in /anaconda/envs/azureml_py310_sdkv2/lib/python3.10/site-packages (from onnxruntime~=1.17.3->azureml-automl-runtime~=1.57.0->azureml.train.automl) (24.3.25)\n",
            "text/html": "<pre style=\"white-space:pre;overflow-x:auto;line-height:normal;font-family:Menlo,'DejaVu Sans Mono',consolas,'Courier New',monospace\">Requirement already satisfied: flatbuffers in /anaconda/envs/azureml_py310_sdkv2/lib/python3.10/site-packages (from onnxruntime~=1.17.3-&gt;azureml-automl-runtime~=1.57.0-&gt;azureml.train.automl) (24.3.25)\n</pre>\n"
          },
          "metadata": {}
        },
        {
          "output_type": "display_data",
          "data": {
            "text/plain": "Requirement already satisfied: sympy in /anaconda/envs/azureml_py310_sdkv2/lib/python3.10/site-packages (from onnxruntime~=1.17.3->azureml-automl-runtime~=1.57.0->azureml.train.automl) (1.13.3)\n",
            "text/html": "<pre style=\"white-space:pre;overflow-x:auto;line-height:normal;font-family:Menlo,'DejaVu Sans Mono',consolas,'Courier New',monospace\">Requirement already satisfied: sympy in /anaconda/envs/azureml_py310_sdkv2/lib/python3.10/site-packages (from onnxruntime~=1.17.3-&gt;azureml-automl-runtime~=1.57.0-&gt;azureml.train.automl) (1.13.3)\n</pre>\n"
          },
          "metadata": {}
        },
        {
          "output_type": "display_data",
          "data": {
            "text/plain": "Requirement already satisfied: threadpoolctl>=3.1.0 in /anaconda/envs/azureml_py310_sdkv2/lib/python3.10/site-packages (from scikit-learn~=1.5.1->azureml-automl-runtime~=1.57.0->azureml.train.automl) (3.5.0)\n",
            "text/html": "<pre style=\"white-space:pre;overflow-x:auto;line-height:normal;font-family:Menlo,'DejaVu Sans Mono',consolas,'Courier New',monospace\">Requirement already satisfied: threadpoolctl&gt;=3.1.0 in /anaconda/envs/azureml_py310_sdkv2/lib/python3.10/site-packages (from scikit-learn~=1.5.1-&gt;azureml-automl-runtime~=1.57.0-&gt;azureml.train.automl) (3.5.0)\n</pre>\n"
          },
          "metadata": {}
        },
        {
          "output_type": "display_data",
          "data": {
            "text/plain": "Requirement already satisfied: patsy>=0.5.2 in /anaconda/envs/azureml_py310_sdkv2/lib/python3.10/site-packages (from statsmodels<0.14,>=0.13.0->azureml-automl-runtime~=1.57.0->azureml.train.automl) (0.5.6)\n",
            "text/html": "<pre style=\"white-space:pre;overflow-x:auto;line-height:normal;font-family:Menlo,'DejaVu Sans Mono',consolas,'Courier New',monospace\">Requirement already satisfied: patsy&gt;=0.5.2 in /anaconda/envs/azureml_py310_sdkv2/lib/python3.10/site-packages (from statsmodels&lt;0.14,&gt;=0.13.0-&gt;azureml-automl-runtime~=1.57.0-&gt;azureml.train.automl) (0.5.6)\n</pre>\n"
          },
          "metadata": {}
        },
        {
          "output_type": "display_data",
          "data": {
            "text/plain": "Requirement already satisfied: attrs>=22.2.0 in /anaconda/envs/azureml_py310_sdkv2/lib/python3.10/site-packages (from jsonschema->azureml-responsibleai~=1.57.0->azureml.train.automl) (24.2.0)\n",
            "text/html": "<pre style=\"white-space:pre;overflow-x:auto;line-height:normal;font-family:Menlo,'DejaVu Sans Mono',consolas,'Courier New',monospace\">Requirement already satisfied: attrs&gt;=22.2.0 in /anaconda/envs/azureml_py310_sdkv2/lib/python3.10/site-packages (from jsonschema-&gt;azureml-responsibleai~=1.57.0-&gt;azureml.train.automl) (24.2.0)\n</pre>\n"
          },
          "metadata": {}
        },
        {
          "output_type": "display_data",
          "data": {
            "text/plain": "Requirement already satisfied: jsonschema-specifications>=2023.03.6 in /anaconda/envs/azureml_py310_sdkv2/lib/python3.10/site-packages (from jsonschema->azureml-responsibleai~=1.57.0->azureml.train.automl) (2023.12.1)\n",
            "text/html": "<pre style=\"white-space:pre;overflow-x:auto;line-height:normal;font-family:Menlo,'DejaVu Sans Mono',consolas,'Courier New',monospace\">Requirement already satisfied: jsonschema-specifications&gt;=2023.03.6 in /anaconda/envs/azureml_py310_sdkv2/lib/python3.10/site-packages (from jsonschema-&gt;azureml-responsibleai~=1.57.0-&gt;azureml.train.automl) (2023.12.1)\n</pre>\n"
          },
          "metadata": {}
        },
        {
          "output_type": "display_data",
          "data": {
            "text/plain": "Requirement already satisfied: referencing>=0.28.4 in /anaconda/envs/azureml_py310_sdkv2/lib/python3.10/site-packages (from jsonschema->azureml-responsibleai~=1.57.0->azureml.train.automl) (0.35.1)\n",
            "text/html": "<pre style=\"white-space:pre;overflow-x:auto;line-height:normal;font-family:Menlo,'DejaVu Sans Mono',consolas,'Courier New',monospace\">Requirement already satisfied: referencing&gt;=0.28.4 in /anaconda/envs/azureml_py310_sdkv2/lib/python3.10/site-packages (from jsonschema-&gt;azureml-responsibleai~=1.57.0-&gt;azureml.train.automl) (0.35.1)\n</pre>\n"
          },
          "metadata": {}
        },
        {
          "output_type": "display_data",
          "data": {
            "text/plain": "Requirement already satisfied: rpds-py>=0.7.1 in /anaconda/envs/azureml_py310_sdkv2/lib/python3.10/site-packages (from jsonschema->azureml-responsibleai~=1.57.0->azureml.train.automl) (0.20.0)\n",
            "text/html": "<pre style=\"white-space:pre;overflow-x:auto;line-height:normal;font-family:Menlo,'DejaVu Sans Mono',consolas,'Courier New',monospace\">Requirement already satisfied: rpds-py&gt;=0.7.1 in /anaconda/envs/azureml_py310_sdkv2/lib/python3.10/site-packages (from jsonschema-&gt;azureml-responsibleai~=1.57.0-&gt;azureml.train.automl) (0.20.0)\n</pre>\n"
          },
          "metadata": {}
        },
        {
          "output_type": "display_data",
          "data": {
            "text/plain": "Requirement already satisfied: six>=1.11.0 in /anaconda/envs/azureml_py310_sdkv2/lib/python3.10/site-packages (from azure-core>=1.30.0->azure-storage-queue~=12.1->azureml-train-automl-runtime~=1.57.0->azureml.train.automl) (1.16.0)\n",
            "text/html": "<pre style=\"white-space:pre;overflow-x:auto;line-height:normal;font-family:Menlo,'DejaVu Sans Mono',consolas,'Courier New',monospace\">Requirement already satisfied: six&gt;=1.11.0 in /anaconda/envs/azureml_py310_sdkv2/lib/python3.10/site-packages (from azure-core&gt;=1.30.0-&gt;azure-storage-queue~=12.1-&gt;azureml-train-automl-runtime~=1.57.0-&gt;azureml.train.automl) (1.16.0)\n</pre>\n"
          },
          "metadata": {}
        },
        {
          "output_type": "display_data",
          "data": {
            "text/plain": "Requirement already satisfied: cffi>=1.12 in /anaconda/envs/azureml_py310_sdkv2/lib/python3.10/site-packages (from cryptography>=2.1.4->azure-storage-queue~=12.1->azureml-train-automl-runtime~=1.57.0->azureml.train.automl) (1.17.1)\n",
            "text/html": "<pre style=\"white-space:pre;overflow-x:auto;line-height:normal;font-family:Menlo,'DejaVu Sans Mono',consolas,'Courier New',monospace\">Requirement already satisfied: cffi&gt;=1.12 in /anaconda/envs/azureml_py310_sdkv2/lib/python3.10/site-packages (from cryptography&gt;=2.1.4-&gt;azure-storage-queue~=12.1-&gt;azureml-train-automl-runtime~=1.57.0-&gt;azureml.train.automl) (1.17.1)\n</pre>\n"
          },
          "metadata": {}
        },
        {
          "output_type": "display_data",
          "data": {
            "text/plain": "Requirement already satisfied: tqdm in /anaconda/envs/azureml_py310_sdkv2/lib/python3.10/site-packages (from dice-ml<0.12,>=0.11->responsibleai==0.36.0->azureml-responsibleai~=1.57.0->azureml.train.automl) (4.66.5)\n",
            "text/html": "<pre style=\"white-space:pre;overflow-x:auto;line-height:normal;font-family:Menlo,'DejaVu Sans Mono',consolas,'Courier New',monospace\">Requirement already satisfied: tqdm in /anaconda/envs/azureml_py310_sdkv2/lib/python3.10/site-packages (from dice-ml&lt;0.12,&gt;=0.11-&gt;responsibleai==0.36.0-&gt;azureml-responsibleai~=1.57.0-&gt;azureml.train.automl) (4.66.5)\n</pre>\n"
          },
          "metadata": {}
        },
        {
          "output_type": "display_data",
          "data": {
            "text/plain": "Requirement already satisfied: sparse in /anaconda/envs/azureml_py310_sdkv2/lib/python3.10/site-packages (from econml>=0.14.1->responsibleai==0.36.0->azureml-responsibleai~=1.57.0->azureml.train.automl) (0.15.4)\n",
            "text/html": "<pre style=\"white-space:pre;overflow-x:auto;line-height:normal;font-family:Menlo,'DejaVu Sans Mono',consolas,'Courier New',monospace\">Requirement already satisfied: sparse in /anaconda/envs/azureml_py310_sdkv2/lib/python3.10/site-packages (from econml&gt;=0.14.1-&gt;responsibleai==0.36.0-&gt;azureml-responsibleai~=1.57.0-&gt;azureml.train.automl) (0.15.4)\n</pre>\n"
          },
          "metadata": {}
        },
        {
          "output_type": "display_data",
          "data": {
            "text/plain": "Requirement already satisfied: comm>=0.1.1 in /anaconda/envs/azureml_py310_sdkv2/lib/python3.10/site-packages (from ipykernel>=6.22.0->responsibleai==0.36.0->azureml-responsibleai~=1.57.0->azureml.train.automl) (0.2.2)\n",
            "text/html": "<pre style=\"white-space:pre;overflow-x:auto;line-height:normal;font-family:Menlo,'DejaVu Sans Mono',consolas,'Courier New',monospace\">Requirement already satisfied: comm&gt;=0.1.1 in /anaconda/envs/azureml_py310_sdkv2/lib/python3.10/site-packages (from ipykernel&gt;=6.22.0-&gt;responsibleai==0.36.0-&gt;azureml-responsibleai~=1.57.0-&gt;azureml.train.automl) (0.2.2)\n</pre>\n"
          },
          "metadata": {}
        },
        {
          "output_type": "display_data",
          "data": {
            "text/plain": "Requirement already satisfied: debugpy>=1.6.5 in /anaconda/envs/azureml_py310_sdkv2/lib/python3.10/site-packages (from ipykernel>=6.22.0->responsibleai==0.36.0->azureml-responsibleai~=1.57.0->azureml.train.automl) (1.8.5)\n",
            "text/html": "<pre style=\"white-space:pre;overflow-x:auto;line-height:normal;font-family:Menlo,'DejaVu Sans Mono',consolas,'Courier New',monospace\">Requirement already satisfied: debugpy&gt;=1.6.5 in /anaconda/envs/azureml_py310_sdkv2/lib/python3.10/site-packages (from ipykernel&gt;=6.22.0-&gt;responsibleai==0.36.0-&gt;azureml-responsibleai~=1.57.0-&gt;azureml.train.automl) (1.8.5)\n</pre>\n"
          },
          "metadata": {}
        },
        {
          "output_type": "display_data",
          "data": {
            "text/plain": "Requirement already satisfied: ipython>=7.23.1 in /anaconda/envs/azureml_py310_sdkv2/lib/python3.10/site-packages (from ipykernel>=6.22.0->responsibleai==0.36.0->azureml-responsibleai~=1.57.0->azureml.train.automl) (8.27.0)\n",
            "text/html": "<pre style=\"white-space:pre;overflow-x:auto;line-height:normal;font-family:Menlo,'DejaVu Sans Mono',consolas,'Courier New',monospace\">Requirement already satisfied: ipython&gt;=7.23.1 in /anaconda/envs/azureml_py310_sdkv2/lib/python3.10/site-packages (from ipykernel&gt;=6.22.0-&gt;responsibleai==0.36.0-&gt;azureml-responsibleai~=1.57.0-&gt;azureml.train.automl) (8.27.0)\n</pre>\n"
          },
          "metadata": {}
        },
        {
          "output_type": "display_data",
          "data": {
            "text/plain": "Requirement already satisfied: jupyter-client>=6.1.12 in /anaconda/envs/azureml_py310_sdkv2/lib/python3.10/site-packages (from ipykernel>=6.22.0->responsibleai==0.36.0->azureml-responsibleai~=1.57.0->azureml.train.automl) (8.6.3)\n",
            "text/html": "<pre style=\"white-space:pre;overflow-x:auto;line-height:normal;font-family:Menlo,'DejaVu Sans Mono',consolas,'Courier New',monospace\">Requirement already satisfied: jupyter-client&gt;=6.1.12 in /anaconda/envs/azureml_py310_sdkv2/lib/python3.10/site-packages (from ipykernel&gt;=6.22.0-&gt;responsibleai==0.36.0-&gt;azureml-responsibleai~=1.57.0-&gt;azureml.train.automl) (8.6.3)\n</pre>\n"
          },
          "metadata": {}
        },
        {
          "output_type": "display_data",
          "data": {
            "text/plain": "Requirement already satisfied: jupyter-core!=5.0.*,>=4.12 in /anaconda/envs/azureml_py310_sdkv2/lib/python3.10/site-packages (from ipykernel>=6.22.0->responsibleai==0.36.0->azureml-responsibleai~=1.57.0->azureml.train.automl) (5.7.2)\n",
            "text/html": "<pre style=\"white-space:pre;overflow-x:auto;line-height:normal;font-family:Menlo,'DejaVu Sans Mono',consolas,'Courier New',monospace\">Requirement already satisfied: jupyter-core!=5.0.*,&gt;=4.12 in /anaconda/envs/azureml_py310_sdkv2/lib/python3.10/site-packages (from ipykernel&gt;=6.22.0-&gt;responsibleai==0.36.0-&gt;azureml-responsibleai~=1.57.0-&gt;azureml.train.automl) (5.7.2)\n</pre>\n"
          },
          "metadata": {}
        },
        {
          "output_type": "display_data",
          "data": {
            "text/plain": "Requirement already satisfied: matplotlib-inline>=0.1 in /anaconda/envs/azureml_py310_sdkv2/lib/python3.10/site-packages (from ipykernel>=6.22.0->responsibleai==0.36.0->azureml-responsibleai~=1.57.0->azureml.train.automl) (0.1.7)\n",
            "text/html": "<pre style=\"white-space:pre;overflow-x:auto;line-height:normal;font-family:Menlo,'DejaVu Sans Mono',consolas,'Courier New',monospace\">Requirement already satisfied: matplotlib-inline&gt;=0.1 in /anaconda/envs/azureml_py310_sdkv2/lib/python3.10/site-packages (from ipykernel&gt;=6.22.0-&gt;responsibleai==0.36.0-&gt;azureml-responsibleai~=1.57.0-&gt;azureml.train.automl) (0.1.7)\n</pre>\n"
          },
          "metadata": {}
        },
        {
          "output_type": "display_data",
          "data": {
            "text/plain": "Requirement already satisfied: nest-asyncio in /anaconda/envs/azureml_py310_sdkv2/lib/python3.10/site-packages (from ipykernel>=6.22.0->responsibleai==0.36.0->azureml-responsibleai~=1.57.0->azureml.train.automl) (1.6.0)\n",
            "text/html": "<pre style=\"white-space:pre;overflow-x:auto;line-height:normal;font-family:Menlo,'DejaVu Sans Mono',consolas,'Courier New',monospace\">Requirement already satisfied: nest-asyncio in /anaconda/envs/azureml_py310_sdkv2/lib/python3.10/site-packages (from ipykernel&gt;=6.22.0-&gt;responsibleai==0.36.0-&gt;azureml-responsibleai~=1.57.0-&gt;azureml.train.automl) (1.6.0)\n</pre>\n"
          },
          "metadata": {}
        },
        {
          "output_type": "display_data",
          "data": {
            "text/plain": "Requirement already satisfied: pyzmq>=24 in /anaconda/envs/azureml_py310_sdkv2/lib/python3.10/site-packages (from ipykernel>=6.22.0->responsibleai==0.36.0->azureml-responsibleai~=1.57.0->azureml.train.automl) (26.2.0)\n",
            "text/html": "<pre style=\"white-space:pre;overflow-x:auto;line-height:normal;font-family:Menlo,'DejaVu Sans Mono',consolas,'Courier New',monospace\">Requirement already satisfied: pyzmq&gt;=24 in /anaconda/envs/azureml_py310_sdkv2/lib/python3.10/site-packages (from ipykernel&gt;=6.22.0-&gt;responsibleai==0.36.0-&gt;azureml-responsibleai~=1.57.0-&gt;azureml.train.automl) (26.2.0)\n</pre>\n"
          },
          "metadata": {}
        },
        {
          "output_type": "display_data",
          "data": {
            "text/plain": "Requirement already satisfied: traitlets>=5.4.0 in /anaconda/envs/azureml_py310_sdkv2/lib/python3.10/site-packages (from ipykernel>=6.22.0->responsibleai==0.36.0->azureml-responsibleai~=1.57.0->azureml.train.automl) (5.14.3)\n",
            "text/html": "<pre style=\"white-space:pre;overflow-x:auto;line-height:normal;font-family:Menlo,'DejaVu Sans Mono',consolas,'Courier New',monospace\">Requirement already satisfied: traitlets&gt;=5.4.0 in /anaconda/envs/azureml_py310_sdkv2/lib/python3.10/site-packages (from ipykernel&gt;=6.22.0-&gt;responsibleai==0.36.0-&gt;azureml-responsibleai~=1.57.0-&gt;azureml.train.automl) (5.14.3)\n</pre>\n"
          },
          "metadata": {}
        },
        {
          "output_type": "display_data",
          "data": {
            "text/plain": "Requirement already satisfied: pygments in /anaconda/envs/azureml_py310_sdkv2/lib/python3.10/site-packages (from knack<0.12.0->azureml-core~=1.57.0->azureml-responsibleai~=1.57.0->azureml.train.automl) (2.18.0)\n",
            "text/html": "<pre style=\"white-space:pre;overflow-x:auto;line-height:normal;font-family:Menlo,'DejaVu Sans Mono',consolas,'Courier New',monospace\">Requirement already satisfied: pygments in /anaconda/envs/azureml_py310_sdkv2/lib/python3.10/site-packages (from knack&lt;0.12.0-&gt;azureml-core~=1.57.0-&gt;azureml-responsibleai~=1.57.0-&gt;azureml.train.automl) (2.18.0)\n</pre>\n"
          },
          "metadata": {}
        },
        {
          "output_type": "display_data",
          "data": {
            "text/plain": "Requirement already satisfied: tabulate in /anaconda/envs/azureml_py310_sdkv2/lib/python3.10/site-packages (from knack<0.12.0->azureml-core~=1.57.0->azureml-responsibleai~=1.57.0->azureml.train.automl) (0.9.0)\n",
            "text/html": "<pre style=\"white-space:pre;overflow-x:auto;line-height:normal;font-family:Menlo,'DejaVu Sans Mono',consolas,'Courier New',monospace\">Requirement already satisfied: tabulate in /anaconda/envs/azureml_py310_sdkv2/lib/python3.10/site-packages (from knack&lt;0.12.0-&gt;azureml-core~=1.57.0-&gt;azureml-responsibleai~=1.57.0-&gt;azureml.train.automl) (0.9.0)\n</pre>\n"
          },
          "metadata": {}
        },
        {
          "output_type": "display_data",
          "data": {
            "text/plain": "Requirement already satisfied: portalocker<3,>=1.4 in /anaconda/envs/azureml_py310_sdkv2/lib/python3.10/site-packages (from msal-extensions<=2.0.0,>=0.3.0->azureml-core~=1.57.0->azureml-responsibleai~=1.57.0->azureml.train.automl) (2.10.1)\n",
            "text/html": "<pre style=\"white-space:pre;overflow-x:auto;line-height:normal;font-family:Menlo,'DejaVu Sans Mono',consolas,'Courier New',monospace\">Requirement already satisfied: portalocker&lt;3,&gt;=1.4 in /anaconda/envs/azureml_py310_sdkv2/lib/python3.10/site-packages (from msal-extensions&lt;=2.0.0,&gt;=0.3.0-&gt;azureml-core~=1.57.0-&gt;azureml-responsibleai~=1.57.0-&gt;azureml.train.automl) (2.10.1)\n</pre>\n"
          },
          "metadata": {}
        },
        {
          "output_type": "display_data",
          "data": {
            "text/plain": "Requirement already satisfied: certifi>=2017.4.17 in /anaconda/envs/azureml_py310_sdkv2/lib/python3.10/site-packages (from msrest<=0.7.1,>=0.5.1->azureml-core~=1.57.0->azureml-responsibleai~=1.57.0->azureml.train.automl) (2024.8.30)\n",
            "text/html": "<pre style=\"white-space:pre;overflow-x:auto;line-height:normal;font-family:Menlo,'DejaVu Sans Mono',consolas,'Courier New',monospace\">Requirement already satisfied: certifi&gt;=2017.4.17 in /anaconda/envs/azureml_py310_sdkv2/lib/python3.10/site-packages (from msrest&lt;=0.7.1,&gt;=0.5.1-&gt;azureml-core~=1.57.0-&gt;azureml-responsibleai~=1.57.0-&gt;azureml.train.automl) (2024.8.30)\n</pre>\n"
          },
          "metadata": {}
        },
        {
          "output_type": "display_data",
          "data": {
            "text/plain": "Requirement already satisfied: requests-oauthlib>=0.5.0 in /anaconda/envs/azureml_py310_sdkv2/lib/python3.10/site-packages (from msrest<=0.7.1,>=0.5.1->azureml-core~=1.57.0->azureml-responsibleai~=1.57.0->azureml.train.automl) (2.0.0)\n",
            "text/html": "<pre style=\"white-space:pre;overflow-x:auto;line-height:normal;font-family:Menlo,'DejaVu Sans Mono',consolas,'Courier New',monospace\">Requirement already satisfied: requests-oauthlib&gt;=0.5.0 in /anaconda/envs/azureml_py310_sdkv2/lib/python3.10/site-packages (from msrest&lt;=0.7.1,&gt;=0.5.1-&gt;azureml-core~=1.57.0-&gt;azureml-responsibleai~=1.57.0-&gt;azureml.train.automl) (2.0.0)\n</pre>\n"
          },
          "metadata": {}
        },
        {
          "output_type": "display_data",
          "data": {
            "text/plain": "Requirement already satisfied: pyasn1>=0.1.1 in /anaconda/envs/azureml_py310_sdkv2/lib/python3.10/site-packages (from ndg-httpsclient<=0.5.1->azureml-core~=1.57.0->azureml-responsibleai~=1.57.0->azureml.train.automl) (0.6.1)\n",
            "text/html": "<pre style=\"white-space:pre;overflow-x:auto;line-height:normal;font-family:Menlo,'DejaVu Sans Mono',consolas,'Courier New',monospace\">Requirement already satisfied: pyasn1&gt;=0.1.1 in /anaconda/envs/azureml_py310_sdkv2/lib/python3.10/site-packages (from ndg-httpsclient&lt;=0.5.1-&gt;azureml-core~=1.57.0-&gt;azureml-responsibleai~=1.57.0-&gt;azureml.train.automl) (0.6.1)\n</pre>\n"
          },
          "metadata": {}
        },
        {
          "output_type": "display_data",
          "data": {
            "text/plain": "Requirement already satisfied: decorator>=4.3.0 in /anaconda/envs/azureml_py310_sdkv2/lib/python3.10/site-packages (from networkx<=2.5->responsibleai==0.36.0->azureml-responsibleai~=1.57.0->azureml.train.automl) (5.1.1)\n",
            "text/html": "<pre style=\"white-space:pre;overflow-x:auto;line-height:normal;font-family:Menlo,'DejaVu Sans Mono',consolas,'Courier New',monospace\">Requirement already satisfied: decorator&gt;=4.3.0 in /anaconda/envs/azureml_py310_sdkv2/lib/python3.10/site-packages (from networkx&lt;=2.5-&gt;responsibleai==0.36.0-&gt;azureml-responsibleai~=1.57.0-&gt;azureml.train.automl) (5.1.1)\n</pre>\n"
          },
          "metadata": {}
        },
        {
          "output_type": "display_data",
          "data": {
            "text/plain": "Requirement already satisfied: llvmlite<0.40,>=0.39.0dev0 in /anaconda/envs/azureml_py310_sdkv2/lib/python3.10/site-packages (from numba<=0.58.1->responsibleai==0.36.0->azureml-responsibleai~=1.57.0->azureml.train.automl) (0.39.1)\n",
            "text/html": "<pre style=\"white-space:pre;overflow-x:auto;line-height:normal;font-family:Menlo,'DejaVu Sans Mono',consolas,'Courier New',monospace\">Requirement already satisfied: llvmlite&lt;0.40,&gt;=0.39.0dev0 in /anaconda/envs/azureml_py310_sdkv2/lib/python3.10/site-packages (from numba&lt;=0.58.1-&gt;responsibleai==0.36.0-&gt;azureml-responsibleai~=1.57.0-&gt;azureml.train.automl) (0.39.1)\n</pre>\n"
          },
          "metadata": {}
        },
        {
          "output_type": "display_data",
          "data": {
            "text/plain": "Requirement already satisfied: bcrypt>=3.2 in /anaconda/envs/azureml_py310_sdkv2/lib/python3.10/site-packages (from paramiko<4.0.0,>=2.0.8->azureml-core~=1.57.0->azureml-responsibleai~=1.57.0->azureml.train.automl) (4.2.0)\n",
            "text/html": "<pre style=\"white-space:pre;overflow-x:auto;line-height:normal;font-family:Menlo,'DejaVu Sans Mono',consolas,'Courier New',monospace\">Requirement already satisfied: bcrypt&gt;=3.2 in /anaconda/envs/azureml_py310_sdkv2/lib/python3.10/site-packages (from paramiko&lt;4.0.0,&gt;=2.0.8-&gt;azureml-core~=1.57.0-&gt;azureml-responsibleai~=1.57.0-&gt;azureml.train.automl) (4.2.0)\n</pre>\n"
          },
          "metadata": {}
        },
        {
          "output_type": "display_data",
          "data": {
            "text/plain": "Requirement already satisfied: pynacl>=1.5 in /anaconda/envs/azureml_py310_sdkv2/lib/python3.10/site-packages (from paramiko<4.0.0,>=2.0.8->azureml-core~=1.57.0->azureml-responsibleai~=1.57.0->azureml.train.automl) (1.5.0)\n",
            "text/html": "<pre style=\"white-space:pre;overflow-x:auto;line-height:normal;font-family:Menlo,'DejaVu Sans Mono',consolas,'Courier New',monospace\">Requirement already satisfied: pynacl&gt;=1.5 in /anaconda/envs/azureml_py310_sdkv2/lib/python3.10/site-packages (from paramiko&lt;4.0.0,&gt;=2.0.8-&gt;azureml-core~=1.57.0-&gt;azureml-responsibleai~=1.57.0-&gt;azureml.train.automl) (1.5.0)\n</pre>\n"
          },
          "metadata": {}
        },
        {
          "output_type": "display_data",
          "data": {
            "text/plain": "Requirement already satisfied: charset-normalizer<4,>=2 in /anaconda/envs/azureml_py310_sdkv2/lib/python3.10/site-packages (from requests<3.0.0,>=2.19.1->requests[socks]<3.0.0,>=2.19.1->azureml-core~=1.57.0->azureml-responsibleai~=1.57.0->azureml.train.automl) (3.3.2)\n",
            "text/html": "<pre style=\"white-space:pre;overflow-x:auto;line-height:normal;font-family:Menlo,'DejaVu Sans Mono',consolas,'Courier New',monospace\">Requirement already satisfied: charset-normalizer&lt;4,&gt;=2 in /anaconda/envs/azureml_py310_sdkv2/lib/python3.10/site-packages (from requests&lt;3.0.0,&gt;=2.19.1-&gt;requests[socks]&lt;3.0.0,&gt;=2.19.1-&gt;azureml-core~=1.57.0-&gt;azureml-responsibleai~=1.57.0-&gt;azureml.train.automl) (3.3.2)\n</pre>\n"
          },
          "metadata": {}
        },
        {
          "output_type": "display_data",
          "data": {
            "text/plain": "Requirement already satisfied: idna<4,>=2.5 in /anaconda/envs/azureml_py310_sdkv2/lib/python3.10/site-packages (from requests<3.0.0,>=2.19.1->requests[socks]<3.0.0,>=2.19.1->azureml-core~=1.57.0->azureml-responsibleai~=1.57.0->azureml.train.automl) (3.10)\n",
            "text/html": "<pre style=\"white-space:pre;overflow-x:auto;line-height:normal;font-family:Menlo,'DejaVu Sans Mono',consolas,'Courier New',monospace\">Requirement already satisfied: idna&lt;4,&gt;=2.5 in /anaconda/envs/azureml_py310_sdkv2/lib/python3.10/site-packages (from requests&lt;3.0.0,&gt;=2.19.1-&gt;requests[socks]&lt;3.0.0,&gt;=2.19.1-&gt;azureml-core~=1.57.0-&gt;azureml-responsibleai~=1.57.0-&gt;azureml.train.automl) (3.10)\n</pre>\n"
          },
          "metadata": {}
        },
        {
          "output_type": "display_data",
          "data": {
            "text/plain": "Requirement already satisfied: PySocks!=1.5.7,>=1.5.6 in /anaconda/envs/azureml_py310_sdkv2/lib/python3.10/site-packages (from requests[socks]<3.0.0,>=2.19.1->azureml-core~=1.57.0->azureml-responsibleai~=1.57.0->azureml.train.automl) (1.7.1)\n",
            "text/html": "<pre style=\"white-space:pre;overflow-x:auto;line-height:normal;font-family:Menlo,'DejaVu Sans Mono',consolas,'Courier New',monospace\">Requirement already satisfied: PySocks!=1.5.7,&gt;=1.5.6 in /anaconda/envs/azureml_py310_sdkv2/lib/python3.10/site-packages (from requests[socks]&lt;3.0.0,&gt;=2.19.1-&gt;azureml-core~=1.57.0-&gt;azureml-responsibleai~=1.57.0-&gt;azureml.train.automl) (1.7.1)\n</pre>\n"
          },
          "metadata": {}
        },
        {
          "output_type": "display_data",
          "data": {
            "text/plain": "Requirement already satisfied: jeepney>=0.6 in /anaconda/envs/azureml_py310_sdkv2/lib/python3.10/site-packages (from SecretStorage<4.0.0->azureml-core~=1.57.0->azureml-responsibleai~=1.57.0->azureml.train.automl) (0.8.0)\n",
            "text/html": "<pre style=\"white-space:pre;overflow-x:auto;line-height:normal;font-family:Menlo,'DejaVu Sans Mono',consolas,'Courier New',monospace\">Requirement already satisfied: jeepney&gt;=0.6 in /anaconda/envs/azureml_py310_sdkv2/lib/python3.10/site-packages (from SecretStorage&lt;4.0.0-&gt;azureml-core~=1.57.0-&gt;azureml-responsibleai~=1.57.0-&gt;azureml.train.automl) (0.8.0)\n</pre>\n"
          },
          "metadata": {}
        },
        {
          "output_type": "display_data",
          "data": {
            "text/plain": "Requirement already satisfied: backports.weakref in /anaconda/envs/azureml_py310_sdkv2/lib/python3.10/site-packages (from backports.tempfile->azureml-core~=1.57.0->azureml-responsibleai~=1.57.0->azureml.train.automl) (1.0.post1)\n",
            "text/html": "<pre style=\"white-space:pre;overflow-x:auto;line-height:normal;font-family:Menlo,'DejaVu Sans Mono',consolas,'Courier New',monospace\">Requirement already satisfied: backports.weakref in /anaconda/envs/azureml_py310_sdkv2/lib/python3.10/site-packages (from backports.tempfile-&gt;azureml-core~=1.57.0-&gt;azureml-responsibleai~=1.57.0-&gt;azureml.train.automl) (1.0.post1)\n</pre>\n"
          },
          "metadata": {}
        },
        {
          "output_type": "display_data",
          "data": {
            "text/plain": "Requirement already satisfied: termcolor in /anaconda/envs/azureml_py310_sdkv2/lib/python3.10/site-packages (from fire->keras2onnx<=1.6.0,>=1.4.0->azureml-automl-runtime~=1.57.0->azureml.train.automl) (2.5.0)\n",
            "text/html": "<pre style=\"white-space:pre;overflow-x:auto;line-height:normal;font-family:Menlo,'DejaVu Sans Mono',consolas,'Courier New',monospace\">Requirement already satisfied: termcolor in /anaconda/envs/azureml_py310_sdkv2/lib/python3.10/site-packages (from fire-&gt;keras2onnx&lt;=1.6.0,&gt;=1.4.0-&gt;azureml-automl-runtime~=1.57.0-&gt;azureml.train.automl) (2.5.0)\n</pre>\n"
          },
          "metadata": {}
        },
        {
          "output_type": "display_data",
          "data": {
            "text/plain": "Requirement already satisfied: cachetools<6,>=5.0.0 in /anaconda/envs/azureml_py310_sdkv2/lib/python3.10/site-packages (from mlflow-skinny->azureml-mlflow~=1.57.0->azureml-train-automl-runtime~=1.57.0->azureml.train.automl) (5.5.0)\n",
            "text/html": "<pre style=\"white-space:pre;overflow-x:auto;line-height:normal;font-family:Menlo,'DejaVu Sans Mono',consolas,'Courier New',monospace\">Requirement already satisfied: cachetools&lt;6,&gt;=5.0.0 in /anaconda/envs/azureml_py310_sdkv2/lib/python3.10/site-packages (from mlflow-skinny-&gt;azureml-mlflow~=1.57.0-&gt;azureml-train-automl-runtime~=1.57.0-&gt;azureml.train.automl) (5.5.0)\n</pre>\n"
          },
          "metadata": {}
        },
        {
          "output_type": "display_data",
          "data": {
            "text/plain": "Requirement already satisfied: databricks-sdk<1,>=0.20.0 in /anaconda/envs/azureml_py310_sdkv2/lib/python3.10/site-packages (from mlflow-skinny->azureml-mlflow~=1.57.0->azureml-train-automl-runtime~=1.57.0->azureml.train.automl) (0.32.3)\n",
            "text/html": "<pre style=\"white-space:pre;overflow-x:auto;line-height:normal;font-family:Menlo,'DejaVu Sans Mono',consolas,'Courier New',monospace\">Requirement already satisfied: databricks-sdk&lt;1,&gt;=0.20.0 in /anaconda/envs/azureml_py310_sdkv2/lib/python3.10/site-packages (from mlflow-skinny-&gt;azureml-mlflow~=1.57.0-&gt;azureml-train-automl-runtime~=1.57.0-&gt;azureml.train.automl) (0.32.3)\n</pre>\n"
          },
          "metadata": {}
        },
        {
          "output_type": "display_data",
          "data": {
            "text/plain": "Requirement already satisfied: gitpython<4,>=3.1.9 in /anaconda/envs/azureml_py310_sdkv2/lib/python3.10/site-packages (from mlflow-skinny->azureml-mlflow~=1.57.0->azureml-train-automl-runtime~=1.57.0->azureml.train.automl) (3.1.43)\n",
            "text/html": "<pre style=\"white-space:pre;overflow-x:auto;line-height:normal;font-family:Menlo,'DejaVu Sans Mono',consolas,'Courier New',monospace\">Requirement already satisfied: gitpython&lt;4,&gt;=3.1.9 in /anaconda/envs/azureml_py310_sdkv2/lib/python3.10/site-packages (from mlflow-skinny-&gt;azureml-mlflow~=1.57.0-&gt;azureml-train-automl-runtime~=1.57.0-&gt;azureml.train.automl) (3.1.43)\n</pre>\n"
          },
          "metadata": {}
        },
        {
          "output_type": "display_data",
          "data": {
            "text/plain": "Requirement already satisfied: opentelemetry-api<3,>=1.9.0 in /anaconda/envs/azureml_py310_sdkv2/lib/python3.10/site-packages (from mlflow-skinny->azureml-mlflow~=1.57.0->azureml-train-automl-runtime~=1.57.0->azureml.train.automl) (1.27.0)\n",
            "text/html": "<pre style=\"white-space:pre;overflow-x:auto;line-height:normal;font-family:Menlo,'DejaVu Sans Mono',consolas,'Courier New',monospace\">Requirement already satisfied: opentelemetry-api&lt;3,&gt;=1.9.0 in /anaconda/envs/azureml_py310_sdkv2/lib/python3.10/site-packages (from mlflow-skinny-&gt;azureml-mlflow~=1.57.0-&gt;azureml-train-automl-runtime~=1.57.0-&gt;azureml.train.automl) (1.27.0)\n</pre>\n"
          },
          "metadata": {}
        },
        {
          "output_type": "display_data",
          "data": {
            "text/plain": "Requirement already satisfied: opentelemetry-sdk<3,>=1.9.0 in /anaconda/envs/azureml_py310_sdkv2/lib/python3.10/site-packages (from mlflow-skinny->azureml-mlflow~=1.57.0->azureml-train-automl-runtime~=1.57.0->azureml.train.automl) (1.27.0)\n",
            "text/html": "<pre style=\"white-space:pre;overflow-x:auto;line-height:normal;font-family:Menlo,'DejaVu Sans Mono',consolas,'Courier New',monospace\">Requirement already satisfied: opentelemetry-sdk&lt;3,&gt;=1.9.0 in /anaconda/envs/azureml_py310_sdkv2/lib/python3.10/site-packages (from mlflow-skinny-&gt;azureml-mlflow~=1.57.0-&gt;azureml-train-automl-runtime~=1.57.0-&gt;azureml.train.automl) (1.27.0)\n</pre>\n"
          },
          "metadata": {}
        },
        {
          "output_type": "display_data",
          "data": {
            "text/plain": "Requirement already satisfied: sqlparse<1,>=0.4.0 in /anaconda/envs/azureml_py310_sdkv2/lib/python3.10/site-packages (from mlflow-skinny->azureml-mlflow~=1.57.0->azureml-train-automl-runtime~=1.57.0->azureml.train.automl) (0.5.1)\n",
            "text/html": "<pre style=\"white-space:pre;overflow-x:auto;line-height:normal;font-family:Menlo,'DejaVu Sans Mono',consolas,'Courier New',monospace\">Requirement already satisfied: sqlparse&lt;1,&gt;=0.4.0 in /anaconda/envs/azureml_py310_sdkv2/lib/python3.10/site-packages (from mlflow-skinny-&gt;azureml-mlflow~=1.57.0-&gt;azureml-train-automl-runtime~=1.57.0-&gt;azureml.train.automl) (0.5.1)\n</pre>\n"
          },
          "metadata": {}
        },
        {
          "output_type": "display_data",
          "data": {
            "text/plain": "Requirement already satisfied: mpmath<1.4,>=1.1.0 in /anaconda/envs/azureml_py310_sdkv2/lib/python3.10/site-packages (from sympy->onnxruntime~=1.17.3->azureml-automl-runtime~=1.57.0->azureml.train.automl) (1.3.0)\n",
            "text/html": "<pre style=\"white-space:pre;overflow-x:auto;line-height:normal;font-family:Menlo,'DejaVu Sans Mono',consolas,'Courier New',monospace\">Requirement already satisfied: mpmath&lt;1.4,&gt;=1.1.0 in /anaconda/envs/azureml_py310_sdkv2/lib/python3.10/site-packages (from sympy-&gt;onnxruntime~=1.17.3-&gt;azureml-automl-runtime~=1.57.0-&gt;azureml.train.automl) (1.3.0)\n</pre>\n"
          },
          "metadata": {}
        },
        {
          "output_type": "display_data",
          "data": {
            "text/plain": "Requirement already satisfied: pycparser in /anaconda/envs/azureml_py310_sdkv2/lib/python3.10/site-packages (from cffi>=1.12->cryptography>=2.1.4->azure-storage-queue~=12.1->azureml-train-automl-runtime~=1.57.0->azureml.train.automl) (2.22)\n",
            "text/html": "<pre style=\"white-space:pre;overflow-x:auto;line-height:normal;font-family:Menlo,'DejaVu Sans Mono',consolas,'Courier New',monospace\">Requirement already satisfied: pycparser in /anaconda/envs/azureml_py310_sdkv2/lib/python3.10/site-packages (from cffi&gt;=1.12-&gt;cryptography&gt;=2.1.4-&gt;azure-storage-queue~=12.1-&gt;azureml-train-automl-runtime~=1.57.0-&gt;azureml.train.automl) (2.22)\n</pre>\n"
          },
          "metadata": {}
        },
        {
          "output_type": "display_data",
          "data": {
            "text/plain": "Requirement already satisfied: google-auth~=2.0 in /anaconda/envs/azureml_py310_sdkv2/lib/python3.10/site-packages (from databricks-sdk<1,>=0.20.0->mlflow-skinny->azureml-mlflow~=1.57.0->azureml-train-automl-runtime~=1.57.0->azureml.train.automl) (2.35.0)\n",
            "text/html": "<pre style=\"white-space:pre;overflow-x:auto;line-height:normal;font-family:Menlo,'DejaVu Sans Mono',consolas,'Courier New',monospace\">Requirement already satisfied: google-auth~=2.0 in /anaconda/envs/azureml_py310_sdkv2/lib/python3.10/site-packages (from databricks-sdk&lt;1,&gt;=0.20.0-&gt;mlflow-skinny-&gt;azureml-mlflow~=1.57.0-&gt;azureml-train-automl-runtime~=1.57.0-&gt;azureml.train.automl) (2.35.0)\n</pre>\n"
          },
          "metadata": {}
        },
        {
          "output_type": "display_data",
          "data": {
            "text/plain": "Requirement already satisfied: gitdb<5,>=4.0.1 in /anaconda/envs/azureml_py310_sdkv2/lib/python3.10/site-packages (from gitpython<4,>=3.1.9->mlflow-skinny->azureml-mlflow~=1.57.0->azureml-train-automl-runtime~=1.57.0->azureml.train.automl) (4.0.11)\n",
            "text/html": "<pre style=\"white-space:pre;overflow-x:auto;line-height:normal;font-family:Menlo,'DejaVu Sans Mono',consolas,'Courier New',monospace\">Requirement already satisfied: gitdb&lt;5,&gt;=4.0.1 in /anaconda/envs/azureml_py310_sdkv2/lib/python3.10/site-packages (from gitpython&lt;4,&gt;=3.1.9-&gt;mlflow-skinny-&gt;azureml-mlflow~=1.57.0-&gt;azureml-train-automl-runtime~=1.57.0-&gt;azureml.train.automl) (4.0.11)\n</pre>\n"
          },
          "metadata": {}
        },
        {
          "output_type": "display_data",
          "data": {
            "text/plain": "Requirement already satisfied: jedi>=0.16 in /anaconda/envs/azureml_py310_sdkv2/lib/python3.10/site-packages (from ipython>=7.23.1->ipykernel>=6.22.0->responsibleai==0.36.0->azureml-responsibleai~=1.57.0->azureml.train.automl) (0.19.1)\n",
            "text/html": "<pre style=\"white-space:pre;overflow-x:auto;line-height:normal;font-family:Menlo,'DejaVu Sans Mono',consolas,'Courier New',monospace\">Requirement already satisfied: jedi&gt;=0.16 in /anaconda/envs/azureml_py310_sdkv2/lib/python3.10/site-packages (from ipython&gt;=7.23.1-&gt;ipykernel&gt;=6.22.0-&gt;responsibleai==0.36.0-&gt;azureml-responsibleai~=1.57.0-&gt;azureml.train.automl) (0.19.1)\n</pre>\n"
          },
          "metadata": {}
        },
        {
          "output_type": "display_data",
          "data": {
            "text/plain": "Requirement already satisfied: prompt-toolkit<3.1.0,>=3.0.41 in /anaconda/envs/azureml_py310_sdkv2/lib/python3.10/site-packages (from ipython>=7.23.1->ipykernel>=6.22.0->responsibleai==0.36.0->azureml-responsibleai~=1.57.0->azureml.train.automl) (3.0.47)\n",
            "text/html": "<pre style=\"white-space:pre;overflow-x:auto;line-height:normal;font-family:Menlo,'DejaVu Sans Mono',consolas,'Courier New',monospace\">Requirement already satisfied: prompt-toolkit&lt;3.1.0,&gt;=3.0.41 in /anaconda/envs/azureml_py310_sdkv2/lib/python3.10/site-packages (from ipython&gt;=7.23.1-&gt;ipykernel&gt;=6.22.0-&gt;responsibleai==0.36.0-&gt;azureml-responsibleai~=1.57.0-&gt;azureml.train.automl) (3.0.47)\n</pre>\n"
          },
          "metadata": {}
        },
        {
          "output_type": "display_data",
          "data": {
            "text/plain": "Requirement already satisfied: stack-data in /anaconda/envs/azureml_py310_sdkv2/lib/python3.10/site-packages (from ipython>=7.23.1->ipykernel>=6.22.0->responsibleai==0.36.0->azureml-responsibleai~=1.57.0->azureml.train.automl) (0.6.2)\n",
            "text/html": "<pre style=\"white-space:pre;overflow-x:auto;line-height:normal;font-family:Menlo,'DejaVu Sans Mono',consolas,'Courier New',monospace\">Requirement already satisfied: stack-data in /anaconda/envs/azureml_py310_sdkv2/lib/python3.10/site-packages (from ipython&gt;=7.23.1-&gt;ipykernel&gt;=6.22.0-&gt;responsibleai==0.36.0-&gt;azureml-responsibleai~=1.57.0-&gt;azureml.train.automl) (0.6.2)\n</pre>\n"
          },
          "metadata": {}
        },
        {
          "output_type": "display_data",
          "data": {
            "text/plain": "Requirement already satisfied: exceptiongroup in /anaconda/envs/azureml_py310_sdkv2/lib/python3.10/site-packages (from ipython>=7.23.1->ipykernel>=6.22.0->responsibleai==0.36.0->azureml-responsibleai~=1.57.0->azureml.train.automl) (1.2.2)\n",
            "text/html": "<pre style=\"white-space:pre;overflow-x:auto;line-height:normal;font-family:Menlo,'DejaVu Sans Mono',consolas,'Courier New',monospace\">Requirement already satisfied: exceptiongroup in /anaconda/envs/azureml_py310_sdkv2/lib/python3.10/site-packages (from ipython&gt;=7.23.1-&gt;ipykernel&gt;=6.22.0-&gt;responsibleai==0.36.0-&gt;azureml-responsibleai~=1.57.0-&gt;azureml.train.automl) (1.2.2)\n</pre>\n"
          },
          "metadata": {}
        },
        {
          "output_type": "display_data",
          "data": {
            "text/plain": "Requirement already satisfied: pexpect>4.3 in /anaconda/envs/azureml_py310_sdkv2/lib/python3.10/site-packages (from ipython>=7.23.1->ipykernel>=6.22.0->responsibleai==0.36.0->azureml-responsibleai~=1.57.0->azureml.train.automl) (4.9.0)\n",
            "text/html": "<pre style=\"white-space:pre;overflow-x:auto;line-height:normal;font-family:Menlo,'DejaVu Sans Mono',consolas,'Courier New',monospace\">Requirement already satisfied: pexpect&gt;4.3 in /anaconda/envs/azureml_py310_sdkv2/lib/python3.10/site-packages (from ipython&gt;=7.23.1-&gt;ipykernel&gt;=6.22.0-&gt;responsibleai==0.36.0-&gt;azureml-responsibleai~=1.57.0-&gt;azureml.train.automl) (4.9.0)\n</pre>\n"
          },
          "metadata": {}
        },
        {
          "output_type": "display_data",
          "data": {
            "text/plain": "Requirement already satisfied: platformdirs>=2.5 in /anaconda/envs/azureml_py310_sdkv2/lib/python3.10/site-packages (from jupyter-core!=5.0.*,>=4.12->ipykernel>=6.22.0->responsibleai==0.36.0->azureml-responsibleai~=1.57.0->azureml.train.automl) (4.3.6)\n",
            "text/html": "<pre style=\"white-space:pre;overflow-x:auto;line-height:normal;font-family:Menlo,'DejaVu Sans Mono',consolas,'Courier New',monospace\">Requirement already satisfied: platformdirs&gt;=2.5 in /anaconda/envs/azureml_py310_sdkv2/lib/python3.10/site-packages (from jupyter-core!=5.0.*,&gt;=4.12-&gt;ipykernel&gt;=6.22.0-&gt;responsibleai==0.36.0-&gt;azureml-responsibleai~=1.57.0-&gt;azureml.train.automl) (4.3.6)\n</pre>\n"
          },
          "metadata": {}
        },
        {
          "output_type": "display_data",
          "data": {
            "text/plain": "Requirement already satisfied: deprecated>=1.2.6 in /anaconda/envs/azureml_py310_sdkv2/lib/python3.10/site-packages (from opentelemetry-api<3,>=1.9.0->mlflow-skinny->azureml-mlflow~=1.57.0->azureml-train-automl-runtime~=1.57.0->azureml.train.automl) (1.2.14)\n",
            "text/html": "<pre style=\"white-space:pre;overflow-x:auto;line-height:normal;font-family:Menlo,'DejaVu Sans Mono',consolas,'Courier New',monospace\">Requirement already satisfied: deprecated&gt;=1.2.6 in /anaconda/envs/azureml_py310_sdkv2/lib/python3.10/site-packages (from opentelemetry-api&lt;3,&gt;=1.9.0-&gt;mlflow-skinny-&gt;azureml-mlflow~=1.57.0-&gt;azureml-train-automl-runtime~=1.57.0-&gt;azureml.train.automl) (1.2.14)\n</pre>\n"
          },
          "metadata": {}
        },
        {
          "output_type": "display_data",
          "data": {
            "text/plain": "Requirement already satisfied: opentelemetry-semantic-conventions==0.48b0 in /anaconda/envs/azureml_py310_sdkv2/lib/python3.10/site-packages (from opentelemetry-sdk<3,>=1.9.0->mlflow-skinny->azureml-mlflow~=1.57.0->azureml-train-automl-runtime~=1.57.0->azureml.train.automl) (0.48b0)\n",
            "text/html": "<pre style=\"white-space:pre;overflow-x:auto;line-height:normal;font-family:Menlo,'DejaVu Sans Mono',consolas,'Courier New',monospace\">Requirement already satisfied: opentelemetry-semantic-conventions==0.48b0 in /anaconda/envs/azureml_py310_sdkv2/lib/python3.10/site-packages (from opentelemetry-sdk&lt;3,&gt;=1.9.0-&gt;mlflow-skinny-&gt;azureml-mlflow~=1.57.0-&gt;azureml-train-automl-runtime~=1.57.0-&gt;azureml.train.automl) (0.48b0)\n</pre>\n"
          },
          "metadata": {}
        },
        {
          "output_type": "display_data",
          "data": {
            "text/plain": "Requirement already satisfied: oauthlib>=3.0.0 in /anaconda/envs/azureml_py310_sdkv2/lib/python3.10/site-packages (from requests-oauthlib>=0.5.0->msrest<=0.7.1,>=0.5.1->azureml-core~=1.57.0->azureml-responsibleai~=1.57.0->azureml.train.automl) (3.2.2)\n",
            "text/html": "<pre style=\"white-space:pre;overflow-x:auto;line-height:normal;font-family:Menlo,'DejaVu Sans Mono',consolas,'Courier New',monospace\">Requirement already satisfied: oauthlib&gt;=3.0.0 in /anaconda/envs/azureml_py310_sdkv2/lib/python3.10/site-packages (from requests-oauthlib&gt;=0.5.0-&gt;msrest&lt;=0.7.1,&gt;=0.5.1-&gt;azureml-core~=1.57.0-&gt;azureml-responsibleai~=1.57.0-&gt;azureml.train.automl) (3.2.2)\n</pre>\n"
          },
          "metadata": {}
        },
        {
          "output_type": "display_data",
          "data": {
            "text/plain": "Requirement already satisfied: slicer==0.0.7 in /anaconda/envs/azureml_py310_sdkv2/lib/python3.10/site-packages (from shap<=0.44.0,>=0.20.0->interpret-community>=0.31.0->responsibleai==0.36.0->azureml-responsibleai~=1.57.0->azureml.train.automl) (0.0.7)\n",
            "text/html": "<pre style=\"white-space:pre;overflow-x:auto;line-height:normal;font-family:Menlo,'DejaVu Sans Mono',consolas,'Courier New',monospace\">Requirement already satisfied: slicer==0.0.7 in /anaconda/envs/azureml_py310_sdkv2/lib/python3.10/site-packages (from shap&lt;=0.44.0,&gt;=0.20.0-&gt;interpret-community&gt;=0.31.0-&gt;responsibleai==0.36.0-&gt;azureml-responsibleai~=1.57.0-&gt;azureml.train.automl) (0.0.7)\n</pre>\n"
          },
          "metadata": {}
        },
        {
          "output_type": "display_data",
          "data": {
            "text/plain": "Requirement already satisfied: wrapt<2,>=1.10 in /anaconda/envs/azureml_py310_sdkv2/lib/python3.10/site-packages (from deprecated>=1.2.6->opentelemetry-api<3,>=1.9.0->mlflow-skinny->azureml-mlflow~=1.57.0->azureml-train-automl-runtime~=1.57.0->azureml.train.automl) (1.16.0)\n",
            "text/html": "<pre style=\"white-space:pre;overflow-x:auto;line-height:normal;font-family:Menlo,'DejaVu Sans Mono',consolas,'Courier New',monospace\">Requirement already satisfied: wrapt&lt;2,&gt;=1.10 in /anaconda/envs/azureml_py310_sdkv2/lib/python3.10/site-packages (from deprecated&gt;=1.2.6-&gt;opentelemetry-api&lt;3,&gt;=1.9.0-&gt;mlflow-skinny-&gt;azureml-mlflow~=1.57.0-&gt;azureml-train-automl-runtime~=1.57.0-&gt;azureml.train.automl) (1.16.0)\n</pre>\n"
          },
          "metadata": {}
        },
        {
          "output_type": "display_data",
          "data": {
            "text/plain": "Requirement already satisfied: smmap<6,>=3.0.1 in /anaconda/envs/azureml_py310_sdkv2/lib/python3.10/site-packages (from gitdb<5,>=4.0.1->gitpython<4,>=3.1.9->mlflow-skinny->azureml-mlflow~=1.57.0->azureml-train-automl-runtime~=1.57.0->azureml.train.automl) (5.0.1)\n",
            "text/html": "<pre style=\"white-space:pre;overflow-x:auto;line-height:normal;font-family:Menlo,'DejaVu Sans Mono',consolas,'Courier New',monospace\">Requirement already satisfied: smmap&lt;6,&gt;=3.0.1 in /anaconda/envs/azureml_py310_sdkv2/lib/python3.10/site-packages (from gitdb&lt;5,&gt;=4.0.1-&gt;gitpython&lt;4,&gt;=3.1.9-&gt;mlflow-skinny-&gt;azureml-mlflow~=1.57.0-&gt;azureml-train-automl-runtime~=1.57.0-&gt;azureml.train.automl) (5.0.1)\n</pre>\n"
          },
          "metadata": {}
        },
        {
          "output_type": "display_data",
          "data": {
            "text/plain": "Requirement already satisfied: pyasn1-modules>=0.2.1 in /anaconda/envs/azureml_py310_sdkv2/lib/python3.10/site-packages (from google-auth~=2.0->databricks-sdk<1,>=0.20.0->mlflow-skinny->azureml-mlflow~=1.57.0->azureml-train-automl-runtime~=1.57.0->azureml.train.automl) (0.4.1)\n",
            "text/html": "<pre style=\"white-space:pre;overflow-x:auto;line-height:normal;font-family:Menlo,'DejaVu Sans Mono',consolas,'Courier New',monospace\">Requirement already satisfied: pyasn1-modules&gt;=0.2.1 in /anaconda/envs/azureml_py310_sdkv2/lib/python3.10/site-packages (from google-auth~=2.0-&gt;databricks-sdk&lt;1,&gt;=0.20.0-&gt;mlflow-skinny-&gt;azureml-mlflow~=1.57.0-&gt;azureml-train-automl-runtime~=1.57.0-&gt;azureml.train.automl) (0.4.1)\n</pre>\n"
          },
          "metadata": {}
        },
        {
          "output_type": "display_data",
          "data": {
            "text/plain": "Requirement already satisfied: rsa<5,>=3.1.4 in /anaconda/envs/azureml_py310_sdkv2/lib/python3.10/site-packages (from google-auth~=2.0->databricks-sdk<1,>=0.20.0->mlflow-skinny->azureml-mlflow~=1.57.0->azureml-train-automl-runtime~=1.57.0->azureml.train.automl) (4.9)\n",
            "text/html": "<pre style=\"white-space:pre;overflow-x:auto;line-height:normal;font-family:Menlo,'DejaVu Sans Mono',consolas,'Courier New',monospace\">Requirement already satisfied: rsa&lt;5,&gt;=3.1.4 in /anaconda/envs/azureml_py310_sdkv2/lib/python3.10/site-packages (from google-auth~=2.0-&gt;databricks-sdk&lt;1,&gt;=0.20.0-&gt;mlflow-skinny-&gt;azureml-mlflow~=1.57.0-&gt;azureml-train-automl-runtime~=1.57.0-&gt;azureml.train.automl) (4.9)\n</pre>\n"
          },
          "metadata": {}
        },
        {
          "output_type": "display_data",
          "data": {
            "text/plain": "Requirement already satisfied: parso<0.9.0,>=0.8.3 in /anaconda/envs/azureml_py310_sdkv2/lib/python3.10/site-packages (from jedi>=0.16->ipython>=7.23.1->ipykernel>=6.22.0->responsibleai==0.36.0->azureml-responsibleai~=1.57.0->azureml.train.automl) (0.8.4)\n",
            "text/html": "<pre style=\"white-space:pre;overflow-x:auto;line-height:normal;font-family:Menlo,'DejaVu Sans Mono',consolas,'Courier New',monospace\">Requirement already satisfied: parso&lt;0.9.0,&gt;=0.8.3 in /anaconda/envs/azureml_py310_sdkv2/lib/python3.10/site-packages (from jedi&gt;=0.16-&gt;ipython&gt;=7.23.1-&gt;ipykernel&gt;=6.22.0-&gt;responsibleai==0.36.0-&gt;azureml-responsibleai~=1.57.0-&gt;azureml.train.automl) (0.8.4)\n</pre>\n"
          },
          "metadata": {}
        },
        {
          "output_type": "display_data",
          "data": {
            "text/plain": "Requirement already satisfied: ptyprocess>=0.5 in /anaconda/envs/azureml_py310_sdkv2/lib/python3.10/site-packages (from pexpect>4.3->ipython>=7.23.1->ipykernel>=6.22.0->responsibleai==0.36.0->azureml-responsibleai~=1.57.0->azureml.train.automl) (0.7.0)\n",
            "text/html": "<pre style=\"white-space:pre;overflow-x:auto;line-height:normal;font-family:Menlo,'DejaVu Sans Mono',consolas,'Courier New',monospace\">Requirement already satisfied: ptyprocess&gt;=0.5 in /anaconda/envs/azureml_py310_sdkv2/lib/python3.10/site-packages (from pexpect&gt;4.3-&gt;ipython&gt;=7.23.1-&gt;ipykernel&gt;=6.22.0-&gt;responsibleai==0.36.0-&gt;azureml-responsibleai~=1.57.0-&gt;azureml.train.automl) (0.7.0)\n</pre>\n"
          },
          "metadata": {}
        },
        {
          "output_type": "display_data",
          "data": {
            "text/plain": "Requirement already satisfied: wcwidth in /anaconda/envs/azureml_py310_sdkv2/lib/python3.10/site-packages (from prompt-toolkit<3.1.0,>=3.0.41->ipython>=7.23.1->ipykernel>=6.22.0->responsibleai==0.36.0->azureml-responsibleai~=1.57.0->azureml.train.automl) (0.2.13)\n",
            "text/html": "<pre style=\"white-space:pre;overflow-x:auto;line-height:normal;font-family:Menlo,'DejaVu Sans Mono',consolas,'Courier New',monospace\">Requirement already satisfied: wcwidth in /anaconda/envs/azureml_py310_sdkv2/lib/python3.10/site-packages (from prompt-toolkit&lt;3.1.0,&gt;=3.0.41-&gt;ipython&gt;=7.23.1-&gt;ipykernel&gt;=6.22.0-&gt;responsibleai==0.36.0-&gt;azureml-responsibleai~=1.57.0-&gt;azureml.train.automl) (0.2.13)\n</pre>\n"
          },
          "metadata": {}
        },
        {
          "output_type": "display_data",
          "data": {
            "text/plain": "Requirement already satisfied: executing>=1.2.0 in /anaconda/envs/azureml_py310_sdkv2/lib/python3.10/site-packages (from stack-data->ipython>=7.23.1->ipykernel>=6.22.0->responsibleai==0.36.0->azureml-responsibleai~=1.57.0->azureml.train.automl) (2.1.0)\n",
            "text/html": "<pre style=\"white-space:pre;overflow-x:auto;line-height:normal;font-family:Menlo,'DejaVu Sans Mono',consolas,'Courier New',monospace\">Requirement already satisfied: executing&gt;=1.2.0 in /anaconda/envs/azureml_py310_sdkv2/lib/python3.10/site-packages (from stack-data-&gt;ipython&gt;=7.23.1-&gt;ipykernel&gt;=6.22.0-&gt;responsibleai==0.36.0-&gt;azureml-responsibleai~=1.57.0-&gt;azureml.train.automl) (2.1.0)\n</pre>\n"
          },
          "metadata": {}
        },
        {
          "output_type": "display_data",
          "data": {
            "text/plain": "Requirement already satisfied: asttokens>=2.1.0 in /anaconda/envs/azureml_py310_sdkv2/lib/python3.10/site-packages (from stack-data->ipython>=7.23.1->ipykernel>=6.22.0->responsibleai==0.36.0->azureml-responsibleai~=1.57.0->azureml.train.automl) (2.4.1)\n",
            "text/html": "<pre style=\"white-space:pre;overflow-x:auto;line-height:normal;font-family:Menlo,'DejaVu Sans Mono',consolas,'Courier New',monospace\">Requirement already satisfied: asttokens&gt;=2.1.0 in /anaconda/envs/azureml_py310_sdkv2/lib/python3.10/site-packages (from stack-data-&gt;ipython&gt;=7.23.1-&gt;ipykernel&gt;=6.22.0-&gt;responsibleai==0.36.0-&gt;azureml-responsibleai~=1.57.0-&gt;azureml.train.automl) (2.4.1)\n</pre>\n"
          },
          "metadata": {}
        },
        {
          "output_type": "display_data",
          "data": {
            "text/plain": "Requirement already satisfied: pure-eval in /anaconda/envs/azureml_py310_sdkv2/lib/python3.10/site-packages (from stack-data->ipython>=7.23.1->ipykernel>=6.22.0->responsibleai==0.36.0->azureml-responsibleai~=1.57.0->azureml.train.automl) (0.2.3)\n",
            "text/html": "<pre style=\"white-space:pre;overflow-x:auto;line-height:normal;font-family:Menlo,'DejaVu Sans Mono',consolas,'Courier New',monospace\">Requirement already satisfied: pure-eval in /anaconda/envs/azureml_py310_sdkv2/lib/python3.10/site-packages (from stack-data-&gt;ipython&gt;=7.23.1-&gt;ipykernel&gt;=6.22.0-&gt;responsibleai==0.36.0-&gt;azureml-responsibleai~=1.57.0-&gt;azureml.train.automl) (0.2.3)\n</pre>\n"
          },
          "metadata": {}
        }
      ],
      "execution_count": 19,
      "metadata": {
        "jupyter": {
          "source_hidden": false,
          "outputs_hidden": false
        },
        "nteract": {
          "transient": {
            "deleting": false
          }
        },
        "gather": {
          "logged": 1728378384232
        }
      }
    },
    {
      "cell_type": "code",
      "source": [
        "imbalance_pipeline = ImbPipeline([\n",
        "    ('preprocessor', preprocessor),\n",
        "    ('smote', SMOTE(random_state=42)),  # Oversampling\n",
        "    ('undersampler', RandomUnderSampler(random_state=42))  # Undersampling\n",
        "])"
      ],
      "outputs": [],
      "execution_count": 20,
      "metadata": {
        "jupyter": {
          "source_hidden": false,
          "outputs_hidden": false
        },
        "nteract": {
          "transient": {
            "deleting": false
          }
        },
        "gather": {
          "logged": 1728378384358
        }
      }
    },
    {
      "cell_type": "code",
      "source": [
        "print(X_train.columns)\n"
      ],
      "outputs": [
        {
          "output_type": "stream",
          "name": "stdout",
          "text": "Index(['customerID', 'gender', 'SeniorCitizen', 'Partner', 'Dependents',\n       'tenure', 'PhoneService', 'MultipleLines', 'InternetService',\n       'OnlineSecurity', 'OnlineBackup', 'DeviceProtection', 'TechSupport',\n       'StreamingTV', 'StreamingMovies', 'Contract', 'PaperlessBilling',\n       'PaymentMethod', 'MonthlyCharges', 'TotalCharges', 'Churn'],\n      dtype='object')\n"
        }
      ],
      "execution_count": 21,
      "metadata": {
        "jupyter": {
          "source_hidden": false,
          "outputs_hidden": false
        },
        "nteract": {
          "transient": {
            "deleting": false
          }
        },
        "gather": {
          "logged": 1728378384498
        }
      }
    },
    {
      "cell_type": "code",
      "source": [
        "X_resampled, y_resampled = imbalance_pipeline.fit_resample(X_train, y_train)\n",
        "\n",
        "print(\"Shape of training data after resampling:\", X_resampled.shape)\n",
        "print(\"Distribution of classes after resampling:\")\n",
        "print(pd.Series(y_resampled).value_counts(normalize=True))"
      ],
      "outputs": [
        {
          "output_type": "stream",
          "name": "stdout",
          "text": "Shape of training data after resampling: (8278, 5676)\nDistribution of classes after resampling:\nFalse    0.5\nTrue     0.5\nName: Churn, dtype: float64\n"
        }
      ],
      "execution_count": 22,
      "metadata": {
        "jupyter": {
          "source_hidden": false,
          "outputs_hidden": false
        },
        "nteract": {
          "transient": {
            "deleting": false
          }
        },
        "gather": {
          "logged": 1728378384646
        }
      }
    },
    {
      "cell_type": "code",
      "source": [
        "plt.figure(figsize=(10, 6))\n",
        "sns.countplot(x=y_resampled)\n",
        "plt.title('Distribution of Churn (After Balancing)')\n",
        "plt.show()"
      ],
      "outputs": [
        {
          "output_type": "display_data",
          "data": {
            "text/plain": "<Figure size 1000x600 with 1 Axes>",
            "image/png": "[encoded data removed]"
          },
          "metadata": {}
        }
      ],
      "execution_count": 23,
      "metadata": {
        "jupyter": {
          "source_hidden": false,
          "outputs_hidden": false
        },
        "nteract": {
          "transient": {
            "deleting": false
          }
        },
        "gather": {
          "logged": 1728378414575
        }
      }
    },
    {
      "cell_type": "code",
      "source": [
        "resampled_data = pd.concat([pd.DataFrame(X_resampled), pd.Series(y_resampled, name='Churn Flag')], axis=1)"
      ],
      "outputs": [],
      "execution_count": 24,
      "metadata": {
        "jupyter": {
          "source_hidden": false,
          "outputs_hidden": false
        },
        "nteract": {
          "transient": {
            "deleting": false
          }
        },
        "gather": {
          "logged": 1728378468994
        }
      }
    },
    {
      "cell_type": "code",
      "source": [
        "pip.main(['install','azureml.core.online_endpoint'])\n",
        "pip.main(['install','azureml.core.online_deployment'])\n",
        "from azureml.core import Workspace, Experiment, Model, Environment\n",
        "from azureml.core.model import InferenceConfig\n",
        "from azureml.core.webservice import AciWebservice\n",
        "from azureml.core.online_endpoint import OnlineEndpoint, AzureMLOnlineEndpointPolicy\n",
        "from azureml.core.online_deployment import OnlineDeployment"
      ],
      "outputs": [
        {
          "output_type": "stream",
          "name": "stderr",
          "text": "WARNING: pip is being invoked by an old script wrapper. This will fail in a future version of pip.\nPlease see https://github.com/pypa/pip/issues/5599 for advice on fixing the underlying issue.\nTo avoid this problem you can invoke Python with '-m pip' instead of running pip directly.\n"
        },
        {
          "output_type": "display_data",
          "data": {
            "text/plain": "\u001b[31mERROR: Could not find a version that satisfies the requirement azureml.core.online_endpoint (from versions: none)\u001b[0m\u001b[31m\n\u001b[0m",
            "text/html": "<pre style=\"white-space:pre;overflow-x:auto;line-height:normal;font-family:Menlo,'DejaVu Sans Mono',consolas,'Courier New',monospace\"><span style=\"color: #800000; text-decoration-color: #800000\">ERROR: Could not find a version that satisfies the requirement azureml.core.online_endpoint (from versions: none)\n</span></pre>\n"
          },
          "metadata": {}
        },
        {
          "output_type": "display_data",
          "data": {
            "text/plain": "\u001b[31mERROR: No matching distribution found for azureml.core.online_endpoint\u001b[0m\u001b[31m\n\u001b[0m",
            "text/html": "<pre style=\"white-space:pre;overflow-x:auto;line-height:normal;font-family:Menlo,'DejaVu Sans Mono',consolas,'Courier New',monospace\"><span style=\"color: #800000; text-decoration-color: #800000\">ERROR: No matching distribution found for azureml.core.online_endpoint\n</span></pre>\n"
          },
          "metadata": {}
        },
        {
          "output_type": "stream",
          "name": "stderr",
          "text": "WARNING: pip is being invoked by an old script wrapper. This will fail in a future version of pip.\nPlease see https://github.com/pypa/pip/issues/5599 for advice on fixing the underlying issue.\nTo avoid this problem you can invoke Python with '-m pip' instead of running pip directly.\n"
        },
        {
          "output_type": "display_data",
          "data": {
            "text/plain": "\u001b[31mERROR: Could not find a version that satisfies the requirement azureml.core.online_deployment (from versions: none)\u001b[0m\u001b[31m\n\u001b[0m",
            "text/html": "<pre style=\"white-space:pre;overflow-x:auto;line-height:normal;font-family:Menlo,'DejaVu Sans Mono',consolas,'Courier New',monospace\"><span style=\"color: #800000; text-decoration-color: #800000\">ERROR: Could not find a version that satisfies the requirement azureml.core.online_deployment (from versions: none)\n</span></pre>\n"
          },
          "metadata": {}
        },
        {
          "output_type": "display_data",
          "data": {
            "text/plain": "\u001b[31mERROR: No matching distribution found for azureml.core.online_deployment\u001b[0m\u001b[31m\n\u001b[0m",
            "text/html": "<pre style=\"white-space:pre;overflow-x:auto;line-height:normal;font-family:Menlo,'DejaVu Sans Mono',consolas,'Courier New',monospace\"><span style=\"color: #800000; text-decoration-color: #800000\">ERROR: No matching distribution found for azureml.core.online_deployment\n</span></pre>\n"
          },
          "metadata": {}
        },
        {
          "output_type": "error",
          "ename": "ModuleNotFoundError",
          "evalue": "No module named 'azureml.core.online_endpoint'",
          "traceback": [
            "\u001b[0;31m---------------------------------------------------------------------------\u001b[0m",
            "\u001b[0;31mModuleNotFoundError\u001b[0m                       Traceback (most recent call last)",
            "Cell \u001b[0;32mIn[26], line 6\u001b[0m\n\u001b[1;32m      4\u001b[0m \u001b[38;5;28;01mfrom\u001b[39;00m \u001b[38;5;21;01mazureml\u001b[39;00m\u001b[38;5;21;01m.\u001b[39;00m\u001b[38;5;21;01mcore\u001b[39;00m\u001b[38;5;21;01m.\u001b[39;00m\u001b[38;5;21;01mmodel\u001b[39;00m \u001b[38;5;28;01mimport\u001b[39;00m InferenceConfig\n\u001b[1;32m      5\u001b[0m \u001b[38;5;28;01mfrom\u001b[39;00m \u001b[38;5;21;01mazureml\u001b[39;00m\u001b[38;5;21;01m.\u001b[39;00m\u001b[38;5;21;01mcore\u001b[39;00m\u001b[38;5;21;01m.\u001b[39;00m\u001b[38;5;21;01mwebservice\u001b[39;00m \u001b[38;5;28;01mimport\u001b[39;00m AciWebservice\n\u001b[0;32m----> 6\u001b[0m \u001b[38;5;28;01mfrom\u001b[39;00m \u001b[38;5;21;01mazureml\u001b[39;00m\u001b[38;5;21;01m.\u001b[39;00m\u001b[38;5;21;01mcore\u001b[39;00m\u001b[38;5;21;01m.\u001b[39;00m\u001b[38;5;21;01monline_endpoint\u001b[39;00m \u001b[38;5;28;01mimport\u001b[39;00m OnlineEndpoint, AzureMLOnlineEndpointPolicy\n\u001b[1;32m      7\u001b[0m \u001b[38;5;28;01mfrom\u001b[39;00m \u001b[38;5;21;01mazureml\u001b[39;00m\u001b[38;5;21;01m.\u001b[39;00m\u001b[38;5;21;01mcore\u001b[39;00m\u001b[38;5;21;01m.\u001b[39;00m\u001b[38;5;21;01monline_deployment\u001b[39;00m \u001b[38;5;28;01mimport\u001b[39;00m OnlineDeployment\n",
            "\u001b[0;31mModuleNotFoundError\u001b[0m: No module named 'azureml.core.online_endpoint'"
          ]
        }
      ],
      "execution_count": 26,
      "metadata": {
        "jupyter": {
          "source_hidden": false,
          "outputs_hidden": false
        },
        "nteract": {
          "transient": {
            "deleting": false
          }
        },
        "gather": {
          "logged": 1728378536533
        }
      }
    },
    {
      "cell_type": "code",
      "source": [
        "!pip install azureml.core.online_endpoint\n",
        "from azureml.core import Dataset\n"
      ],
      "outputs": [
        {
          "output_type": "stream",
          "name": "stdout",
          "text": "\u001b[31mERROR: Could not find a version that satisfies the requirement azureml.core.online_endpoint (from versions: none)\u001b[0m\u001b[31m\r\n\u001b[0m\u001b[31mERROR: No matching distribution found for azureml.core.online_endpoint\u001b[0m\u001b[31m\r\n\u001b[0m"
        }
      ],
      "execution_count": 31,
      "metadata": {
        "jupyter": {
          "source_hidden": false,
          "outputs_hidden": false
        },
        "nteract": {
          "transient": {
            "deleting": false
          }
        },
        "gather": {
          "logged": 1728378830349
        }
      }
    },
    {
      "cell_type": "code",
      "source": [
        "ws = Workspace.from_config()\n",
        "datastore = ws.get_default_datastore()"
      ],
      "outputs": [
        {
          "output_type": "display_data",
          "data": {
            "text/plain": "Found the config file in: /config.json\n",
            "text/html": "<pre style=\"white-space:pre;overflow-x:auto;line-height:normal;font-family:Menlo,'DejaVu Sans Mono',consolas,'Courier New',monospace\">Found the config file in: /config.json\n</pre>\n"
          },
          "metadata": {}
        },
        {
          "output_type": "display_data",
          "data": {
            "text/plain": "<azureml.core.authentication.InteractiveLoginAuthentication object at 0x7fa6647bed10>\n",
            "text/html": "<pre style=\"white-space:pre;overflow-x:auto;line-height:normal;font-family:Menlo,'DejaVu Sans Mono',consolas,'Courier New',monospace\">&lt;azureml.core.authentication.InteractiveLoginAuthentication object at 0x7fa6647bed10&gt;\n</pre>\n"
          },
          "metadata": {}
        }
      ],
      "execution_count": 28,
      "metadata": {
        "jupyter": {
          "source_hidden": false,
          "outputs_hidden": false
        },
        "nteract": {
          "transient": {
            "deleting": false
          }
        },
        "gather": {
          "logged": 1728378747525
        }
      }
    },
    {
      "cell_type": "code",
      "source": [
        "import numpy as np\n",
        "from scipy.sparse import csr_matrix\n",
        "\n",
        "# Identify columns that might contain sparse matrices\n",
        "for column in resampled_data.columns:\n",
        "    if isinstance(resampled_data[column].iloc[0], csr_matrix):\n",
        "        resampled_data[column] = resampled_data[column].apply(lambda x: x.toarray() if isinstance(x, csr_matrix) else x)\n"
      ],
      "outputs": [],
      "execution_count": 29,
      "metadata": {
        "jupyter": {
          "source_hidden": false,
          "outputs_hidden": false
        },
        "nteract": {
          "transient": {
            "deleting": false
          }
        },
        "gather": {
          "logged": 1728378764205
        }
      }
    },
    {
      "cell_type": "code",
      "source": [
        "for column in resampled_data.select_dtypes(include=['object']).columns:\n",
        "    resampled_data[column] = resampled_data[column].astype(str)\n",
        "# Register the dataset\n",
        "dataset = Dataset.Tabular.register_pandas_dataframe(\n",
        "    dataframe=resampled_data, \n",
        "    target=datastore, \n",
        "    name='churn_prediction_balanced'\n",
        ")"
      ],
      "outputs": [
        {
          "output_type": "stream",
          "name": "stdout",
          "text": "Validating arguments.\nArguments validated.\nValidating arguments.\nArguments validated.\n'overwrite' is set to True. Any file already present in the target will be overwritten.\nUploading files from '/tmp/tmppgm1zch0' to 'managed-dataset/db343d28-0d75-4dba-b1af-f1ab7d019301/'\nCopying 1 files with concurrency set to 1\nCopied /tmp/tmppgm1zch0/dataframe.parquet, file 1 out of 1. Destination path: https://telecustomerch4599935195.blob.core.windows.net/azureml-blobstore-2eda2c6f-2cd5-44b8-be37-49f1633c2976/managed-dataset/db343d28-0d75-4dba-b1af-f1ab7d019301/dataframe.parquet\nSuccessfully uploaded file to datastore.\nCreating and registering a new dataset.\nFiles copied=1, skipped=0, failed=0\nSuccessfully created and registered a new dataset.\n"
        }
      ],
      "execution_count": 34,
      "metadata": {
        "jupyter": {
          "source_hidden": false,
          "outputs_hidden": false
        },
        "nteract": {
          "transient": {
            "deleting": false
          }
        },
        "gather": {
          "logged": 1728378927032
        }
      }
    },
    {
      "cell_type": "code",
      "source": [
        "from azureml.core import Model\n",
        "\n",
        "from azureml.core.model import InferenceConfig\n",
        "\n",
        "\n",
        "from azureml.core.webservice import AciWebservice\n",
        "\n",
        "# Define the deployment configuration\n",
        "aci_config = AciWebservice.deploy_configuration(\n",
        "    cpu_cores=1,  # Number of CPU cores\n",
        "    memory_gb=1,  # Amount of memory in GB\n",
        "    enable_app_insights=True  # Enable Application Insights for monitoring\n",
        ")\n",
        "\n",
        "\n",
        "service = Model.deploy(workspace=ws,\n",
        "    name=\"churn-prediction-service\",\n",
        "    models=[model],\n",
        "    inference_config=inference_config,\n",
        "    deployment_config=aci_config)\n",
        "\n",
        "service.wait_for_deployment(show_output=True)\n",
        "\n",
        "print(f\"Scoring URI: {service.scoring_uri}\")"
      ],
      "outputs": [
        {
          "output_type": "display_data",
          "data": {
            "text/plain": "\u001b[31mERROR: entry_script score.py doesn't exist. entry_script should be path relative to current working directory\n\u001b[0m\u001b[31m\n\u001b[0m",
            "text/html": "<pre style=\"white-space:pre;overflow-x:auto;line-height:normal;font-family:Menlo,'DejaVu Sans Mono',consolas,'Courier New',monospace\"><span style=\"color: #800000; text-decoration-color: #800000\">ERROR: entry_script score.py doesn't exist. entry_script should be path relative to current working directory\n\n</span></pre>\n"
          },
          "metadata": {}
        },
        {
          "output_type": "error",
          "ename": "WebserviceException",
          "evalue": "WebserviceException:\n\tMessage: entry_script score.py doesn't exist. entry_script should be path relative to current working directory\n\tInnerException None\n\tErrorResponse \n{\n    \"error\": {\n        \"message\": \"entry_script score.py doesn't exist. entry_script should be path relative to current working directory\"\n    }\n}",
          "traceback": [
            "\u001b[0;31m---------------------------------------------------------------------------\u001b[0m",
            "\u001b[0;31mWebserviceException\u001b[0m                       Traceback (most recent call last)",
            "Cell \u001b[0;32mIn[37], line 9\u001b[0m\n\u001b[1;32m      6\u001b[0m \u001b[38;5;28;01mfrom\u001b[39;00m \u001b[38;5;21;01mazureml\u001b[39;00m\u001b[38;5;21;01m.\u001b[39;00m\u001b[38;5;21;01mcore\u001b[39;00m\u001b[38;5;21;01m.\u001b[39;00m\u001b[38;5;21;01mmodel\u001b[39;00m \u001b[38;5;28;01mimport\u001b[39;00m InferenceConfig\n\u001b[1;32m      8\u001b[0m \u001b[38;5;66;03m# Define the entry script and environment\u001b[39;00m\n\u001b[0;32m----> 9\u001b[0m inference_config \u001b[38;5;241m=\u001b[39m \u001b[43mInferenceConfig\u001b[49m\u001b[43m(\u001b[49m\n\u001b[1;32m     10\u001b[0m \u001b[43m    \u001b[49m\u001b[43mentry_script\u001b[49m\u001b[38;5;241;43m=\u001b[39;49m\u001b[38;5;124;43m\"\u001b[39;49m\u001b[38;5;124;43mscore.py\u001b[39;49m\u001b[38;5;124;43m\"\u001b[39;49m\u001b[43m,\u001b[49m\u001b[43m  \u001b[49m\u001b[38;5;66;43;03m# Path to your entry script # Define the environment (can be created using Environment class)\u001b[39;49;00m\n\u001b[1;32m     11\u001b[0m \u001b[43m)\u001b[49m\n\u001b[1;32m     13\u001b[0m \u001b[38;5;28;01mfrom\u001b[39;00m \u001b[38;5;21;01mazureml\u001b[39;00m\u001b[38;5;21;01m.\u001b[39;00m\u001b[38;5;21;01mcore\u001b[39;00m\u001b[38;5;21;01m.\u001b[39;00m\u001b[38;5;21;01mwebservice\u001b[39;00m \u001b[38;5;28;01mimport\u001b[39;00m AciWebservice\n\u001b[1;32m     15\u001b[0m \u001b[38;5;66;03m# Define the deployment configuration\u001b[39;00m\n",
            "File \u001b[0;32m/anaconda/envs/azureml_py310_sdkv2/lib/python3.10/site-packages/azureml/core/model.py:2131\u001b[0m, in \u001b[0;36mInferenceConfig.__init__\u001b[0;34m(self, entry_script, runtime, conda_file, extra_docker_file_steps, source_directory, enable_gpu, description, base_image, base_image_registry, cuda_version, environment)\u001b[0m\n\u001b[1;32m   2128\u001b[0m \u001b[38;5;28mself\u001b[39m\u001b[38;5;241m.\u001b[39mbase_image_registry \u001b[38;5;241m=\u001b[39m base_image_registry \u001b[38;5;129;01mor\u001b[39;00m ContainerRegistry()\n\u001b[1;32m   2129\u001b[0m \u001b[38;5;28mself\u001b[39m\u001b[38;5;241m.\u001b[39menvironment \u001b[38;5;241m=\u001b[39m environment\n\u001b[0;32m-> 2131\u001b[0m \u001b[38;5;28;43mself\u001b[39;49m\u001b[38;5;241;43m.\u001b[39;49m\u001b[43mvalidate_configuration\u001b[49m\u001b[43m(\u001b[49m\u001b[43m)\u001b[49m\n",
            "File \u001b[0;32m/anaconda/envs/azureml_py310_sdkv2/lib/python3.10/site-packages/azureml/core/model.py:2232\u001b[0m, in \u001b[0;36mInferenceConfig.validate_configuration\u001b[0;34m(self)\u001b[0m\n\u001b[1;32m   2229\u001b[0m     \u001b[38;5;28mself\u001b[39m\u001b[38;5;241m.\u001b[39msource_directory \u001b[38;5;241m=\u001b[39m os\u001b[38;5;241m.\u001b[39mpath\u001b[38;5;241m.\u001b[39mrealpath(\u001b[38;5;28mself\u001b[39m\u001b[38;5;241m.\u001b[39msource_directory)\n\u001b[1;32m   2230\u001b[0m     validate_path_exists_or_throw(\u001b[38;5;28mself\u001b[39m\u001b[38;5;241m.\u001b[39msource_directory, \u001b[38;5;124m\"\u001b[39m\u001b[38;5;124msource directory\u001b[39m\u001b[38;5;124m\"\u001b[39m)\n\u001b[0;32m-> 2232\u001b[0m \u001b[43mvalidate_path_exists_or_throw\u001b[49m\u001b[43m(\u001b[49m\u001b[43mjoinPath\u001b[49m\u001b[43m(\u001b[49m\u001b[38;5;28;43mself\u001b[39;49m\u001b[38;5;241;43m.\u001b[39;49m\u001b[43msource_directory\u001b[49m\u001b[43m,\u001b[49m\u001b[43m \u001b[49m\u001b[38;5;28;43mself\u001b[39;49m\u001b[38;5;241;43m.\u001b[39;49m\u001b[43mentry_script\u001b[49m\u001b[43m)\u001b[49m\u001b[43m,\u001b[49m\n\u001b[1;32m   2233\u001b[0m \u001b[43m                              \u001b[49m\u001b[38;5;124;43m'\u001b[39;49m\u001b[38;5;124;43mentry_script\u001b[39;49m\u001b[38;5;124;43m'\u001b[39;49m\u001b[43m,\u001b[49m\n\u001b[1;32m   2234\u001b[0m \u001b[43m                              \u001b[49m\u001b[43mextra_message\u001b[49m\u001b[38;5;241;43m=\u001b[39;49m\u001b[38;5;124;43m'\u001b[39;49m\u001b[38;5;124;43mentry_script should be path relative to \u001b[39;49m\u001b[38;5;124;43m'\u001b[39;49m\n\u001b[1;32m   2235\u001b[0m \u001b[43m                                            \u001b[49m\u001b[38;5;124;43m'\u001b[39;49m\u001b[38;5;124;43mcurrent working directory\u001b[39;49m\u001b[38;5;124;43m'\u001b[39;49m\u001b[43m)\u001b[49m\n\u001b[1;32m   2237\u001b[0m script_name, script_extension \u001b[38;5;241m=\u001b[39m os\u001b[38;5;241m.\u001b[39mpath\u001b[38;5;241m.\u001b[39msplitext(os\u001b[38;5;241m.\u001b[39mpath\u001b[38;5;241m.\u001b[39mbasename(\u001b[38;5;28mself\u001b[39m\u001b[38;5;241m.\u001b[39mentry_script))\n\u001b[1;32m   2238\u001b[0m \u001b[38;5;28;01mif\u001b[39;00m script_extension \u001b[38;5;241m!=\u001b[39m \u001b[38;5;124m'\u001b[39m\u001b[38;5;124m.py\u001b[39m\u001b[38;5;124m'\u001b[39m:\n",
            "File \u001b[0;32m/anaconda/envs/azureml_py310_sdkv2/lib/python3.10/site-packages/azureml/_model_management/_util.py:885\u001b[0m, in \u001b[0;36mvalidate_path_exists_or_throw\u001b[0;34m(member, name, extra_message)\u001b[0m\n\u001b[1;32m    883\u001b[0m member \u001b[38;5;241m=\u001b[39m os\u001b[38;5;241m.\u001b[39mpath\u001b[38;5;241m.\u001b[39mnormpath(member)\n\u001b[1;32m    884\u001b[0m \u001b[38;5;28;01mif\u001b[39;00m \u001b[38;5;129;01mnot\u001b[39;00m os\u001b[38;5;241m.\u001b[39mpath\u001b[38;5;241m.\u001b[39mexists(member):\n\u001b[0;32m--> 885\u001b[0m     \u001b[38;5;28;01mraise\u001b[39;00m WebserviceException(\u001b[38;5;124m\"\u001b[39m\u001b[38;5;132;01m{0}\u001b[39;00m\u001b[38;5;124m \u001b[39m\u001b[38;5;132;01m{1}\u001b[39;00m\u001b[38;5;124m doesn\u001b[39m\u001b[38;5;124m'\u001b[39m\u001b[38;5;124mt exist. \u001b[39m\u001b[38;5;132;01m{2}\u001b[39;00m\u001b[38;5;124m\"\u001b[39m\u001b[38;5;241m.\u001b[39mformat(name, member, extra_message),\n\u001b[1;32m    886\u001b[0m                               logger\u001b[38;5;241m=\u001b[39mmodule_logger)\n",
            "\u001b[0;31mWebserviceException\u001b[0m: WebserviceException:\n\tMessage: entry_script score.py doesn't exist. entry_script should be path relative to current working directory\n\tInnerException None\n\tErrorResponse \n{\n    \"error\": {\n        \"message\": \"entry_script score.py doesn't exist. entry_script should be path relative to current working directory\"\n    }\n}"
          ]
        }
      ],
      "execution_count": 37,
      "metadata": {
        "jupyter": {
          "source_hidden": false,
          "outputs_hidden": false
        },
        "nteract": {
          "transient": {
            "deleting": false
          }
        },
        "gather": {
          "logged": 1728379445813
        }
      }
    },
    {
      "cell_type": "code",
      "source": [
        "X"
      ],
      "outputs": [
        {
          "output_type": "execute_result",
          "execution_count": 38,
          "data": {
            "text/plain": "      customerID  gender  SeniorCitizen  Partner  Dependents  tenure  \\\n0     7590-VHVEG  Female              0     True       False       1   \n1     5575-GNVDE    Male              0    False       False      34   \n2     3668-QPYBK    Male              0    False       False       2   \n3     7795-CFOCW    Male              0    False       False      45   \n4     9237-HQITU  Female              0    False       False       2   \n...          ...     ...            ...      ...         ...     ...   \n7038  6840-RESVB    Male              0     True        True      24   \n7039  2234-XADUH  Female              0     True        True      72   \n7040  4801-JZAZL  Female              0     True        True      11   \n7041  8361-LTMKD    Male              1     True       False       4   \n7042  3186-AJIEK    Male              0    False       False      66   \n\n      PhoneService     MultipleLines InternetService OnlineSecurity  ...  \\\n0            False  No phone service             DSL             No  ...   \n1             True                No             DSL            Yes  ...   \n2             True                No             DSL            Yes  ...   \n3            False  No phone service             DSL            Yes  ...   \n4             True                No     Fiber optic             No  ...   \n...            ...               ...             ...            ...  ...   \n7038          True               Yes             DSL            Yes  ...   \n7039          True               Yes     Fiber optic             No  ...   \n7040         False  No phone service             DSL            Yes  ...   \n7041          True               Yes     Fiber optic             No  ...   \n7042          True                No     Fiber optic            Yes  ...   \n\n     DeviceProtection TechSupport StreamingTV StreamingMovies        Contract  \\\n0                  No          No          No              No  Month-to-month   \n1                 Yes          No          No              No        One year   \n2                  No          No          No              No  Month-to-month   \n3                 Yes         Yes          No              No        One year   \n4                  No          No          No              No  Month-to-month   \n...               ...         ...         ...             ...             ...   \n7038              Yes         Yes         Yes             Yes        One year   \n7039              Yes          No         Yes             Yes        One year   \n7040               No          No          No              No  Month-to-month   \n7041               No          No          No              No  Month-to-month   \n7042              Yes         Yes         Yes             Yes        Two year   \n\n     PaperlessBilling              PaymentMethod MonthlyCharges  TotalCharges  \\\n0                True           Electronic check          29.85         29.85   \n1               False               Mailed check          56.95       1889.50   \n2                True               Mailed check          53.85        108.15   \n3               False  Bank transfer (automatic)          42.30       1840.75   \n4                True           Electronic check          70.70        151.65   \n...               ...                        ...            ...           ...   \n7038             True               Mailed check          84.80       1990.50   \n7039             True    Credit card (automatic)         103.20       7362.90   \n7040             True           Electronic check          29.60        346.45   \n7041             True               Mailed check          74.40        306.60   \n7042             True  Bank transfer (automatic)         105.65       6844.50   \n\n      Churn  \n0     False  \n1     False  \n2      True  \n3     False  \n4      True  \n...     ...  \n7038  False  \n7039  False  \n7040  False  \n7041   True  \n7042  False  \n\n[7043 rows x 21 columns]",
            "text/html": "<div>\n<style scoped>\n    .dataframe tbody tr th:only-of-type {\n        vertical-align: middle;\n    }\n\n    .dataframe tbody tr th {\n        vertical-align: top;\n    }\n\n    .dataframe thead th {\n        text-align: right;\n    }\n</style>\n<table border=\"1\" class=\"dataframe\">\n  <thead>\n    <tr style=\"text-align: right;\">\n      <th></th>\n      <th>customerID</th>\n      <th>gender</th>\n      <th>SeniorCitizen</th>\n      <th>Partner</th>\n      <th>Dependents</th>\n      <th>tenure</th>\n      <th>PhoneService</th>\n      <th>MultipleLines</th>\n      <th>InternetService</th>\n      <th>OnlineSecurity</th>\n      <th>...</th>\n      <th>DeviceProtection</th>\n      <th>TechSupport</th>\n      <th>StreamingTV</th>\n      <th>StreamingMovies</th>\n      <th>Contract</th>\n      <th>PaperlessBilling</th>\n      <th>PaymentMethod</th>\n      <th>MonthlyCharges</th>\n      <th>TotalCharges</th>\n      <th>Churn</th>\n    </tr>\n  </thead>\n  <tbody>\n    <tr>\n      <th>0</th>\n      <td>7590-VHVEG</td>\n      <td>Female</td>\n      <td>0</td>\n      <td>True</td>\n      <td>False</td>\n      <td>1</td>\n      <td>False</td>\n      <td>No phone service</td>\n      <td>DSL</td>\n      <td>No</td>\n      <td>...</td>\n      <td>No</td>\n      <td>No</td>\n      <td>No</td>\n      <td>No</td>\n      <td>Month-to-month</td>\n      <td>True</td>\n      <td>Electronic check</td>\n      <td>29.85</td>\n      <td>29.85</td>\n      <td>False</td>\n    </tr>\n    <tr>\n      <th>1</th>\n      <td>5575-GNVDE</td>\n      <td>Male</td>\n      <td>0</td>\n      <td>False</td>\n      <td>False</td>\n      <td>34</td>\n      <td>True</td>\n      <td>No</td>\n      <td>DSL</td>\n      <td>Yes</td>\n      <td>...</td>\n      <td>Yes</td>\n      <td>No</td>\n      <td>No</td>\n      <td>No</td>\n      <td>One year</td>\n      <td>False</td>\n      <td>Mailed check</td>\n      <td>56.95</td>\n      <td>1889.50</td>\n      <td>False</td>\n    </tr>\n    <tr>\n      <th>2</th>\n      <td>3668-QPYBK</td>\n      <td>Male</td>\n      <td>0</td>\n      <td>False</td>\n      <td>False</td>\n      <td>2</td>\n      <td>True</td>\n      <td>No</td>\n      <td>DSL</td>\n      <td>Yes</td>\n      <td>...</td>\n      <td>No</td>\n      <td>No</td>\n      <td>No</td>\n      <td>No</td>\n      <td>Month-to-month</td>\n      <td>True</td>\n      <td>Mailed check</td>\n      <td>53.85</td>\n      <td>108.15</td>\n      <td>True</td>\n    </tr>\n    <tr>\n      <th>3</th>\n      <td>7795-CFOCW</td>\n      <td>Male</td>\n      <td>0</td>\n      <td>False</td>\n      <td>False</td>\n      <td>45</td>\n      <td>False</td>\n      <td>No phone service</td>\n      <td>DSL</td>\n      <td>Yes</td>\n      <td>...</td>\n      <td>Yes</td>\n      <td>Yes</td>\n      <td>No</td>\n      <td>No</td>\n      <td>One year</td>\n      <td>False</td>\n      <td>Bank transfer (automatic)</td>\n      <td>42.30</td>\n      <td>1840.75</td>\n      <td>False</td>\n    </tr>\n    <tr>\n      <th>4</th>\n      <td>9237-HQITU</td>\n      <td>Female</td>\n      <td>0</td>\n      <td>False</td>\n      <td>False</td>\n      <td>2</td>\n      <td>True</td>\n      <td>No</td>\n      <td>Fiber optic</td>\n      <td>No</td>\n      <td>...</td>\n      <td>No</td>\n      <td>No</td>\n      <td>No</td>\n      <td>No</td>\n      <td>Month-to-month</td>\n      <td>True</td>\n      <td>Electronic check</td>\n      <td>70.70</td>\n      <td>151.65</td>\n      <td>True</td>\n    </tr>\n    <tr>\n      <th>...</th>\n      <td>...</td>\n      <td>...</td>\n      <td>...</td>\n      <td>...</td>\n      <td>...</td>\n      <td>...</td>\n      <td>...</td>\n      <td>...</td>\n      <td>...</td>\n      <td>...</td>\n      <td>...</td>\n      <td>...</td>\n      <td>...</td>\n      <td>...</td>\n      <td>...</td>\n      <td>...</td>\n      <td>...</td>\n      <td>...</td>\n      <td>...</td>\n      <td>...</td>\n      <td>...</td>\n    </tr>\n    <tr>\n      <th>7038</th>\n      <td>6840-RESVB</td>\n      <td>Male</td>\n      <td>0</td>\n      <td>True</td>\n      <td>True</td>\n      <td>24</td>\n      <td>True</td>\n      <td>Yes</td>\n      <td>DSL</td>\n      <td>Yes</td>\n      <td>...</td>\n      <td>Yes</td>\n      <td>Yes</td>\n      <td>Yes</td>\n      <td>Yes</td>\n      <td>One year</td>\n      <td>True</td>\n      <td>Mailed check</td>\n      <td>84.80</td>\n      <td>1990.50</td>\n      <td>False</td>\n    </tr>\n    <tr>\n      <th>7039</th>\n      <td>2234-XADUH</td>\n      <td>Female</td>\n      <td>0</td>\n      <td>True</td>\n      <td>True</td>\n      <td>72</td>\n      <td>True</td>\n      <td>Yes</td>\n      <td>Fiber optic</td>\n      <td>No</td>\n      <td>...</td>\n      <td>Yes</td>\n      <td>No</td>\n      <td>Yes</td>\n      <td>Yes</td>\n      <td>One year</td>\n      <td>True</td>\n      <td>Credit card (automatic)</td>\n      <td>103.20</td>\n      <td>7362.90</td>\n      <td>False</td>\n    </tr>\n    <tr>\n      <th>7040</th>\n      <td>4801-JZAZL</td>\n      <td>Female</td>\n      <td>0</td>\n      <td>True</td>\n      <td>True</td>\n      <td>11</td>\n      <td>False</td>\n      <td>No phone service</td>\n      <td>DSL</td>\n      <td>Yes</td>\n      <td>...</td>\n      <td>No</td>\n      <td>No</td>\n      <td>No</td>\n      <td>No</td>\n      <td>Month-to-month</td>\n      <td>True</td>\n      <td>Electronic check</td>\n      <td>29.60</td>\n      <td>346.45</td>\n      <td>False</td>\n    </tr>\n    <tr>\n      <th>7041</th>\n      <td>8361-LTMKD</td>\n      <td>Male</td>\n      <td>1</td>\n      <td>True</td>\n      <td>False</td>\n      <td>4</td>\n      <td>True</td>\n      <td>Yes</td>\n      <td>Fiber optic</td>\n      <td>No</td>\n      <td>...</td>\n      <td>No</td>\n      <td>No</td>\n      <td>No</td>\n      <td>No</td>\n      <td>Month-to-month</td>\n      <td>True</td>\n      <td>Mailed check</td>\n      <td>74.40</td>\n      <td>306.60</td>\n      <td>True</td>\n    </tr>\n    <tr>\n      <th>7042</th>\n      <td>3186-AJIEK</td>\n      <td>Male</td>\n      <td>0</td>\n      <td>False</td>\n      <td>False</td>\n      <td>66</td>\n      <td>True</td>\n      <td>No</td>\n      <td>Fiber optic</td>\n      <td>Yes</td>\n      <td>...</td>\n      <td>Yes</td>\n      <td>Yes</td>\n      <td>Yes</td>\n      <td>Yes</td>\n      <td>Two year</td>\n      <td>True</td>\n      <td>Bank transfer (automatic)</td>\n      <td>105.65</td>\n      <td>6844.50</td>\n      <td>False</td>\n    </tr>\n  </tbody>\n</table>\n<p>7043 rows × 21 columns</p>\n</div>"
          },
          "metadata": {}
        }
      ],
      "execution_count": 38,
      "metadata": {
        "jupyter": {
          "source_hidden": false,
          "outputs_hidden": false
        },
        "nteract": {
          "transient": {
            "deleting": false
          }
        },
        "gather": {
          "logged": 1728379886436
        }
      }
    },
    {
      "cell_type": "code",
      "source": [
        "y"
      ],
      "outputs": [
        {
          "output_type": "execute_result",
          "execution_count": 40,
          "data": {
            "text/plain": "0       False\n1       False\n2        True\n3       False\n4        True\n        ...  \n7038    False\n7039    False\n7040    False\n7041     True\n7042    False\nName: Churn, Length: 7043, dtype: bool"
          },
          "metadata": {}
        }
      ],
      "execution_count": 40,
      "metadata": {
        "jupyter": {
          "source_hidden": false,
          "outputs_hidden": false
        },
        "nteract": {
          "transient": {
            "deleting": false
          }
        },
        "gather": {
          "logged": 1728379905283
        }
      }
    },
    {
      "cell_type": "code",
      "source": [],
      "outputs": [],
      "execution_count": null,
      "metadata": {
        "jupyter": {
          "source_hidden": false,
          "outputs_hidden": false
        },
        "nteract": {
          "transient": {
            "deleting": false
          }
        }
      }
    }
  ],
  "metadata": {
    "kernelspec": {
      "name": "python310-sdkv2",
      "language": "python",
      "display_name": "Python 3.10 - SDK v2"
    },
    "language_info": {
      "name": "python",
      "version": "3.10.14",
      "mimetype": "text/x-python",
      "codemirror_mode": {
        "name": "ipython",
        "version": 3
      },
      "pygments_lexer": "ipython3",
      "nbconvert_exporter": "python",
      "file_extension": ".py"
    },
    "microsoft": {
      "ms_spell_check": {
        "ms_spell_check_language": "en"
      },
      "host": {
        "AzureML": {
          "notebookHasBeenCompleted": true
        }
      }
    },
    "kernel_info": {
      "name": "python310-sdkv2"
    },
    "nteract": {
      "version": "nteract-front-end@1.0.0"
    }
  },
  "nbformat": 4,
  "nbformat_minor": 2
}